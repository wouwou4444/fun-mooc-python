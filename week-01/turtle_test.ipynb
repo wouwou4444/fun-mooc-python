{
 "cells": [
  {
   "cell_type": "markdown",
   "metadata": {},
   "source": [
    "**DO NOT RUN** this program in a notebook\n",
    "\n",
    "The chart will open but in a different window"
   ]
  },
  {
   "cell_type": "code",
   "execution_count": 1,
   "metadata": {},
   "outputs": [],
   "source": [
    "import turtle"
   ]
  },
  {
   "cell_type": "code",
   "execution_count": 17,
   "metadata": {},
   "outputs": [],
   "source": [
    "def triangle(n):\n",
    "    for i in range(3):\n",
    "        turtle.forward(n)\n",
    "        turtle.left(120)\n",
    "        \n",
    "def square(n):\n",
    "    for i in range(4):\n",
    "        turtle.forward(n)\n",
    "        turtle.left(90)"
   ]
  },
  {
   "cell_type": "code",
   "execution_count": 19,
   "metadata": {},
   "outputs": [],
   "source": [
    "turtle.reset()"
   ]
  },
  {
   "cell_type": "code",
   "execution_count": 20,
   "metadata": {},
   "outputs": [],
   "source": [
    "triangle(150)\n",
    "square(250)"
   ]
  },
  {
   "cell_type": "code",
   "execution_count": 22,
   "metadata": {},
   "outputs": [],
   "source": [
    "turtle.exitonclick()"
   ]
  },
  {
   "cell_type": "code",
   "execution_count": 13,
   "metadata": {},
   "outputs": [
    {
     "name": "stdout",
     "output_type": "stream",
     "text": [
      "range(0, 4)\n"
     ]
    }
   ],
   "source": [
    "print(f\"{range(4)}\")"
   ]
  },
  {
   "cell_type": "code",
   "execution_count": 11,
   "metadata": {},
   "outputs": [
    {
     "data": {
      "text/plain": [
       "range(1, 4)"
      ]
     },
     "execution_count": 11,
     "metadata": {},
     "output_type": "execute_result"
    }
   ],
   "source": [
    "range(1,4)"
   ]
  },
  {
   "cell_type": "code",
   "execution_count": 21,
   "metadata": {},
   "outputs": [
    {
     "name": "stdout",
     "output_type": "stream",
     "text": [
      "0\n",
      "1\n",
      "4\n"
     ]
    }
   ],
   "source": [
    "for i in range(3):\n",
    "    print(i**2)"
   ]
  },
  {
   "cell_type": "markdown",
   "metadata": {},
   "source": [
    "# Fractal\n",
    "\n",
    "from python mooc and Pierre-Louis Launay\n"
   ]
  },
  {
   "cell_type": "code",
   "execution_count": 30,
   "metadata": {},
   "outputs": [],
   "source": [
    "def left_triangle(length):\n",
    "    for i in range(3):\n",
    "        turtle.forward(length)\n",
    "        turtle.left(120)\n",
    "\n",
    "def fractal_side(length, fractal, proportions):\n",
    "    if fractal == 0:\n",
    "        turtle.forward(length)\n",
    "    else:\n",
    "        [l1, l2, l3]= [p*length for p in proportions]\n",
    "        fractal_side(l1, fractal-1, proportions)\n",
    "        turtle.right(60)\n",
    "        fractal_side(l2, fractal-1, proportions)\n",
    "        turtle.left(120)\n",
    "        fractal_side(l2,fractal-1, proportions)\n",
    "        turtle.right(60)\n",
    "        fractal_side(l3, fractal-1, proportions)\n",
    "\n",
    "def fractal_triangle(length, fractal, proportions):\n",
    "    for i in range(3):\n",
    "        fractal_side(length,fractal, proportions)\n",
    "        turtle.left(120)\n",
    "\n"
   ]
  },
  {
   "cell_type": "code",
   "execution_count": 38,
   "metadata": {},
   "outputs": [],
   "source": [
    "turtle.reset()\n"
   ]
  },
  {
   "cell_type": "code",
   "execution_count": 35,
   "metadata": {},
   "outputs": [],
   "source": [
    "# turtle.speed('slowest')\n",
    "turtle.speed('fastest')"
   ]
  },
  {
   "cell_type": "code",
   "execution_count": 39,
   "metadata": {},
   "outputs": [],
   "source": [
    "fractal_triangle(300, 0, (.1, .5, .4,))\n",
    "fractal_triangle(300, 1, (.1, .5, .4,))\n",
    "fractal_triangle(300, 2, (.1, .5, .4,))\n",
    "fractal_triangle(300, 3, (.1, .5, .4,))\n",
    "# fractal_triangle(300, 4, (.1, .5, .4,))\n",
    "# fractal_triangle(300, 5, (.1, .5, .4,))"
   ]
  },
  {
   "cell_type": "code",
   "execution_count": 31,
   "metadata": {},
   "outputs": [],
   "source": [
    "left_triangle(300)"
   ]
  },
  {
   "cell_type": "code",
   "execution_count": 34,
   "metadata": {},
   "outputs": [],
   "source": [
    "fractal_triangle(300, 1, (.1, .5, .4,))"
   ]
  },
  {
   "cell_type": "code",
   "execution_count": null,
   "metadata": {},
   "outputs": [],
   "source": []
  }
 ],
 "metadata": {
  "kernelspec": {
   "display_name": "Python 3",
   "language": "python",
   "name": "python3"
  },
  "language_info": {
   "codemirror_mode": {
    "name": "ipython",
    "version": 3
   },
   "file_extension": ".py",
   "mimetype": "text/x-python",
   "name": "python",
   "nbconvert_exporter": "python",
   "pygments_lexer": "ipython3",
   "version": "3.6.4"
  }
 },
 "nbformat": 4,
 "nbformat_minor": 2
}
