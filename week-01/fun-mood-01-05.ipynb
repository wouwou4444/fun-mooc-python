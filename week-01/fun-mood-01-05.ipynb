{
 "cells": [
  {
   "cell_type": "markdown",
   "metadata": {},
   "source": [
    "# Python Keywords (not to be used as variable name)"
   ]
  },
  {
   "cell_type": "markdown",
   "metadata": {},
   "source": [
    "Check documentation here : [Python Keywords](https://docs.python.org/3/reference/lexical_analysis.html#keywords)"
   ]
  },
  {
   "cell_type": "markdown",
   "metadata": {},
   "source": [
    "# Type of object\n",
    "\n",
    "function type"
   ]
  },
  {
   "cell_type": "code",
   "execution_count": 4,
   "metadata": {},
   "outputs": [
    {
     "data": {
      "text/plain": [
       "int"
      ]
     },
     "execution_count": 4,
     "metadata": {},
     "output_type": "execute_result"
    }
   ],
   "source": [
    "type(1)\n"
   ]
  },
  {
   "cell_type": "code",
   "execution_count": 5,
   "metadata": {},
   "outputs": [
    {
     "data": {
      "text/plain": [
       "str"
      ]
     },
     "execution_count": 5,
     "metadata": {},
     "output_type": "execute_result"
    }
   ],
   "source": [
    "type(\"spam\")"
   ]
  },
  {
   "cell_type": "markdown",
   "metadata": {},
   "source": [
    "# Display the modified variables for each statement\n",
    "\n",
    "Refer to the documentation on the blog [here](https://www.dataquest.io/blog/jupyter-notebook-tips-tricks-shortcuts/)"
   ]
  },
  {
   "cell_type": "code",
   "execution_count": 9,
   "metadata": {},
   "outputs": [],
   "source": [
    "from IPython.core.interactiveshell import InteractiveShell\n",
    "InteractiveShell.ast_node_interactivity = \"all\""
   ]
  },
  {
   "cell_type": "code",
   "execution_count": 4,
   "metadata": {
    "cell_style": "split"
   },
   "outputs": [
    {
     "data": {
      "text/plain": [
       "int"
      ]
     },
     "execution_count": 4,
     "metadata": {},
     "output_type": "execute_result"
    },
    {
     "data": {
      "text/plain": [
       "float"
      ]
     },
     "execution_count": 4,
     "metadata": {},
     "output_type": "execute_result"
    }
   ],
   "source": [
    "type(1)\n",
    "type(2.3)"
   ]
  },
  {
   "cell_type": "code",
   "execution_count": 5,
   "metadata": {
    "cell_style": "split"
   },
   "outputs": [
    {
     "data": {
      "text/plain": [
       "bool"
      ]
     },
     "execution_count": 5,
     "metadata": {},
     "output_type": "execute_result"
    }
   ],
   "source": [
    "type(True)"
   ]
  },
  {
   "cell_type": "code",
   "execution_count": null,
   "metadata": {},
   "outputs": [],
   "source": [
    "type(3+1J)"
   ]
  },
  {
   "cell_type": "markdown",
   "metadata": {},
   "source": [
    "# Execute Shell Commands"
   ]
  },
  {
   "cell_type": "code",
   "execution_count": 9,
   "metadata": {
    "scrolled": true
   },
   "outputs": [
    {
     "name": "stdout",
     "output_type": "stream",
     "text": [
      " Le volume dans le lecteur C s'appelle OS\n",
      " Le num‚ro de s‚rie du volume est B05F-8707\n",
      "\n",
      " R‚pertoire de C:\\Users\\valer_8804uxu\\python\\fun-mooc-python\\week-01\n",
      "\n",
      "12/05/2019  14:05    <DIR>          .\n",
      "12/05/2019  14:05    <DIR>          ..\n",
      "12/05/2019  13:49    <DIR>          .ipynb_checkpoints\n",
      "12/05/2019  12:53               643 fibonacci.py\n",
      "12/05/2019  11:41             2,294 fun-mooc-01-01.ipynb\n",
      "12/05/2019  12:11             2,495 fun-mooc-01-02.ipynb\n",
      "12/05/2019  12:49             3,757 fun-mooc-01-04.ipynb\n",
      "12/05/2019  14:05             2,795 fun-mood-01-05.ipynb\n",
      "12/05/2019  14:04               271 README.md\n",
      "12/05/2019  13:39             4,763 turtle_test.ipynb\n",
      "12/05/2019  13:01               175 turtle_test.py\n",
      "               8 fichier(s)           17,193 octets\n",
      "               3 R‚p(s)  40,017,420,288 octets libres\n"
     ]
    }
   ],
   "source": [
    "!dir"
   ]
  },
  {
   "cell_type": "markdown",
   "metadata": {},
   "source": [
    "# Mathematics "
   ]
  },
  {
   "cell_type": "markdown",
   "metadata": {},
   "source": [
    "# Extensions to jupyter notebook "
   ]
  },
  {
   "cell_type": "markdown",
   "metadata": {},
   "source": [
    "Check documentation [here](https://towardsdatascience.com/optimizing-jupyter-notebook-tips-tricks-and-nbextensions-26d75d502663)"
   ]
  },
  {
   "cell_type": "markdown",
   "metadata": {},
   "source": [
    "nbextensions\n",
    "The benefits of this extension are that it changes the defaults.\n",
    "\n",
    "To install nbextensions, execute below commands in Anaconda Prompt:\n",
    "\n",
    "    conda install -c conda-forge jupyter_contrib_nbextensions\n",
    "    conda install -c conda-forge jupyter_nbextensions_configurator\n",
    "Alternatively, you can also install nbextensions using pip:\n",
    "\n",
    "    pip show jupyter_contrib_nbextensions\n",
    "    Run pip show jupyter_contrib_nbextensions to find where notebook extensions are installed\n",
    "    Run jupyter contrib nbextensions install to install the new extension\n",
    "After installing, restart the Jupyter notebook, and you can observe a new tab Nbextensions added to the menu"
   ]
  },
  {
   "cell_type": "markdown",
   "metadata": {},
   "source": [
    "# Display the type of variables\n",
    "\n",
    "* type function\n",
    "\n",
    "* isinstance function"
   ]
  },
  {
   "cell_type": "code",
   "execution_count": 12,
   "metadata": {},
   "outputs": [
    {
     "data": {
      "text/plain": [
       "True"
      ]
     },
     "execution_count": 12,
     "metadata": {},
     "output_type": "execute_result"
    },
    {
     "data": {
      "text/plain": [
       "float"
      ]
     },
     "execution_count": 12,
     "metadata": {},
     "output_type": "execute_result"
    }
   ],
   "source": [
    "isinstance(23, int)\n",
    "type(2.3)"
   ]
  },
  {
   "cell_type": "markdown",
   "metadata": {},
   "source": [
    "# dynamic type versus static type\n",
    "\n",
    "In python, type is attached to the object and not to the variables\n",
    "\n",
    "Check type hints with **mypy** in python 3.5"
   ]
  },
  {
   "cell_type": "code",
   "execution_count": 6,
   "metadata": {},
   "outputs": [],
   "source": [
    "def sum(*largs):\n",
    "    if not largs:\n",
    "        return 0\n",
    "    result = largs[0]\n",
    "    for i in range(1, len(largs)):\n",
    "        result += largs[i]\n",
    "    return result"
   ]
  },
  {
   "cell_type": "code",
   "execution_count": 7,
   "metadata": {},
   "outputs": [
    {
     "data": {
      "text/plain": [
       "6"
      ]
     },
     "execution_count": 7,
     "metadata": {},
     "output_type": "execute_result"
    }
   ],
   "source": [
    "sum(1,2, 3)"
   ]
  },
  {
   "cell_type": "code",
   "execution_count": 10,
   "metadata": {},
   "outputs": [
    {
     "data": {
      "text/plain": [
       "['a', 'b', 'c', 0, 20, 30, 'spam', 'eggs']"
      ]
     },
     "execution_count": 10,
     "metadata": {},
     "output_type": "execute_result"
    }
   ],
   "source": [
    "liste1 = ['a', 'b', 'c']\n",
    "liste2 = [0, 20, 30]\n",
    "liste3 = ['spam', 'eggs']\n",
    "sum(liste1, liste2, liste3)"
   ]
  },
  {
   "cell_type": "code",
   "execution_count": null,
   "metadata": {},
   "outputs": [],
   "source": []
  }
 ],
 "metadata": {
  "kernelspec": {
   "display_name": "Python 3",
   "language": "python",
   "name": "python3"
  },
  "language_info": {
   "codemirror_mode": {
    "name": "ipython",
    "version": 3
   },
   "file_extension": ".py",
   "mimetype": "text/x-python",
   "name": "python",
   "nbconvert_exporter": "python",
   "pygments_lexer": "ipython3",
   "version": "3.6.4"
  }
 },
 "nbformat": 4,
 "nbformat_minor": 2
}
