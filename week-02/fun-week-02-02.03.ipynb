{
 "cells": [
  {
   "cell_type": "markdown",
   "metadata": {},
   "source": [
    "# Interact with the user\n",
    "\n",
    "## input function"
   ]
  },
  {
   "cell_type": "code",
   "execution_count": 2,
   "metadata": {},
   "outputs": [
    {
     "name": "stdout",
     "output_type": "stream",
     "text": [
      "Please, enter your birth place: Paris\n",
      "your birth place is: Paris\n"
     ]
    }
   ],
   "source": [
    "question = \"Please, enter your birth place: \"\n",
    "city_name = input(question)\n",
    "print(f\"your birth place is: {city_name}\")"
   ]
  },
  {
   "cell_type": "code",
   "execution_count": 3,
   "metadata": {},
   "outputs": [
    {
     "name": "stdout",
     "output_type": "stream",
     "text": [
      "number of operation: 10\n",
      "double time the number of operation is: 20\n"
     ]
    }
   ],
   "source": [
    "question = \"number of operation: \"\n",
    "operation_count = int(input(question))\n",
    "print(f\"double time the number of operation is: {2* int(operation_count)}\")"
   ]
  },
  {
   "cell_type": "markdown",
   "metadata": {},
   "source": [
    "## Other option with Argparse\n",
    "\n",
    "Check argParse module for other options"
   ]
  },
  {
   "cell_type": "markdown",
   "metadata": {},
   "source": [
    "# Regular expressions\n",
    "\n",
    "Documentation here : https://docs.python.org/3/library/re.html#regular-expression-syntax"
   ]
  },
  {
   "cell_type": "code",
   "execution_count": 4,
   "metadata": {},
   "outputs": [],
   "source": [
    "import re"
   ]
  },
  {
   "cell_type": "code",
   "execution_count": 6,
   "metadata": {},
   "outputs": [],
   "source": [
    "regexp = \"(.*)-(.*)\\.txt\""
   ]
  },
  {
   "cell_type": "code",
   "execution_count": 7,
   "metadata": {},
   "outputs": [],
   "source": [
    "s1 = \"abcdef.txt\""
   ]
  },
  {
   "cell_type": "code",
   "execution_count": 9,
   "metadata": {},
   "outputs": [],
   "source": [
    "match = re.match(regexp, s1)"
   ]
  },
  {
   "cell_type": "code",
   "execution_count": 11,
   "metadata": {},
   "outputs": [
    {
     "data": {
      "text/plain": [
       "True"
      ]
     },
     "execution_count": 11,
     "metadata": {},
     "output_type": "execute_result"
    }
   ],
   "source": [
    "match is None"
   ]
  },
  {
   "cell_type": "code",
   "execution_count": 12,
   "metadata": {},
   "outputs": [],
   "source": [
    "s2 = s1.replace(\"d\",\"-\")"
   ]
  },
  {
   "cell_type": "code",
   "execution_count": 13,
   "metadata": {},
   "outputs": [
    {
     "data": {
      "text/plain": [
       "'abc-ef.txt'"
      ]
     },
     "execution_count": 13,
     "metadata": {},
     "output_type": "execute_result"
    }
   ],
   "source": [
    "s2"
   ]
  },
  {
   "cell_type": "code",
   "execution_count": 14,
   "metadata": {},
   "outputs": [
    {
     "data": {
      "text/plain": [
       "'abcdef.txt'"
      ]
     },
     "execution_count": 14,
     "metadata": {},
     "output_type": "execute_result"
    }
   ],
   "source": [
    "s1"
   ]
  },
  {
   "cell_type": "code",
   "execution_count": 16,
   "metadata": {},
   "outputs": [
    {
     "ename": "TypeError",
     "evalue": "'str' object does not support item assignment",
     "output_type": "error",
     "traceback": [
      "\u001b[1;31m---------------------------------------------------------------------------\u001b[0m",
      "\u001b[1;31mTypeError\u001b[0m                                 Traceback (most recent call last)",
      "\u001b[1;32m<ipython-input-16-bc8a2deaef63>\u001b[0m in \u001b[0;36m<module>\u001b[1;34m()\u001b[0m\n\u001b[1;32m----> 1\u001b[1;33m \u001b[0ms1\u001b[0m\u001b[1;33m[\u001b[0m\u001b[1;36m3\u001b[0m\u001b[1;33m]\u001b[0m\u001b[1;33m=\u001b[0m\u001b[1;34m\"-\"\u001b[0m\u001b[1;33m\u001b[0m\u001b[0m\n\u001b[0m",
      "\u001b[1;31mTypeError\u001b[0m: 'str' object does not support item assignment"
     ]
    }
   ],
   "source": [
    "s1[3]=\"-\""
   ]
  },
  {
   "cell_type": "code",
   "execution_count": 18,
   "metadata": {},
   "outputs": [],
   "source": [
    "match2 = re.match(regexp, s2)\n"
   ]
  },
  {
   "cell_type": "code",
   "execution_count": 19,
   "metadata": {
    "cell_style": "split"
   },
   "outputs": [
    {
     "data": {
      "text/plain": [
       "'abc-ef.txt'"
      ]
     },
     "execution_count": 19,
     "metadata": {},
     "output_type": "execute_result"
    }
   ],
   "source": [
    "match2[0]\n"
   ]
  },
  {
   "cell_type": "code",
   "execution_count": 21,
   "metadata": {
    "cell_style": "split"
   },
   "outputs": [
    {
     "data": {
      "text/plain": [
       "'abc'"
      ]
     },
     "execution_count": 21,
     "metadata": {},
     "output_type": "execute_result"
    }
   ],
   "source": [
    "match2[1]"
   ]
  },
  {
   "cell_type": "code",
   "execution_count": 22,
   "metadata": {},
   "outputs": [
    {
     "data": {
      "text/plain": [
       "'ef'"
      ]
     },
     "execution_count": 22,
     "metadata": {},
     "output_type": "execute_result"
    }
   ],
   "source": [
    "match2[2]"
   ]
  },
  {
   "cell_type": "markdown",
   "metadata": {},
   "source": [
    "## Documentation\n",
    "\n",
    "Documentation sur le module re : https://docs.python.org/3/library/re.html"
   ]
  },
  {
   "cell_type": "code",
   "execution_count": 24,
   "metadata": {},
   "outputs": [],
   "source": [
    "s1 = \"OP.869.universanime.mp4\"\n",
    "s2 = \"OP.870.universanime.mp4\"\n",
    "s3 = \"OP.universanime.871.mp4\"\n",
    "s4 = \"SAO.100.universanime.mp4\""
   ]
  },
  {
   "cell_type": "code",
   "execution_count": 25,
   "metadata": {},
   "outputs": [],
   "source": [
    "list_episode = [s1, s2, s3, s4]"
   ]
  },
  {
   "cell_type": "code",
   "execution_count": 26,
   "metadata": {},
   "outputs": [
    {
     "data": {
      "text/plain": [
       "['OP.869.universanime.mp4',\n",
       " 'OP.870.universanime.mp4',\n",
       " 'OP.universanime.871.mp4',\n",
       " 'SAO.100.universanime.mp4']"
      ]
     },
     "execution_count": 26,
     "metadata": {},
     "output_type": "execute_result"
    }
   ],
   "source": [
    "list_episode"
   ]
  },
  {
   "cell_type": "raw",
   "metadata": {},
   "source": [
    "regexp = \"[a-zA-Z]+\\.\""
   ]
  },
  {
   "cell_type": "code",
   "execution_count": 27,
   "metadata": {},
   "outputs": [],
   "source": [
    "s5 = \"100.111-111\""
   ]
  },
  {
   "cell_type": "code",
   "execution_count": 29,
   "metadata": {},
   "outputs": [],
   "source": [
    "match3 = re.match(regexp,s5)"
   ]
  },
  {
   "cell_type": "code",
   "execution_count": 30,
   "metadata": {},
   "outputs": [
    {
     "data": {
      "text/plain": [
       "True"
      ]
     },
     "execution_count": 30,
     "metadata": {},
     "output_type": "execute_result"
    }
   ],
   "source": [
    "match3 is None"
   ]
  },
  {
   "cell_type": "code",
   "execution_count": 49,
   "metadata": {},
   "outputs": [],
   "source": [
    "regexp = \"100.*\""
   ]
  },
  {
   "cell_type": "code",
   "execution_count": 50,
   "metadata": {},
   "outputs": [],
   "source": [
    "match4 = re.match(regexp, s5)"
   ]
  },
  {
   "cell_type": "code",
   "execution_count": 51,
   "metadata": {},
   "outputs": [
    {
     "data": {
      "text/plain": [
       "False"
      ]
     },
     "execution_count": 51,
     "metadata": {},
     "output_type": "execute_result"
    }
   ],
   "source": [
    "match4 is None"
   ]
  },
  {
   "cell_type": "code",
   "execution_count": 52,
   "metadata": {},
   "outputs": [
    {
     "data": {
      "text/plain": [
       "'100.*'"
      ]
     },
     "execution_count": 52,
     "metadata": {},
     "output_type": "execute_result"
    }
   ],
   "source": [
    "regexp"
   ]
  },
  {
   "cell_type": "code",
   "execution_count": 53,
   "metadata": {},
   "outputs": [
    {
     "data": {
      "text/plain": [
       "'100.111-111'"
      ]
     },
     "execution_count": 53,
     "metadata": {},
     "output_type": "execute_result"
    }
   ],
   "source": [
    "match4[0]"
   ]
  },
  {
   "cell_type": "markdown",
   "metadata": {},
   "source": [
    "## re.match versus re.search\n",
    "\n",
    "**re.match** search for the regular expression at the beginning of the string whereas **re.search** at any place in the string\n",
    "\n",
    "**findall** search for all occurences"
   ]
  },
  {
   "cell_type": "code",
   "execution_count": 97,
   "metadata": {},
   "outputs": [],
   "source": [
    "regexp = r\"(?P<start>[10]+)\\..*\""
   ]
  },
  {
   "cell_type": "code",
   "execution_count": 98,
   "metadata": {},
   "outputs": [],
   "source": [
    "match5 = re.match(regexp, s5)"
   ]
  },
  {
   "cell_type": "code",
   "execution_count": 99,
   "metadata": {},
   "outputs": [
    {
     "data": {
      "text/plain": [
       "False"
      ]
     },
     "execution_count": 99,
     "metadata": {},
     "output_type": "execute_result"
    }
   ],
   "source": [
    "match5 is None"
   ]
  },
  {
   "cell_type": "code",
   "execution_count": 100,
   "metadata": {},
   "outputs": [
    {
     "name": "stdout",
     "output_type": "stream",
     "text": [
      "100.111-111 re.compile('(?P<start>[10]+)\\\\..*')\n"
     ]
    }
   ],
   "source": [
    "print(match5.string, match5.re)"
   ]
  },
  {
   "cell_type": "code",
   "execution_count": 101,
   "metadata": {},
   "outputs": [
    {
     "data": {
      "text/plain": [
       "{'start': '100'}"
      ]
     },
     "execution_count": 101,
     "metadata": {},
     "output_type": "execute_result"
    }
   ],
   "source": [
    "match5.groupdict()"
   ]
  },
  {
   "cell_type": "markdown",
   "metadata": {},
   "source": [
    "## re.search and re.findall\n",
    "\n",
    "re.findall returns an object of type list\n",
    "\n",
    "re.search and re.match return an object with diffrerent attributes"
   ]
  },
  {
   "cell_type": "code",
   "execution_count": 132,
   "metadata": {},
   "outputs": [],
   "source": [
    "s5 = \"101.001.111.000.102\""
   ]
  },
  {
   "cell_type": "code",
   "execution_count": 133,
   "metadata": {},
   "outputs": [],
   "source": [
    "regexp2 = r\"([1]+)\\.\""
   ]
  },
  {
   "cell_type": "code",
   "execution_count": 134,
   "metadata": {},
   "outputs": [],
   "source": [
    "match = re.search(regexp2, s5 )"
   ]
  },
  {
   "cell_type": "code",
   "execution_count": 135,
   "metadata": {},
   "outputs": [
    {
     "data": {
      "text/plain": [
       "False"
      ]
     },
     "execution_count": 135,
     "metadata": {},
     "output_type": "execute_result"
    }
   ],
   "source": [
    "match is None"
   ]
  },
  {
   "cell_type": "code",
   "execution_count": 136,
   "metadata": {},
   "outputs": [
    {
     "data": {
      "text/plain": [
       "('1',)"
      ]
     },
     "execution_count": 136,
     "metadata": {},
     "output_type": "execute_result"
    }
   ],
   "source": [
    "match.groups()"
   ]
  },
  {
   "cell_type": "code",
   "execution_count": 137,
   "metadata": {},
   "outputs": [
    {
     "data": {
      "text/plain": [
       "False"
      ]
     },
     "execution_count": 137,
     "metadata": {},
     "output_type": "execute_result"
    }
   ],
   "source": [
    "match = re.findall(regexp2, s5 )\n",
    "match is None"
   ]
  },
  {
   "cell_type": "code",
   "execution_count": 140,
   "metadata": {},
   "outputs": [
    {
     "name": "stdout",
     "output_type": "stream",
     "text": [
      "<class 'list'>\n"
     ]
    },
    {
     "data": {
      "text/plain": [
       "['1', '1', '111']"
      ]
     },
     "execution_count": 140,
     "metadata": {},
     "output_type": "execute_result"
    }
   ],
   "source": [
    "print(type(match))\n",
    "match"
   ]
  },
  {
   "cell_type": "markdown",
   "metadata": {},
   "source": [
    "## Use RegexObject : method re.compile \n",
    "\n",
    "In the case of many strings to search through, it's better to build the automat only once.\n"
   ]
  },
  {
   "cell_type": "code",
   "execution_count": 150,
   "metadata": {},
   "outputs": [],
   "source": [
    "regexp = \"(?P<serie>[A-Z]+)\\.(?P<episode>[0-9]+)\\.universanime\\.mp4\""
   ]
  },
  {
   "cell_type": "code",
   "execution_count": 154,
   "metadata": {},
   "outputs": [
    {
     "name": "stdout",
     "output_type": "stream",
     "text": [
      "SUBPATTERN 1 0 0\n",
      "  MAX_REPEAT 1 MAXREPEAT\n",
      "    IN\n",
      "      RANGE (65, 90)\n",
      "LITERAL 46\n",
      "SUBPATTERN 2 0 0\n",
      "  MAX_REPEAT 1 MAXREPEAT\n",
      "    IN\n",
      "      RANGE (48, 57)\n",
      "LITERAL 46\n",
      "LITERAL 117\n",
      "LITERAL 110\n",
      "LITERAL 105\n",
      "LITERAL 118\n",
      "LITERAL 101\n",
      "LITERAL 114\n",
      "LITERAL 115\n",
      "LITERAL 97\n",
      "LITERAL 110\n",
      "LITERAL 105\n",
      "LITERAL 109\n",
      "LITERAL 101\n",
      "LITERAL 46\n",
      "LITERAL 109\n",
      "LITERAL 112\n",
      "LITERAL 52\n"
     ]
    }
   ],
   "source": [
    "reg_obj = re.compile(regexp,flags=re.IGNORECASE | re.DEBUG)"
   ]
  },
  {
   "cell_type": "code",
   "execution_count": 209,
   "metadata": {},
   "outputs": [
    {
     "name": "stdout",
     "output_type": "stream",
     "text": [
      "OP episode OP.869.universanime.mp4 ('OP', '869') {'serie': 'OP', 'episode': '869'} 0 869\n",
      "OP episode OP.870.universanime.mp4 ('OP', '870') {'serie': 'OP', 'episode': '870'} 0 870\n",
      "SAO episode SAO.100.universanime.mp4 ('SAO', '100') {'serie': 'SAO', 'episode': '100'} 0 100\n"
     ]
    }
   ],
   "source": [
    "for episode in list_episode:\n",
    "    if not reg_obj.match(episode) is None:\n",
    "        match = reg_obj.match(episode)\n",
    "        print(match[1], match.lastgroup, match.group(), match.groups(), match.groupdict(), match.start(), match.group(\"episode\") ) "
   ]
  },
  {
   "cell_type": "markdown",
   "metadata": {},
   "source": [
    "## Other"
   ]
  },
  {
   "cell_type": "code",
   "execution_count": 102,
   "metadata": {},
   "outputs": [],
   "source": [
    "regexp = \"(?P<serie>[A-Z]+)\\.(?P<episode>[0-9]+)\\.universanime\\.mp4\""
   ]
  },
  {
   "cell_type": "code",
   "execution_count": 108,
   "metadata": {},
   "outputs": [],
   "source": [
    "match6 = re.match(regexp, s4)"
   ]
  },
  {
   "cell_type": "code",
   "execution_count": 114,
   "metadata": {},
   "outputs": [
    {
     "name": "stdout",
     "output_type": "stream",
     "text": [
      "SAO.100.universanime.mp4 re.compile('(?P<serie>[A-Z]+)\\\\.(?P<episode>[0-9]+)\\\\.universanime\\\\.mp4') {'serie': 'SAO', 'episode': '100'}\n"
     ]
    }
   ],
   "source": [
    "print(match6.string, match6.re, match6.groupdict()) if match6 is not None else \"no matching\""
   ]
  },
  {
   "cell_type": "code",
   "execution_count": 76,
   "metadata": {},
   "outputs": [
    {
     "name": "stdout",
     "output_type": "stream",
     "text": [
      "OP\n",
      "OP\n",
      "SAO\n"
     ]
    }
   ],
   "source": [
    "for episode in list_episode:\n",
    "    if not re.match(regexp, episode) is None:\n",
    "        print(re.match(regexp, episode)[1]) "
   ]
  },
  {
   "cell_type": "code",
   "execution_count": 117,
   "metadata": {},
   "outputs": [],
   "source": [
    "samples = ['890hj000nnm890',    # cette entrée convient\n",
    "          '123abc456def789',   # celle-ci aussi\n",
    "          '8090abababab879',   # celle-ci non\n",
    "          ]"
   ]
  },
  {
   "cell_type": "code",
   "execution_count": 118,
   "metadata": {},
   "outputs": [],
   "source": [
    "regexp3 = \"(?P<id>[0-9]+)[A-Za-z]+(?P<needle>[0-9]+)[A-Za-z]+(?P=id)\""
   ]
  },
  {
   "cell_type": "code",
   "execution_count": 120,
   "metadata": {},
   "outputs": [
    {
     "name": "stdout",
     "output_type": "stream",
     "text": [
      "REGEXP=(?P<id>[0-9]+)[A-Za-z]+(?P<needle>[0-9]+)[A-Za-z]+(?P=id)\n",
      "\n",
      "  890hj000nnm890 → <_sre.SRE_Match object; span=(0, 14), match='890hj000nnm890'>\n",
      " 123abc456def789 → None\n",
      " 8090abababab879 → None\n"
     ]
    }
   ],
   "source": [
    "print(f\"REGEXP={regexp3}\\n\")\n",
    "for sample in samples:\n",
    "    match = re.match(regexp3, sample)\n",
    "    print(f\"{sample:>16s} → {(match)}\")    "
   ]
  },
  {
   "cell_type": "markdown",
   "metadata": {},
   "source": [
    "# Syntax analysis\n",
    "\n",
    "Documentation and possible parsers :\n",
    "\n",
    "* PLY: http://www.dabeaz.com/ply/\n",
    "    * documentation: http://www.dabeaz.com/ply/ply.html\n",
    "    * examples : http://www.dabeaz.com/ply/example.html\n",
    "* pyparsing : http://pyparsing.wikispaces.com/Download+and+Installation\n"
   ]
  },
  {
   "cell_type": "code",
   "execution_count": 141,
   "metadata": {},
   "outputs": [
    {
     "data": {
      "text/plain": [
       "'spam\"'"
      ]
     },
     "execution_count": 141,
     "metadata": {},
     "output_type": "execute_result"
    }
   ],
   "source": [
    "'spam\"'"
   ]
  },
  {
   "cell_type": "code",
   "execution_count": 144,
   "metadata": {},
   "outputs": [
    {
     "data": {
      "text/plain": [
       "'\"\"'"
      ]
     },
     "execution_count": 144,
     "metadata": {},
     "output_type": "execute_result"
    }
   ],
   "source": [
    "'\"\"'"
   ]
  },
  {
   "cell_type": "code",
   "execution_count": 145,
   "metadata": {},
   "outputs": [
    {
     "data": {
      "text/plain": [
       "\"'\""
      ]
     },
     "execution_count": 145,
     "metadata": {},
     "output_type": "execute_result"
    }
   ],
   "source": [
    "\"'\""
   ]
  },
  {
   "cell_type": "code",
   "execution_count": 146,
   "metadata": {},
   "outputs": [
    {
     "ename": "SyntaxError",
     "evalue": "EOL while scanning string literal (<ipython-input-146-197f6db2089c>, line 1)",
     "output_type": "error",
     "traceback": [
      "\u001b[1;36m  File \u001b[1;32m\"<ipython-input-146-197f6db2089c>\"\u001b[1;36m, line \u001b[1;32m1\u001b[0m\n\u001b[1;33m    '\"'\"\u001b[0m\n\u001b[1;37m        ^\u001b[0m\n\u001b[1;31mSyntaxError\u001b[0m\u001b[1;31m:\u001b[0m EOL while scanning string literal\n"
     ]
    }
   ],
   "source": []
  },
  {
   "cell_type": "markdown",
   "metadata": {},
   "source": [
    "###  Exercices"
   ]
  },
  {
   "cell_type": "code",
   "execution_count": 147,
   "metadata": {},
   "outputs": [],
   "source": [
    "text = 'des urgences'\n",
    "numero = 112"
   ]
  },
  {
   "cell_type": "code",
   "execution_count": 148,
   "metadata": {},
   "outputs": [
    {
     "ename": "SyntaxError",
     "evalue": "invalid syntax (<ipython-input-148-132439a975b2>, line 1)",
     "output_type": "error",
     "traceback": [
      "\u001b[1;36m  File \u001b[1;32m\"<ipython-input-148-132439a975b2>\"\u001b[1;36m, line \u001b[1;32m1\u001b[0m\n\u001b[1;33m    'le numéro d'appel {} est le {}'.format(text, numero)\u001b[0m\n\u001b[1;37m                     ^\u001b[0m\n\u001b[1;31mSyntaxError\u001b[0m\u001b[1;31m:\u001b[0m invalid syntax\n"
     ]
    }
   ],
   "source": [
    "'le numéro d'appel {} est le {}'.format(text, numero)"
   ]
  },
  {
   "cell_type": "code",
   "execution_count": 217,
   "metadata": {},
   "outputs": [],
   "source": [
    "# regexp_pythonid = r\"[_a-zA-Z][_a-zA-Z0-9]*\"\n",
    "\n",
    "# regexp_agenda = r\"(?P<prenom>[\\w-]*):(?P<nom>[\\w-]+):?\\Z\"\n",
    "\n",
    "# regexp_phone = r\"(0|\\+33)(?P<number>[0-9]{9})\\Z\""
   ]
  },
  {
   "cell_type": "markdown",
   "metadata": {},
   "source": [
    "### Exo 3 from website https://docs.python.org/3/library/re.html#regular-expression-syntax\n",
    "\n",
    "Making a phonebook\n"
   ]
  },
  {
   "cell_type": "code",
   "execution_count": 156,
   "metadata": {},
   "outputs": [],
   "source": [
    "text = \"\"\"Ross McFluff: 834.345.1254 155 Elm Street\n",
    "...\n",
    "... Ronald Heathmore: 892.345.3428 436 Finley Avenue\n",
    "... Frank Burger: 925.541.7625 662 South Dogwood Way\n",
    "...\n",
    "...\n",
    "... Heather Albrecht: 548.326.4584 919 Park Place\"\"\""
   ]
  },
  {
   "cell_type": "code",
   "execution_count": 157,
   "metadata": {},
   "outputs": [
    {
     "data": {
      "text/plain": [
       "'Ross McFluff: 834.345.1254 155 Elm Street\\n\\nRonald Heathmore: 892.345.3428 436 Finley Avenue\\nFrank Burger: 925.541.7625 662 South Dogwood Way\\n\\n\\nHeather Albrecht: 548.326.4584 919 Park Place'"
      ]
     },
     "execution_count": 157,
     "metadata": {},
     "output_type": "execute_result"
    }
   ],
   "source": [
    "text"
   ]
  },
  {
   "cell_type": "code",
   "execution_count": 158,
   "metadata": {},
   "outputs": [
    {
     "data": {
      "text/plain": [
       "['Ross McFluff: 834.345.1254 155 Elm Street',\n",
       " 'Ronald Heathmore: 892.345.3428 436 Finley Avenue',\n",
       " 'Frank Burger: 925.541.7625 662 South Dogwood Way',\n",
       " 'Heather Albrecht: 548.326.4584 919 Park Place']"
      ]
     },
     "execution_count": 158,
     "metadata": {},
     "output_type": "execute_result"
    }
   ],
   "source": [
    "entries = re.split(\"\\n+\", text)\n",
    "entries"
   ]
  },
  {
   "cell_type": "code",
   "execution_count": 159,
   "metadata": {},
   "outputs": [
    {
     "data": {
      "text/plain": [
       "[['Ross', 'McFluff', '834.345.1254', '155 Elm Street'],\n",
       " ['Ronald', 'Heathmore', '892.345.3428', '436 Finley Avenue'],\n",
       " ['Frank', 'Burger', '925.541.7625', '662 South Dogwood Way'],\n",
       " ['Heather', 'Albrecht', '548.326.4584', '919 Park Place']]"
      ]
     },
     "execution_count": 159,
     "metadata": {},
     "output_type": "execute_result"
    }
   ],
   "source": [
    "[re.split(\":? \", entry, 3) for entry in entries]"
   ]
  },
  {
   "cell_type": "code",
   "execution_count": 160,
   "metadata": {},
   "outputs": [
    {
     "data": {
      "text/plain": [
       "[['Ross', 'McFluff', '834.345.1254', '155', 'Elm Street'],\n",
       " ['Ronald', 'Heathmore', '892.345.3428', '436', 'Finley Avenue'],\n",
       " ['Frank', 'Burger', '925.541.7625', '662', 'South Dogwood Way'],\n",
       " ['Heather', 'Albrecht', '548.326.4584', '919', 'Park Place']]"
      ]
     },
     "execution_count": 160,
     "metadata": {},
     "output_type": "execute_result"
    }
   ],
   "source": [
    "[re.split(\":? \", entry, 4) for entry in entries]"
   ]
  },
  {
   "cell_type": "code",
   "execution_count": 161,
   "metadata": {},
   "outputs": [
    {
     "data": {
      "text/plain": [
       "[['Ross', 'McFluff', '834.345.1254', '155', 'Elm', 'Street'],\n",
       " ['Ronald', 'Heathmore', '892.345.3428', '436', 'Finley', 'Avenue'],\n",
       " ['Frank', 'Burger', '925.541.7625', '662', 'South', 'Dogwood Way'],\n",
       " ['Heather', 'Albrecht', '548.326.4584', '919', 'Park', 'Place']]"
      ]
     },
     "execution_count": 161,
     "metadata": {},
     "output_type": "execute_result"
    }
   ],
   "source": [
    "[re.split(\":? \", entry, 5) for entry in entries]"
   ]
  },
  {
   "cell_type": "code",
   "execution_count": 162,
   "metadata": {},
   "outputs": [
    {
     "data": {
      "text/plain": [
       "[['Ross', 'McFluff', '834.345.1254 155 Elm Street'],\n",
       " ['Ronald', 'Heathmore', '892.345.3428 436 Finley Avenue'],\n",
       " ['Frank', 'Burger', '925.541.7625 662 South Dogwood Way'],\n",
       " ['Heather', 'Albrecht', '548.326.4584 919 Park Place']]"
      ]
     },
     "execution_count": 162,
     "metadata": {},
     "output_type": "execute_result"
    }
   ],
   "source": [
    "[re.split(\":? \", entry, 2) for entry in entries]"
   ]
  },
  {
   "cell_type": "markdown",
   "metadata": {},
   "source": [
    "### Text munging "
   ]
  },
  {
   "cell_type": "code",
   "execution_count": 164,
   "metadata": {},
   "outputs": [
    {
     "data": {
      "text/plain": [
       "'Pessrofor Alleabmodk, psalee rorept your aescbens pptlomry.'"
      ]
     },
     "execution_count": 164,
     "metadata": {},
     "output_type": "execute_result"
    }
   ],
   "source": [
    "import random\n",
    "def repl(m):\n",
    "     inner_word = list(m.group(2))\n",
    "     random.shuffle(inner_word)\n",
    "     return m.group(1) + \"\".join(inner_word) + m.group(3)\n",
    "text = \"Professor Abdolmalek, please report your absences promptly.\"\n",
    "re.sub(r\"(\\w)(\\w+)(\\w)\", repl, text)\n",
    "# 'Poefsrosr Aealmlobdk, pslaee reorpt your abnseces plmrptoy.'\n",
    "re.sub(r\"(\\w)(\\w+)(\\w)\", repl, text)\n",
    "# 'Pofsroser Aodlambelk, plasee reoprt yuor asnebces potlmrpy.'"
   ]
  },
  {
   "cell_type": "markdown",
   "metadata": {},
   "source": [
    "##  Text tokenizer"
   ]
  },
  {
   "cell_type": "code",
   "execution_count": 165,
   "metadata": {},
   "outputs": [],
   "source": [
    "import collections\n",
    "import re"
   ]
  },
  {
   "cell_type": "code",
   "execution_count": 166,
   "metadata": {},
   "outputs": [],
   "source": [
    "Token = collections.namedtuple('Token', ['type', 'value', \"line\", \"column\"])"
   ]
  },
  {
   "cell_type": "code",
   "execution_count": 167,
   "metadata": {},
   "outputs": [
    {
     "data": {
      "text/plain": [
       "__main__.Token"
      ]
     },
     "execution_count": 167,
     "metadata": {},
     "output_type": "execute_result"
    }
   ],
   "source": [
    "Token"
   ]
  },
  {
   "cell_type": "code",
   "execution_count": 168,
   "metadata": {},
   "outputs": [
    {
     "data": {
      "text/plain": [
       "Token(type='ID', value='s1', line='2', column='1')"
      ]
     },
     "execution_count": 168,
     "metadata": {},
     "output_type": "execute_result"
    }
   ],
   "source": [
    "Token(\"ID\", \"s1\", \"2\", \"1\")"
   ]
  },
  {
   "cell_type": "code",
   "execution_count": 169,
   "metadata": {},
   "outputs": [
    {
     "data": {
      "text/plain": [
       "Token(type='ID', value='s2', line='3', column='1')"
      ]
     },
     "execution_count": 169,
     "metadata": {},
     "output_type": "execute_result"
    }
   ],
   "source": [
    "Token(\"ID\", \"s2\", \"3\", \"1\")"
   ]
  },
  {
   "cell_type": "code",
   "execution_count": 170,
   "metadata": {},
   "outputs": [
    {
     "data": {
      "text/plain": [
       "__main__.Token"
      ]
     },
     "execution_count": 170,
     "metadata": {},
     "output_type": "execute_result"
    }
   ],
   "source": [
    "Token"
   ]
  },
  {
   "cell_type": "code",
   "execution_count": 173,
   "metadata": {},
   "outputs": [
    {
     "ename": "TypeError",
     "evalue": "'type' object is not iterable",
     "output_type": "error",
     "traceback": [
      "\u001b[1;31m---------------------------------------------------------------------------\u001b[0m",
      "\u001b[1;31mTypeError\u001b[0m                                 Traceback (most recent call last)",
      "\u001b[1;32m<ipython-input-173-fd41565a67d7>\u001b[0m in \u001b[0;36m<module>\u001b[1;34m()\u001b[0m\n\u001b[1;32m----> 1\u001b[1;33m \u001b[1;32mfor\u001b[0m \u001b[0mtoken\u001b[0m \u001b[1;32min\u001b[0m \u001b[0mToken\u001b[0m\u001b[1;33m:\u001b[0m\u001b[1;33m\u001b[0m\u001b[0m\n\u001b[0m\u001b[0;32m      2\u001b[0m     \u001b[0mprint\u001b[0m\u001b[1;33m(\u001b[0m\u001b[0mtoken\u001b[0m\u001b[1;33m)\u001b[0m\u001b[1;33m\u001b[0m\u001b[0m\n",
      "\u001b[1;31mTypeError\u001b[0m: 'type' object is not iterable"
     ]
    }
   ],
   "source": [
    "for token in Token:\n",
    "    print(token)"
   ]
  },
  {
   "cell_type": "code",
   "execution_count": 172,
   "metadata": {},
   "outputs": [
    {
     "name": "stdout",
     "output_type": "stream",
     "text": [
      "Token(type='IF', value='IF', line=2, column=4)\n",
      "Token(type='ID', value='quantity', line=2, column=7)\n",
      "Token(type='THEN', value='THEN', line=2, column=16)\n",
      "Token(type='ID', value='total', line=3, column=8)\n",
      "Token(type='ASSIGN', value=':=', line=3, column=14)\n",
      "Token(type='ID', value='total', line=3, column=17)\n",
      "Token(type='OP', value='+', line=3, column=23)\n",
      "Token(type='ID', value='price', line=3, column=25)\n",
      "Token(type='OP', value='*', line=3, column=31)\n",
      "Token(type='ID', value='quantity', line=3, column=33)\n",
      "Token(type='END', value=';', line=3, column=41)\n",
      "Token(type='ID', value='tax', line=4, column=8)\n",
      "Token(type='ASSIGN', value=':=', line=4, column=12)\n",
      "Token(type='ID', value='price', line=4, column=15)\n",
      "Token(type='OP', value='*', line=4, column=21)\n",
      "Token(type='NUMBER', value=0.05, line=4, column=23)\n",
      "Token(type='END', value=';', line=4, column=27)\n",
      "Token(type='ENDIF', value='ENDIF', line=5, column=4)\n",
      "Token(type='END', value=';', line=5, column=9)\n"
     ]
    }
   ],
   "source": [
    "def tokenize(code):\n",
    "    keywords = {'IF', 'THEN', 'ENDIF', 'FOR', 'NEXT', 'GOSUB', 'RETURN'}\n",
    "    token_specification = [\n",
    "        ('NUMBER',   r'\\d+(\\.\\d*)?'),  # Integer or decimal number\n",
    "        ('ASSIGN',   r':='),           # Assignment operator\n",
    "        ('END',      r';'),            # Statement terminator\n",
    "        ('ID',       r'[A-Za-z]+'),    # Identifiers\n",
    "        ('OP',       r'[+\\-*/]'),      # Arithmetic operators\n",
    "        ('NEWLINE',  r'\\n'),           # Line endings\n",
    "        ('SKIP',     r'[ \\t]+'),       # Skip over spaces and tabs\n",
    "        ('MISMATCH', r'.'),            # Any other character\n",
    "    ]\n",
    "    tok_regex = '|'.join('(?P<%s>%s)' % pair for pair in token_specification)\n",
    "    line_num = 1\n",
    "    line_start = 0\n",
    "    for mo in re.finditer(tok_regex, code):\n",
    "        kind = mo.lastgroup\n",
    "        value = mo.group()\n",
    "        column = mo.start() - line_start\n",
    "        if kind == 'NUMBER':\n",
    "            value = float(value) if '.' in value else int(value)\n",
    "        elif kind == 'ID' and value in keywords:\n",
    "            kind = value\n",
    "        elif kind == 'NEWLINE':\n",
    "            line_start = mo.end()\n",
    "            line_num += 1\n",
    "            continue\n",
    "        elif kind == 'SKIP':\n",
    "            continue\n",
    "        elif kind == 'MISMATCH':\n",
    "            raise RuntimeError(f'{value!r} unexpected on line {line_num}')\n",
    "        yield Token(kind, value, line_num, column)\n",
    "\n",
    "statements = '''\n",
    "    IF quantity THEN\n",
    "        total := total + price * quantity;\n",
    "        tax := price * 0.05;\n",
    "    ENDIF;\n",
    "'''\n",
    "\n",
    "for token in tokenize(statements):\n",
    "    print(token)"
   ]
  },
  {
   "cell_type": "code",
   "execution_count": 215,
   "metadata": {},
   "outputs": [
    {
     "data": {
      "text/plain": [
       "'\\n    IF quantity THEN\\n        total := total + price * quantity;\\n        tax := price * 0.05;\\n    ENDIF;\\n'"
      ]
     },
     "execution_count": 215,
     "metadata": {},
     "output_type": "execute_result"
    }
   ],
   "source": [
    "statements"
   ]
  },
  {
   "cell_type": "code",
   "execution_count": 216,
   "metadata": {},
   "outputs": [
    {
     "data": {
      "text/plain": [
       "[('', '', '', '', '', '', '\\n', '', ''),\n",
       " ('', '', '', '', '', '', '', '    ', ''),\n",
       " ('', '', '', '', 'IF', '', '', '', ''),\n",
       " ('', '', '', '', '', '', '', ' ', ''),\n",
       " ('', '', '', '', 'quantity', '', '', '', ''),\n",
       " ('', '', '', '', '', '', '', ' ', ''),\n",
       " ('', '', '', '', 'THEN', '', '', '', ''),\n",
       " ('', '', '', '', '', '', '\\n', '', ''),\n",
       " ('', '', '', '', '', '', '', '        ', ''),\n",
       " ('', '', '', '', 'total', '', '', '', ''),\n",
       " ('', '', '', '', '', '', '', ' ', ''),\n",
       " ('', '', ':=', '', '', '', '', '', ''),\n",
       " ('', '', '', '', '', '', '', ' ', ''),\n",
       " ('', '', '', '', 'total', '', '', '', ''),\n",
       " ('', '', '', '', '', '', '', ' ', ''),\n",
       " ('', '', '', '', '', '+', '', '', ''),\n",
       " ('', '', '', '', '', '', '', ' ', ''),\n",
       " ('', '', '', '', 'price', '', '', '', ''),\n",
       " ('', '', '', '', '', '', '', ' ', ''),\n",
       " ('', '', '', '', '', '*', '', '', ''),\n",
       " ('', '', '', '', '', '', '', ' ', ''),\n",
       " ('', '', '', '', 'quantity', '', '', '', ''),\n",
       " ('', '', '', ';', '', '', '', '', ''),\n",
       " ('', '', '', '', '', '', '\\n', '', ''),\n",
       " ('', '', '', '', '', '', '', '        ', ''),\n",
       " ('', '', '', '', 'tax', '', '', '', ''),\n",
       " ('', '', '', '', '', '', '', ' ', ''),\n",
       " ('', '', ':=', '', '', '', '', '', ''),\n",
       " ('', '', '', '', '', '', '', ' ', ''),\n",
       " ('', '', '', '', 'price', '', '', '', ''),\n",
       " ('', '', '', '', '', '', '', ' ', ''),\n",
       " ('', '', '', '', '', '*', '', '', ''),\n",
       " ('', '', '', '', '', '', '', ' ', ''),\n",
       " ('0.05', '.05', '', '', '', '', '', '', ''),\n",
       " ('', '', '', ';', '', '', '', '', ''),\n",
       " ('', '', '', '', '', '', '\\n', '', ''),\n",
       " ('', '', '', '', '', '', '', '    ', ''),\n",
       " ('', '', '', '', 'ENDIF', '', '', '', ''),\n",
       " ('', '', '', ';', '', '', '', '', ''),\n",
       " ('', '', '', '', '', '', '\\n', '', '')]"
      ]
     },
     "execution_count": 216,
     "metadata": {},
     "output_type": "execute_result"
    }
   ],
   "source": [
    "re.findall(tok_regex, statements)"
   ]
  },
  {
   "cell_type": "code",
   "execution_count": 199,
   "metadata": {},
   "outputs": [],
   "source": [
    "    token_specification = [\n",
    "        ('NUMBER',   r'\\d+(\\.\\d*)?'),  # Integer or decimal number\n",
    "        ('ASSIGN',   r':='),           # Assignment operator\n",
    "        ('END',      r';'),            # Statement terminator\n",
    "        ('ID',       r'[A-Za-z]+'),    # Identifiers\n",
    "        ('OP',       r'[+\\-*/]'),      # Arithmetic operators\n",
    "        ('NEWLINE',  r'\\n'),           # Line endings\n",
    "        ('SKIP',     r'[ \\t]+'),       # Skip over spaces and tabs\n",
    "        ('MISMATCH', r'.'),            # Any other character\n",
    "    ]\n",
    "    tok_regex = '|'.join('(?P<%s>%s)' % pair for pair in token_specification)"
   ]
  },
  {
   "cell_type": "code",
   "execution_count": 200,
   "metadata": {},
   "outputs": [
    {
     "data": {
      "text/plain": [
       "[('NUMBER', '\\\\d+(\\\\.\\\\d*)?'),\n",
       " ('ASSIGN', ':='),\n",
       " ('END', ';'),\n",
       " ('ID', '[A-Za-z]+'),\n",
       " ('OP', '[+\\\\-*/]'),\n",
       " ('NEWLINE', '\\\\n'),\n",
       " ('SKIP', '[ \\\\t]+'),\n",
       " ('MISMATCH', '.')]"
      ]
     },
     "execution_count": 200,
     "metadata": {},
     "output_type": "execute_result"
    }
   ],
   "source": [
    "token_specification"
   ]
  },
  {
   "cell_type": "code",
   "execution_count": 203,
   "metadata": {},
   "outputs": [
    {
     "data": {
      "text/plain": [
       "'(?P<NUMBER>\\\\d+(\\\\.\\\\d*)?)|(?P<ASSIGN>:=)|(?P<END>;)|(?P<ID>[A-Za-z]+)|(?P<OP>[+\\\\-*/])|(?P<NEWLINE>\\\\n)|(?P<SKIP>[ \\\\t]+)|(?P<MISMATCH>.)'"
      ]
     },
     "execution_count": 203,
     "metadata": {},
     "output_type": "execute_result"
    }
   ],
   "source": [
    "tok_regex"
   ]
  },
  {
   "cell_type": "code",
   "execution_count": 202,
   "metadata": {},
   "outputs": [
    {
     "name": "stdout",
     "output_type": "stream",
     "text": [
      "(?P<NUMBER>\\d+(\\.\\d*)?)\n",
      "(?P<ASSIGN>:=)\n",
      "(?P<END>;)\n",
      "(?P<ID>[A-Za-z]+)\n",
      "(?P<OP>[+\\-*/])\n",
      "(?P<NEWLINE>\\n)\n",
      "(?P<SKIP>[ \\t]+)\n",
      "(?P<MISMATCH>.)\n"
     ]
    }
   ],
   "source": [
    "for i in ('(?P<%s>%s)' % pair for pair in token_specification):\n",
    "    print(i)"
   ]
  },
  {
   "cell_type": "code",
   "execution_count": 211,
   "metadata": {},
   "outputs": [],
   "source": [
    "match11 = re.match(tok_regex, statements)"
   ]
  },
  {
   "cell_type": "code",
   "execution_count": 214,
   "metadata": {},
   "outputs": [
    {
     "name": "stdout",
     "output_type": "stream",
     "text": [
      "{'NUMBER': None, 'ASSIGN': None, 'END': None, 'ID': None, 'OP': None, 'NEWLINE': '\\n', 'SKIP': None, 'MISMATCH': None} NEWLINE\n"
     ]
    }
   ],
   "source": [
    "if match11:\n",
    "    print(match11.groupdict(), match11.lastgroup)"
   ]
  },
  {
   "cell_type": "code",
   "execution_count": 198,
   "metadata": {},
   "outputs": [],
   "source": [
    "list_tokens = tokenize(statements)"
   ]
  },
  {
   "cell_type": "code",
   "execution_count": 185,
   "metadata": {},
   "outputs": [
    {
     "data": {
      "text/plain": [
       "generator"
      ]
     },
     "execution_count": 185,
     "metadata": {},
     "output_type": "execute_result"
    }
   ],
   "source": [
    "type(list_tokens)"
   ]
  },
  {
   "cell_type": "code",
   "execution_count": 186,
   "metadata": {},
   "outputs": [
    {
     "data": {
      "text/plain": [
       "<generator object tokenize at 0x000001EDCD14BF10>"
      ]
     },
     "execution_count": 186,
     "metadata": {},
     "output_type": "execute_result"
    }
   ],
   "source": [
    "list_tokens"
   ]
  },
  {
   "cell_type": "code",
   "execution_count": 180,
   "metadata": {},
   "outputs": [],
   "source": [
    "list_tokens.close()"
   ]
  },
  {
   "cell_type": "code",
   "execution_count": 190,
   "metadata": {},
   "outputs": [],
   "source": [
    "for i in list_tokens:\n",
    "    print(i)"
   ]
  },
  {
   "cell_type": "markdown",
   "metadata": {},
   "source": [
    "# Debuger"
   ]
  },
  {
   "cell_type": "code",
   "execution_count": 191,
   "metadata": {},
   "outputs": [],
   "source": [
    "import pdb"
   ]
  },
  {
   "cell_type": "code",
   "execution_count": 193,
   "metadata": {},
   "outputs": [],
   "source": [
    "pdb.set_trace?"
   ]
  },
  {
   "cell_type": "code",
   "execution_count": 194,
   "metadata": {},
   "outputs": [
    {
     "data": {
      "text/plain": [
       "'\\n    IF quantity THEN\\n        total := total + price * quantity;\\n        tax := price * 0.05;\\n    ENDIF;\\n'"
      ]
     },
     "execution_count": 194,
     "metadata": {},
     "output_type": "execute_result"
    }
   ],
   "source": [
    "statements"
   ]
  },
  {
   "cell_type": "code",
   "execution_count": 196,
   "metadata": {},
   "outputs": [
    {
     "name": "stdout",
     "output_type": "stream",
     "text": [
      "--Call--\n",
      "> d:\\programdata\\anaconda3\\lib\\site-packages\\ipython\\core\\displayhook.py(247)__call__()\n",
      "-> def __call__(self, result=None):\n",
      "(Pdb) tokenize(statements)\n",
      "*** NameError: name 'statements' is not defined\n",
      "(Pdb) \n",
      "*** NameError: name 'statements' is not defined\n",
      "(Pdb) \n",
      "*** NameError: name 'statements' is not defined\n",
      "(Pdb) quit()\n"
     ]
    },
    {
     "ename": "BdbQuit",
     "evalue": "",
     "output_type": "error",
     "traceback": [
      "\u001b[1;31m---------------------------------------------------------------------------\u001b[0m",
      "\u001b[1;31mBdbQuit\u001b[0m                                   Traceback (most recent call last)",
      "\u001b[1;32m<ipython-input-196-54799d9a0260>\u001b[0m in \u001b[0;36m<module>\u001b[1;34m()\u001b[0m\n\u001b[1;32m----> 1\u001b[1;33m \u001b[0mpdb\u001b[0m\u001b[1;33m.\u001b[0m\u001b[0mset_trace\u001b[0m\u001b[1;33m(\u001b[0m\u001b[1;33m)\u001b[0m\u001b[1;33m\u001b[0m\u001b[0m\n\u001b[0m",
      "\u001b[1;32md:\\ProgramData\\Anaconda3\\lib\\site-packages\\IPython\\core\\displayhook.py\u001b[0m in \u001b[0;36m__call__\u001b[1;34m(self, result)\u001b[0m\n\u001b[0;32m    245\u001b[0m         \u001b[0msys\u001b[0m\u001b[1;33m.\u001b[0m\u001b[0mstdout\u001b[0m\u001b[1;33m.\u001b[0m\u001b[0mflush\u001b[0m\u001b[1;33m(\u001b[0m\u001b[1;33m)\u001b[0m\u001b[1;33m\u001b[0m\u001b[0m\n\u001b[0;32m    246\u001b[0m \u001b[1;33m\u001b[0m\u001b[0m\n\u001b[1;32m--> 247\u001b[1;33m     \u001b[1;32mdef\u001b[0m \u001b[0m__call__\u001b[0m\u001b[1;33m(\u001b[0m\u001b[0mself\u001b[0m\u001b[1;33m,\u001b[0m \u001b[0mresult\u001b[0m\u001b[1;33m=\u001b[0m\u001b[1;32mNone\u001b[0m\u001b[1;33m)\u001b[0m\u001b[1;33m:\u001b[0m\u001b[1;33m\u001b[0m\u001b[0m\n\u001b[0m\u001b[0;32m    248\u001b[0m         \"\"\"Printing with history cache management.\n\u001b[0;32m    249\u001b[0m \u001b[1;33m\u001b[0m\u001b[0m\n",
      "\u001b[1;32md:\\ProgramData\\Anaconda3\\lib\\bdb.py\u001b[0m in \u001b[0;36mtrace_dispatch\u001b[1;34m(self, frame, event, arg)\u001b[0m\n\u001b[0;32m     48\u001b[0m             \u001b[1;32mreturn\u001b[0m \u001b[0mself\u001b[0m\u001b[1;33m.\u001b[0m\u001b[0mdispatch_line\u001b[0m\u001b[1;33m(\u001b[0m\u001b[0mframe\u001b[0m\u001b[1;33m)\u001b[0m\u001b[1;33m\u001b[0m\u001b[0m\n\u001b[0;32m     49\u001b[0m         \u001b[1;32mif\u001b[0m \u001b[0mevent\u001b[0m \u001b[1;33m==\u001b[0m \u001b[1;34m'call'\u001b[0m\u001b[1;33m:\u001b[0m\u001b[1;33m\u001b[0m\u001b[0m\n\u001b[1;32m---> 50\u001b[1;33m             \u001b[1;32mreturn\u001b[0m \u001b[0mself\u001b[0m\u001b[1;33m.\u001b[0m\u001b[0mdispatch_call\u001b[0m\u001b[1;33m(\u001b[0m\u001b[0mframe\u001b[0m\u001b[1;33m,\u001b[0m \u001b[0marg\u001b[0m\u001b[1;33m)\u001b[0m\u001b[1;33m\u001b[0m\u001b[0m\n\u001b[0m\u001b[0;32m     51\u001b[0m         \u001b[1;32mif\u001b[0m \u001b[0mevent\u001b[0m \u001b[1;33m==\u001b[0m \u001b[1;34m'return'\u001b[0m\u001b[1;33m:\u001b[0m\u001b[1;33m\u001b[0m\u001b[0m\n\u001b[0;32m     52\u001b[0m             \u001b[1;32mreturn\u001b[0m \u001b[0mself\u001b[0m\u001b[1;33m.\u001b[0m\u001b[0mdispatch_return\u001b[0m\u001b[1;33m(\u001b[0m\u001b[0mframe\u001b[0m\u001b[1;33m,\u001b[0m \u001b[0marg\u001b[0m\u001b[1;33m)\u001b[0m\u001b[1;33m\u001b[0m\u001b[0m\n",
      "\u001b[1;32md:\\ProgramData\\Anaconda3\\lib\\bdb.py\u001b[0m in \u001b[0;36mdispatch_call\u001b[1;34m(self, frame, arg)\u001b[0m\n\u001b[0;32m     81\u001b[0m             \u001b[1;32mreturn\u001b[0m \u001b[0mself\u001b[0m\u001b[1;33m.\u001b[0m\u001b[0mtrace_dispatch\u001b[0m\u001b[1;33m\u001b[0m\u001b[0m\n\u001b[0;32m     82\u001b[0m         \u001b[0mself\u001b[0m\u001b[1;33m.\u001b[0m\u001b[0muser_call\u001b[0m\u001b[1;33m(\u001b[0m\u001b[0mframe\u001b[0m\u001b[1;33m,\u001b[0m \u001b[0marg\u001b[0m\u001b[1;33m)\u001b[0m\u001b[1;33m\u001b[0m\u001b[0m\n\u001b[1;32m---> 83\u001b[1;33m         \u001b[1;32mif\u001b[0m \u001b[0mself\u001b[0m\u001b[1;33m.\u001b[0m\u001b[0mquitting\u001b[0m\u001b[1;33m:\u001b[0m \u001b[1;32mraise\u001b[0m \u001b[0mBdbQuit\u001b[0m\u001b[1;33m\u001b[0m\u001b[0m\n\u001b[0m\u001b[0;32m     84\u001b[0m         \u001b[1;32mreturn\u001b[0m \u001b[0mself\u001b[0m\u001b[1;33m.\u001b[0m\u001b[0mtrace_dispatch\u001b[0m\u001b[1;33m\u001b[0m\u001b[0m\n\u001b[0;32m     85\u001b[0m \u001b[1;33m\u001b[0m\u001b[0m\n",
      "\u001b[1;31mBdbQuit\u001b[0m: "
     ]
    }
   ],
   "source": [
    "pdb.set_trace()"
   ]
  },
  {
   "cell_type": "markdown",
   "metadata": {},
   "source": [
    "## Advanced exo "
   ]
  },
  {
   "cell_type": "code",
   "execution_count": 218,
   "metadata": {},
   "outputs": [],
   "source": [
    "s1 = \"http://www.google.com/a/b\""
   ]
  },
  {
   "cell_type": "code",
   "execution_count": 261,
   "metadata": {},
   "outputs": [],
   "source": [
    "regexp_url = \"(?i)(?P<proto>(http|ftp|https|ssh))://((?P<user>[\\w\\d]+)(:(?P<password>[^:]+))*@)*(?P<hostname>[\\w\\d\\._]+)(:(?P<port>\\d+))*/(?P<path>.*)\"\n"
   ]
  },
  {
   "cell_type": "code",
   "execution_count": 262,
   "metadata": {},
   "outputs": [],
   "source": [
    "m1 = re.search(regexp_url, s1)"
   ]
  },
  {
   "cell_type": "code",
   "execution_count": 263,
   "metadata": {},
   "outputs": [
    {
     "name": "stdout",
     "output_type": "stream",
     "text": [
      "{'proto': 'http', 'user': None, 'password': None, 'hostname': 'www.google.com', 'port': None, 'path': 'a/b'}\n"
     ]
    }
   ],
   "source": [
    "if m1:\n",
    "    print(m1.groupdict())"
   ]
  },
  {
   "cell_type": "code",
   "execution_count": null,
   "metadata": {},
   "outputs": [],
   "source": []
  }
 ],
 "metadata": {
  "kernelspec": {
   "display_name": "Python 3",
   "language": "python",
   "name": "python3"
  },
  "language_info": {
   "codemirror_mode": {
    "name": "ipython",
    "version": 3
   },
   "file_extension": ".py",
   "mimetype": "text/x-python",
   "name": "python",
   "nbconvert_exporter": "python",
   "pygments_lexer": "ipython3",
   "version": "3.6.4"
  }
 },
 "nbformat": 4,
 "nbformat_minor": 2
}
