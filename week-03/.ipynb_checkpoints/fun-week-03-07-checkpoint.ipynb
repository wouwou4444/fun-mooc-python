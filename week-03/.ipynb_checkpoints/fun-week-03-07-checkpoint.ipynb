{
 "cells": [
  {
   "cell_type": "markdown",
   "metadata": {},
   "source": [
    "# Shared references : shallow copy and deepcopy"
   ]
  },
  {
   "cell_type": "code",
   "execution_count": 2,
   "metadata": {},
   "outputs": [
    {
     "name": "stdout",
     "output_type": "stream",
     "text": [
      "[0, 1, 2, 3, 4, 5, 6, 7, 8, 9, [10, 11, 12]]\n"
     ]
    }
   ],
   "source": [
    "a = list(range(10))\n",
    "\n",
    "a.append([10, 11, 12])\n",
    "\n",
    "print(a)\n",
    "\n",
    "b = a\n",
    "\n",
    "c = a[:]\n",
    "\n",
    "import copy\n",
    "\n",
    "d = copy.deepcopy(a)"
   ]
  },
  {
   "cell_type": "code",
   "execution_count": 3,
   "metadata": {},
   "outputs": [
    {
     "name": "stdout",
     "output_type": "stream",
     "text": [
      "[0, 'un', 2, 3, 4, 5, 6, 7, 8, 9, [10, 11, 12]]\n",
      "[0, 'un', 2, 3, 4, 5, 6, 7, 8, 9, [10, 11, 12]]\n",
      "[0, 1, 2, 3, 4, 5, 6, 7, 8, 9, [10, 11, 12]]\n",
      "[0, 1, 2, 3, 4, 5, 6, 7, 8, 9, [10, 11, 12]]\n"
     ]
    }
   ],
   "source": [
    "a[1] = \"un\"\n",
    "print(a)\n",
    "print(b)\n",
    "print(c)\n",
    "print(d)"
   ]
  },
  {
   "cell_type": "markdown",
   "metadata": {},
   "source": [
    "## Deep copy"
   ]
  },
  {
   "cell_type": "code",
   "execution_count": 4,
   "metadata": {},
   "outputs": [
    {
     "name": "stdout",
     "output_type": "stream",
     "text": [
      "[0, 'un', 2, 3, 4, 5, 6, 7, 8, 9, [10, 'onze', 12]]\n",
      "[0, 'un', 2, 3, 4, 5, 6, 7, 8, 9, [10, 'onze', 12]]\n",
      "[0, 1, 2, 3, 4, 5, 6, 7, 8, 9, [10, 'onze', 12]]\n",
      "[0, 1, 2, 3, 4, 5, 6, 7, 8, 9, [10, 11, 12]]\n"
     ]
    }
   ],
   "source": [
    "a[10][1] = \"onze\"\n",
    "print(a)\n",
    "print(b)\n",
    "print(c)\n",
    "print(d)"
   ]
  },
  {
   "cell_type": "code",
   "execution_count": null,
   "metadata": {},
   "outputs": [],
   "source": []
  }
 ],
 "metadata": {
  "kernelspec": {
   "display_name": "Python 3",
   "language": "python",
   "name": "python3"
  },
  "language_info": {
   "codemirror_mode": {
    "name": "ipython",
    "version": 3
   },
   "file_extension": ".py",
   "mimetype": "text/x-python",
   "name": "python",
   "nbconvert_exporter": "python",
   "pygments_lexer": "ipython3",
   "version": "3.7.3"
  }
 },
 "nbformat": 4,
 "nbformat_minor": 2
}
