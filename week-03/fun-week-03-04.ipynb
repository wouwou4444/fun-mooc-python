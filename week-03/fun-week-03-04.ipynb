{
 "cells": [
  {
   "cell_type": "markdown",
   "metadata": {},
   "source": [
    "# Hash and Dictionary\n",
    "\n",
    "Documentation on dict : https://docs.python.org/3/library/stdtypes.html#mapping-types-dict"
   ]
  },
  {
   "cell_type": "code",
   "execution_count": 2,
   "metadata": {},
   "outputs": [
    {
     "data": {
      "text/plain": [
       "True"
      ]
     },
     "execution_count": 2,
     "metadata": {},
     "output_type": "execute_result"
    }
   ],
   "source": [
    "a = dict(one=1, two=2, three=3)\n",
    "b = {'one': 1, 'two': 2, 'three': 3}\n",
    "c = dict(zip(['one', 'two', 'three'], [1, 2, 3]))\n",
    "d = dict([('two', 2), ('one', 1), ('three', 3)])\n",
    "e = dict({'three': 3, 'one': 1, 'two': 2})\n",
    "a == b == c == d == e\n"
   ]
  },
  {
   "cell_type": "code",
   "execution_count": 3,
   "metadata": {},
   "outputs": [
    {
     "data": {
      "text/plain": [
       "{'one': 1, 'two': 2, 'three': 3}"
      ]
     },
     "execution_count": 3,
     "metadata": {},
     "output_type": "execute_result"
    }
   ],
   "source": [
    "a"
   ]
  },
  {
   "cell_type": "code",
   "execution_count": 4,
   "metadata": {},
   "outputs": [
    {
     "data": {
      "text/plain": [
       "{'one': 1, 'two': 2, 'three': 3}"
      ]
     },
     "execution_count": 4,
     "metadata": {},
     "output_type": "execute_result"
    }
   ],
   "source": [
    "b"
   ]
  },
  {
   "cell_type": "code",
   "execution_count": 5,
   "metadata": {},
   "outputs": [
    {
     "data": {
      "text/plain": [
       "dict"
      ]
     },
     "execution_count": 5,
     "metadata": {},
     "output_type": "execute_result"
    }
   ],
   "source": [
    "type(a)"
   ]
  },
  {
   "cell_type": "code",
   "execution_count": 6,
   "metadata": {},
   "outputs": [
    {
     "data": {
      "text/plain": [
       "dict_items"
      ]
     },
     "execution_count": 6,
     "metadata": {},
     "output_type": "execute_result"
    }
   ],
   "source": [
    "type(a.items())"
   ]
  },
  {
   "cell_type": "code",
   "execution_count": 7,
   "metadata": {},
   "outputs": [
    {
     "data": {
      "text/plain": [
       "dict_items([('one', 1), ('two', 2), ('three', 3)])"
      ]
     },
     "execution_count": 7,
     "metadata": {},
     "output_type": "execute_result"
    }
   ],
   "source": [
    "a.items()"
   ]
  },
  {
   "cell_type": "code",
   "execution_count": 8,
   "metadata": {},
   "outputs": [],
   "source": [
    "f = {\"two\": 2.0, \"three\": 3.00, \"four\": 4.0}"
   ]
  },
  {
   "cell_type": "code",
   "execution_count": 9,
   "metadata": {},
   "outputs": [
    {
     "data": {
      "text/plain": [
       "{'two': 2.0, 'three': 3.0, 'four': 4.0}"
      ]
     },
     "execution_count": 9,
     "metadata": {},
     "output_type": "execute_result"
    }
   ],
   "source": [
    "f"
   ]
  },
  {
   "cell_type": "markdown",
   "metadata": {},
   "source": [
    "## Update a dict from another dict"
   ]
  },
  {
   "cell_type": "code",
   "execution_count": 10,
   "metadata": {},
   "outputs": [],
   "source": [
    "a.update(f)"
   ]
  },
  {
   "cell_type": "code",
   "execution_count": 11,
   "metadata": {},
   "outputs": [
    {
     "data": {
      "text/plain": [
       "{'one': 1, 'two': 2.0, 'three': 3.0, 'four': 4.0}"
      ]
     },
     "execution_count": 11,
     "metadata": {},
     "output_type": "execute_result"
    }
   ],
   "source": [
    "a"
   ]
  },
  {
   "cell_type": "markdown",
   "metadata": {},
   "source": [
    "## collections.defaultdict : initialization"
   ]
  },
  {
   "cell_type": "markdown",
   "metadata": {},
   "source": [
    "### Not an elegant example"
   ]
  },
  {
   "cell_type": "code",
   "execution_count": 12,
   "metadata": {},
   "outputs": [],
   "source": [
    "tuples = [\n",
    "    (1, 2),\n",
    "    (2, 1),\n",
    "    (1, 3),\n",
    "    (2, 4),\n",
    "]"
   ]
  },
  {
   "cell_type": "code",
   "execution_count": 13,
   "metadata": {},
   "outputs": [
    {
     "data": {
      "text/plain": [
       "[(1, 2), (2, 1), (1, 3), (2, 4)]"
      ]
     },
     "execution_count": 13,
     "metadata": {},
     "output_type": "execute_result"
    }
   ],
   "source": [
    "tuples"
   ]
  },
  {
   "cell_type": "code",
   "execution_count": 15,
   "metadata": {},
   "outputs": [
    {
     "name": "stdout",
     "output_type": "stream",
     "text": [
      "1 [2, 3]\n",
      "2 [1, 4]\n"
     ]
    }
   ],
   "source": [
    "outcome_dict = {}\n",
    "\n",
    "for x, y in tuples:\n",
    "    if x not in outcome_dict:\n",
    "        outcome_dict[x] = []\n",
    "    outcome_dict[x].append(y)\n",
    "\n",
    "for key, value in outcome_dict.items():\n",
    "    print(key, value)"
   ]
  },
  {
   "cell_type": "markdown",
   "metadata": {},
   "source": [
    "### Use defaultdict collection to define the type of the values"
   ]
  },
  {
   "cell_type": "code",
   "execution_count": 16,
   "metadata": {},
   "outputs": [],
   "source": [
    "tuples = [\n",
    "    (1, 2),\n",
    "    (2, 7),\n",
    "    (1, 3),\n",
    "    (2, 4),\n",
    "    (2, 11),\n",
    "    (5, 12),\n",
    "    (5, 41),\n",
    "    (1, 14),\n",
    "    (8, 19),\n",
    "]"
   ]
  },
  {
   "cell_type": "code",
   "execution_count": 17,
   "metadata": {},
   "outputs": [
    {
     "name": "stdout",
     "output_type": "stream",
     "text": [
      "1 [2, 3, 14]\n",
      "2 [7, 4, 11]\n",
      "5 [12, 41]\n",
      "8 [19]\n"
     ]
    }
   ],
   "source": [
    "from collections import defaultdict\n",
    "\n",
    "outcome_dict2 = defaultdict(list)\n",
    "\n",
    "# No need to check if the key exists\n",
    "for x, y in tuples:\n",
    "    outcome_dict2[x].append(y)\n",
    "\n",
    "for key, value in outcome_dict2.items():\n",
    "    print(key, value)"
   ]
  },
  {
   "cell_type": "code",
   "execution_count": 23,
   "metadata": {},
   "outputs": [],
   "source": [
    "char_count = defaultdict(int)\n",
    "word_count = defaultdict(int)\n",
    "\n",
    "sentence = \"\"\"I must say? you are quite a clever one\n",
    "I probably won't be of much help.\n",
    "it's a one versus one\n",
    "\"\"\"\n",
    "\n",
    "for c in sentence:\n",
    "    char_count[c] += 1\n",
    "\n",
    "for word in sentence.split():\n",
    "    word_count[word] += 1"
   ]
  },
  {
   "cell_type": "code",
   "execution_count": 24,
   "metadata": {
    "scrolled": true
   },
   "outputs": [
    {
     "data": {
      "text/plain": [
       "defaultdict(int,\n",
       "            {'I': 2,\n",
       "             ' ': 18,\n",
       "             'm': 2,\n",
       "             'u': 5,\n",
       "             's': 5,\n",
       "             't': 4,\n",
       "             'a': 5,\n",
       "             'y': 3,\n",
       "             '?': 1,\n",
       "             'o': 7,\n",
       "             'r': 4,\n",
       "             'e': 10,\n",
       "             'q': 1,\n",
       "             'i': 2,\n",
       "             'c': 2,\n",
       "             'l': 3,\n",
       "             'v': 2,\n",
       "             'n': 4,\n",
       "             '\\n': 3,\n",
       "             'p': 2,\n",
       "             'b': 3,\n",
       "             'w': 1,\n",
       "             \"'\": 2,\n",
       "             'f': 1,\n",
       "             'h': 2,\n",
       "             '.': 1})"
      ]
     },
     "execution_count": 24,
     "metadata": {},
     "output_type": "execute_result"
    }
   ],
   "source": [
    "char_count"
   ]
  },
  {
   "cell_type": "code",
   "execution_count": 25,
   "metadata": {},
   "outputs": [
    {
     "data": {
      "text/plain": [
       "defaultdict(int,\n",
       "            {'I': 2,\n",
       "             'must': 1,\n",
       "             'say?': 1,\n",
       "             'you': 1,\n",
       "             'are': 1,\n",
       "             'quite': 1,\n",
       "             'a': 2,\n",
       "             'clever': 1,\n",
       "             'one': 3,\n",
       "             'probably': 1,\n",
       "             \"won't\": 1,\n",
       "             'be': 1,\n",
       "             'of': 1,\n",
       "             'much': 1,\n",
       "             'help.': 1,\n",
       "             \"it's\": 1,\n",
       "             'versus': 1})"
      ]
     },
     "execution_count": 25,
     "metadata": {},
     "output_type": "execute_result"
    }
   ],
   "source": [
    "word_count"
   ]
  },
  {
   "cell_type": "markdown",
   "metadata": {},
   "source": [
    "## Dictionary view objects"
   ]
  },
  {
   "cell_type": "markdown",
   "metadata": {},
   "source": [
    "dict.keys(), dict.values() and dict.items() are view objects.\n",
    "\n",
    "they provide dynamic view on dict entries"
   ]
  },
  {
   "cell_type": "code",
   "execution_count": null,
   "metadata": {},
   "outputs": [],
   "source": []
  },
  {
   "cell_type": "markdown",
   "metadata": {},
   "source": [
    "## Dict comprehension example"
   ]
  },
  {
   "cell_type": "code",
   "execution_count": 28,
   "metadata": {},
   "outputs": [],
   "source": [
    "people = [\n",
    "    {'name': 'Pierre',  'age': 25, 'email': 'avf@ccc.com'},\n",
    "    {'name': 'Paul',    'age': 18, 'email': 'sdf@aaaaaa.com'},\n",
    "    {'name': 'Jacques', 'age': 52, 'email': 'sfsddsa.afez@example.com'},\n",
    "]"
   ]
  },
  {
   "cell_type": "code",
   "execution_count": 29,
   "metadata": {},
   "outputs": [],
   "source": [
    "index_by_name = {person['name']:person for person in people}"
   ]
  },
  {
   "cell_type": "code",
   "execution_count": 31,
   "metadata": {},
   "outputs": [
    {
     "data": {
      "text/plain": [
       "{'Pierre': {'name': 'Pierre', 'age': 25, 'email': 'avf@ccc.com'},\n",
       " 'Paul': {'name': 'Paul', 'age': 18, 'email': 'sdf@aaaaaa.com'},\n",
       " 'Jacques': {'name': 'Jacques',\n",
       "  'age': 52,\n",
       "  'email': 'sfsddsa.afez@example.com'}}"
      ]
     },
     "execution_count": 31,
     "metadata": {},
     "output_type": "execute_result"
    }
   ],
   "source": [
    "index_by_name"
   ]
  },
  {
   "cell_type": "code",
   "execution_count": 32,
   "metadata": {},
   "outputs": [
    {
     "data": {
      "text/plain": [
       "25"
      ]
     },
     "execution_count": 32,
     "metadata": {},
     "output_type": "execute_result"
    }
   ],
   "source": [
    "index_by_name['Pierre']['age']"
   ]
  },
  {
   "cell_type": "markdown",
   "metadata": {},
   "source": [
    "## Implementation with Class (from Inria Python 3 classes)"
   ]
  },
  {
   "cell_type": "code",
   "execution_count": 42,
   "metadata": {},
   "outputs": [],
   "source": [
    "class Personne:\n",
    "\n",
    "    # le constructeur - vous ignorez le paramètre self,\n",
    "    # 3 paramètres\n",
    "    def __init__(self, name, age, email):\n",
    "        self.name = name\n",
    "        self.age = age\n",
    "        self.email = email\n",
    "\n",
    "    # je définis cette méthode pour avoir\n",
    "    # quelque chose de lisible quand je print()\n",
    "    def __repr__(self):\n",
    "        return f\"{self.name} ({self.age} years) contact@ {self.email}\""
   ]
  },
  {
   "cell_type": "code",
   "execution_count": 43,
   "metadata": {},
   "outputs": [],
   "source": [
    "personnes2 = [\n",
    "    Personne('Pierre',  25, 'pierre@example.com'),\n",
    "    Personne('Paul',    18, 'paul@example.com'),\n",
    "    Personne('Jacques', 52, 'jacques@example.com'),\n",
    "]"
   ]
  },
  {
   "cell_type": "code",
   "execution_count": 44,
   "metadata": {},
   "outputs": [
    {
     "data": {
      "text/plain": [
       "[Pierre (25 years) contact@ pierre@example.com,\n",
       " Paul (18 years) contact@ paul@example.com,\n",
       " Jacques (52 years) contact@ jacques@example.com]"
      ]
     },
     "execution_count": 44,
     "metadata": {},
     "output_type": "execute_result"
    }
   ],
   "source": [
    "personnes2"
   ]
  },
  {
   "cell_type": "code",
   "execution_count": 46,
   "metadata": {},
   "outputs": [],
   "source": [
    "index2 = {personne.name : personne for personne in personnes2}"
   ]
  },
  {
   "cell_type": "code",
   "execution_count": 47,
   "metadata": {},
   "outputs": [
    {
     "data": {
      "text/plain": [
       "{'Pierre': Pierre (25 years) contact@ pierre@example.com,\n",
       " 'Paul': Paul (18 years) contact@ paul@example.com,\n",
       " 'Jacques': Jacques (52 years) contact@ jacques@example.com}"
      ]
     },
     "execution_count": 47,
     "metadata": {},
     "output_type": "execute_result"
    }
   ],
   "source": [
    "index2"
   ]
  },
  {
   "cell_type": "code",
   "execution_count": 48,
   "metadata": {},
   "outputs": [
    {
     "data": {
      "text/plain": [
       "Paul (18 years) contact@ paul@example.com"
      ]
     },
     "execution_count": 48,
     "metadata": {},
     "output_type": "execute_result"
    }
   ],
   "source": [
    "index2['Paul']"
   ]
  },
  {
   "cell_type": "code",
   "execution_count": null,
   "metadata": {},
   "outputs": [],
   "source": []
  }
 ],
 "metadata": {
  "kernelspec": {
   "display_name": "Python 3",
   "language": "python",
   "name": "python3"
  },
  "language_info": {
   "codemirror_mode": {
    "name": "ipython",
    "version": 3
   },
   "file_extension": ".py",
   "mimetype": "text/x-python",
   "name": "python",
   "nbconvert_exporter": "python",
   "pygments_lexer": "ipython3",
   "version": "3.7.3"
  }
 },
 "nbformat": 4,
 "nbformat_minor": 2
}
