{
 "cells": [
  {
   "cell_type": "markdown",
   "metadata": {},
   "source": [
    "# Hash and Dictionary\n",
    "\n",
    "Documentation on dict : https://docs.python.org/3/library/stdtypes.html#mapping-types-dict"
   ]
  },
  {
   "cell_type": "code",
   "execution_count": 2,
   "metadata": {},
   "outputs": [
    {
     "data": {
      "text/plain": [
       "True"
      ]
     },
     "execution_count": 2,
     "metadata": {},
     "output_type": "execute_result"
    }
   ],
   "source": [
    "a = dict(one=1, two=2, three=3)\n",
    "b = {'one': 1, 'two': 2, 'three': 3}\n",
    "c = dict(zip(['one', 'two', 'three'], [1, 2, 3]))\n",
    "d = dict([('two', 2), ('one', 1), ('three', 3)])\n",
    "e = dict({'three': 3, 'one': 1, 'two': 2})\n",
    "a == b == c == d == e\n"
   ]
  },
  {
   "cell_type": "code",
   "execution_count": 3,
   "metadata": {},
   "outputs": [
    {
     "data": {
      "text/plain": [
       "{'one': 1, 'two': 2, 'three': 3}"
      ]
     },
     "execution_count": 3,
     "metadata": {},
     "output_type": "execute_result"
    }
   ],
   "source": [
    "a"
   ]
  },
  {
   "cell_type": "code",
   "execution_count": 4,
   "metadata": {},
   "outputs": [
    {
     "data": {
      "text/plain": [
       "{'one': 1, 'two': 2, 'three': 3}"
      ]
     },
     "execution_count": 4,
     "metadata": {},
     "output_type": "execute_result"
    }
   ],
   "source": [
    "b"
   ]
  },
  {
   "cell_type": "code",
   "execution_count": 5,
   "metadata": {},
   "outputs": [
    {
     "data": {
      "text/plain": [
       "dict"
      ]
     },
     "execution_count": 5,
     "metadata": {},
     "output_type": "execute_result"
    }
   ],
   "source": [
    "type(a)"
   ]
  },
  {
   "cell_type": "code",
   "execution_count": 6,
   "metadata": {},
   "outputs": [
    {
     "data": {
      "text/plain": [
       "dict_items"
      ]
     },
     "execution_count": 6,
     "metadata": {},
     "output_type": "execute_result"
    }
   ],
   "source": [
    "type(a.items())"
   ]
  },
  {
   "cell_type": "code",
   "execution_count": 7,
   "metadata": {},
   "outputs": [
    {
     "data": {
      "text/plain": [
       "dict_items([('one', 1), ('two', 2), ('three', 3)])"
      ]
     },
     "execution_count": 7,
     "metadata": {},
     "output_type": "execute_result"
    }
   ],
   "source": [
    "a.items()"
   ]
  },
  {
   "cell_type": "code",
   "execution_count": 8,
   "metadata": {},
   "outputs": [],
   "source": [
    "f = {\"two\": 2.0, \"three\": 3.00, \"four\": 4.0}"
   ]
  },
  {
   "cell_type": "code",
   "execution_count": 9,
   "metadata": {},
   "outputs": [
    {
     "data": {
      "text/plain": [
       "{'two': 2.0, 'three': 3.0, 'four': 4.0}"
      ]
     },
     "execution_count": 9,
     "metadata": {},
     "output_type": "execute_result"
    }
   ],
   "source": [
    "f"
   ]
  },
  {
   "cell_type": "markdown",
   "metadata": {},
   "source": [
    "## Update a dict from another dict"
   ]
  },
  {
   "cell_type": "code",
   "execution_count": 10,
   "metadata": {},
   "outputs": [],
   "source": [
    "a.update(f)"
   ]
  },
  {
   "cell_type": "code",
   "execution_count": 11,
   "metadata": {},
   "outputs": [
    {
     "data": {
      "text/plain": [
       "{'one': 1, 'two': 2.0, 'three': 3.0, 'four': 4.0}"
      ]
     },
     "execution_count": 11,
     "metadata": {},
     "output_type": "execute_result"
    }
   ],
   "source": [
    "a"
   ]
  },
  {
   "cell_type": "markdown",
   "metadata": {},
   "source": [
    "## collections.defaultdict : initialization"
   ]
  },
  {
   "cell_type": "markdown",
   "metadata": {},
   "source": [
    "### Not an elegant example"
   ]
  },
  {
   "cell_type": "code",
   "execution_count": 12,
   "metadata": {},
   "outputs": [],
   "source": [
    "tuples = [\n",
    "    (1, 2),\n",
    "    (2, 1),\n",
    "    (1, 3),\n",
    "    (2, 4),\n",
    "]"
   ]
  },
  {
   "cell_type": "code",
   "execution_count": 13,
   "metadata": {},
   "outputs": [
    {
     "data": {
      "text/plain": [
       "[(1, 2), (2, 1), (1, 3), (2, 4)]"
      ]
     },
     "execution_count": 13,
     "metadata": {},
     "output_type": "execute_result"
    }
   ],
   "source": [
    "tuples"
   ]
  },
  {
   "cell_type": "code",
   "execution_count": 15,
   "metadata": {},
   "outputs": [
    {
     "name": "stdout",
     "output_type": "stream",
     "text": [
      "1 [2, 3]\n",
      "2 [1, 4]\n"
     ]
    }
   ],
   "source": [
    "outcome_dict = {}\n",
    "\n",
    "for x, y in tuples:\n",
    "    if x not in outcome_dict:\n",
    "        outcome_dict[x] = []\n",
    "    outcome_dict[x].append(y)\n",
    "\n",
    "for key, value in outcome_dict.items():\n",
    "    print(key, value)"
   ]
  },
  {
   "cell_type": "markdown",
   "metadata": {},
   "source": [
    "### Use defaultdict collection to define the type of the values"
   ]
  },
  {
   "cell_type": "code",
   "execution_count": 16,
   "metadata": {},
   "outputs": [],
   "source": [
    "tuples = [\n",
    "    (1, 2),\n",
    "    (2, 7),\n",
    "    (1, 3),\n",
    "    (2, 4),\n",
    "    (2, 11),\n",
    "    (5, 12),\n",
    "    (5, 41),\n",
    "    (1, 14),\n",
    "    (8, 19),\n",
    "]"
   ]
  },
  {
   "cell_type": "code",
   "execution_count": 17,
   "metadata": {},
   "outputs": [
    {
     "name": "stdout",
     "output_type": "stream",
     "text": [
      "1 [2, 3, 14]\n",
      "2 [7, 4, 11]\n",
      "5 [12, 41]\n",
      "8 [19]\n"
     ]
    }
   ],
   "source": [
    "from collections import defaultdict\n",
    "\n",
    "outcome_dict2 = defaultdict(list)\n",
    "\n",
    "# No need to check if the key exists\n",
    "for x, y in tuples:\n",
    "    outcome_dict2[x].append(y)\n",
    "\n",
    "for key, value in outcome_dict2.items():\n",
    "    print(key, value)"
   ]
  },
  {
   "cell_type": "code",
   "execution_count": 23,
   "metadata": {},
   "outputs": [],
   "source": [
    "char_count = defaultdict(int)\n",
    "word_count = defaultdict(int)\n",
    "\n",
    "sentence = \"\"\"I must say? you are quite a clever one\n",
    "I probably won't be of much help.\n",
    "it's a one versus one\n",
    "\"\"\"\n",
    "\n",
    "for c in sentence:\n",
    "    char_count[c] += 1\n",
    "\n",
    "for word in sentence.split():\n",
    "    word_count[word] += 1"
   ]
  },
  {
   "cell_type": "code",
   "execution_count": 24,
   "metadata": {
    "scrolled": true
   },
   "outputs": [
    {
     "data": {
      "text/plain": [
       "defaultdict(int,\n",
       "            {'I': 2,\n",
       "             ' ': 18,\n",
       "             'm': 2,\n",
       "             'u': 5,\n",
       "             's': 5,\n",
       "             't': 4,\n",
       "             'a': 5,\n",
       "             'y': 3,\n",
       "             '?': 1,\n",
       "             'o': 7,\n",
       "             'r': 4,\n",
       "             'e': 10,\n",
       "             'q': 1,\n",
       "             'i': 2,\n",
       "             'c': 2,\n",
       "             'l': 3,\n",
       "             'v': 2,\n",
       "             'n': 4,\n",
       "             '\\n': 3,\n",
       "             'p': 2,\n",
       "             'b': 3,\n",
       "             'w': 1,\n",
       "             \"'\": 2,\n",
       "             'f': 1,\n",
       "             'h': 2,\n",
       "             '.': 1})"
      ]
     },
     "execution_count": 24,
     "metadata": {},
     "output_type": "execute_result"
    }
   ],
   "source": [
    "char_count"
   ]
  },
  {
   "cell_type": "code",
   "execution_count": 25,
   "metadata": {},
   "outputs": [
    {
     "data": {
      "text/plain": [
       "defaultdict(int,\n",
       "            {'I': 2,\n",
       "             'must': 1,\n",
       "             'say?': 1,\n",
       "             'you': 1,\n",
       "             'are': 1,\n",
       "             'quite': 1,\n",
       "             'a': 2,\n",
       "             'clever': 1,\n",
       "             'one': 3,\n",
       "             'probably': 1,\n",
       "             \"won't\": 1,\n",
       "             'be': 1,\n",
       "             'of': 1,\n",
       "             'much': 1,\n",
       "             'help.': 1,\n",
       "             \"it's\": 1,\n",
       "             'versus': 1})"
      ]
     },
     "execution_count": 25,
     "metadata": {},
     "output_type": "execute_result"
    }
   ],
   "source": [
    "word_count"
   ]
  },
  {
   "cell_type": "markdown",
   "metadata": {},
   "source": [
    "## Dictionary view objects"
   ]
  },
  {
   "cell_type": "markdown",
   "metadata": {},
   "source": [
    "dict.keys(), dict.values() and dict.items() are view objects.\n",
    "\n",
    "they provide dynamic view on dict entries"
   ]
  },
  {
   "cell_type": "code",
   "execution_count": null,
   "metadata": {},
   "outputs": [],
   "source": []
  },
  {
   "cell_type": "markdown",
   "metadata": {},
   "source": [
    "## Dict comprehension example"
   ]
  },
  {
   "cell_type": "code",
   "execution_count": 28,
   "metadata": {},
   "outputs": [],
   "source": [
    "people = [\n",
    "    {'name': 'Pierre',  'age': 25, 'email': 'avf@ccc.com'},\n",
    "    {'name': 'Paul',    'age': 18, 'email': 'sdf@aaaaaa.com'},\n",
    "    {'name': 'Jacques', 'age': 52, 'email': 'sfsddsa.afez@example.com'},\n",
    "]"
   ]
  },
  {
   "cell_type": "code",
   "execution_count": 29,
   "metadata": {},
   "outputs": [],
   "source": [
    "index_by_name = {person['name']:person for person in people}"
   ]
  },
  {
   "cell_type": "code",
   "execution_count": 31,
   "metadata": {},
   "outputs": [
    {
     "data": {
      "text/plain": [
       "{'Pierre': {'name': 'Pierre', 'age': 25, 'email': 'avf@ccc.com'},\n",
       " 'Paul': {'name': 'Paul', 'age': 18, 'email': 'sdf@aaaaaa.com'},\n",
       " 'Jacques': {'name': 'Jacques',\n",
       "  'age': 52,\n",
       "  'email': 'sfsddsa.afez@example.com'}}"
      ]
     },
     "execution_count": 31,
     "metadata": {},
     "output_type": "execute_result"
    }
   ],
   "source": [
    "index_by_name"
   ]
  },
  {
   "cell_type": "code",
   "execution_count": 32,
   "metadata": {},
   "outputs": [
    {
     "data": {
      "text/plain": [
       "25"
      ]
     },
     "execution_count": 32,
     "metadata": {},
     "output_type": "execute_result"
    }
   ],
   "source": [
    "index_by_name['Pierre']['age']"
   ]
  },
  {
   "cell_type": "markdown",
   "metadata": {},
   "source": [
    "## Implementation with Class (from Inria Python 3 classes)"
   ]
  },
  {
   "cell_type": "code",
   "execution_count": 42,
   "metadata": {},
   "outputs": [],
   "source": [
    "class Personne:\n",
    "\n",
    "    # le constructeur - vous ignorez le paramètre self,\n",
    "    # 3 paramètres\n",
    "    def __init__(self, name, age, email):\n",
    "        self.name = name\n",
    "        self.age = age\n",
    "        self.email = email\n",
    "\n",
    "    # je définis cette méthode pour avoir\n",
    "    # quelque chose de lisible quand je print()\n",
    "    def __repr__(self):\n",
    "        return f\"{self.name} ({self.age} years) contact@ {self.email}\""
   ]
  },
  {
   "cell_type": "code",
   "execution_count": 43,
   "metadata": {},
   "outputs": [],
   "source": [
    "personnes2 = [\n",
    "    Personne('Pierre',  25, 'pierre@example.com'),\n",
    "    Personne('Paul',    18, 'paul@example.com'),\n",
    "    Personne('Jacques', 52, 'jacques@example.com'),\n",
    "]"
   ]
  },
  {
   "cell_type": "code",
   "execution_count": 44,
   "metadata": {},
   "outputs": [
    {
     "data": {
      "text/plain": [
       "[Pierre (25 years) contact@ pierre@example.com,\n",
       " Paul (18 years) contact@ paul@example.com,\n",
       " Jacques (52 years) contact@ jacques@example.com]"
      ]
     },
     "execution_count": 44,
     "metadata": {},
     "output_type": "execute_result"
    }
   ],
   "source": [
    "personnes2"
   ]
  },
  {
   "cell_type": "code",
   "execution_count": 46,
   "metadata": {},
   "outputs": [],
   "source": [
    "index2 = {personne.name : personne for personne in personnes2}"
   ]
  },
  {
   "cell_type": "code",
   "execution_count": 47,
   "metadata": {},
   "outputs": [
    {
     "data": {
      "text/plain": [
       "{'Pierre': Pierre (25 years) contact@ pierre@example.com,\n",
       " 'Paul': Paul (18 years) contact@ paul@example.com,\n",
       " 'Jacques': Jacques (52 years) contact@ jacques@example.com}"
      ]
     },
     "execution_count": 47,
     "metadata": {},
     "output_type": "execute_result"
    }
   ],
   "source": [
    "index2"
   ]
  },
  {
   "cell_type": "code",
   "execution_count": 48,
   "metadata": {},
   "outputs": [
    {
     "data": {
      "text/plain": [
       "Paul (18 years) contact@ paul@example.com"
      ]
     },
     "execution_count": 48,
     "metadata": {},
     "output_type": "execute_result"
    }
   ],
   "source": [
    "index2['Paul']"
   ]
  },
  {
   "cell_type": "markdown",
   "metadata": {},
   "source": [
    "## Exo 2"
   ]
  },
  {
   "cell_type": "code",
   "execution_count": 1,
   "metadata": {},
   "outputs": [],
   "source": [
    "extended = [[255801560, 49.3815, -4.412167, '2013-10-08T21:51:00', 'AUTOPRIDE', 'PT', '', 'ZEEBRUGGE'],\n",
    "           [227844000, 47.23206, -2.913887, '2013-10-08T21:51:00', 'NEPTUNE III', 'FR', '', ''],\n",
    "           [227254910, 49.94479, -5.137455, '2013-10-08T21:51:00', 'LAURELINE', 'FR', '', 'CHERBOURG'],]"
   ]
  },
  {
   "cell_type": "code",
   "execution_count": 2,
   "metadata": {},
   "outputs": [
    {
     "data": {
      "text/plain": [
       "3"
      ]
     },
     "execution_count": 2,
     "metadata": {},
     "output_type": "execute_result"
    }
   ],
   "source": [
    "len(extended)"
   ]
  },
  {
   "cell_type": "code",
   "execution_count": 3,
   "metadata": {},
   "outputs": [],
   "source": [
    "abbreviated = [[227844000, 47.13057, -3.126982, '2013-10-08T22:58:00'],\n",
    "              [992271012, 47.64748, -3.509307, '2013-10-08T22:56:00'],\n",
    "              [255801560, 49.25383, -4.784833, '2013-10-08T22:59:00'],]"
   ]
  },
  {
   "cell_type": "code",
   "execution_count": 4,
   "metadata": {},
   "outputs": [],
   "source": [
    "import json\n",
    "with open(\"marine-e1-ext.json\", \"r\", encoding=\"utf-8\") as json_extended:\n",
    "    extended_full = json.load(json_extended)\n",
    "\n",
    "with open(\"marine-e1-abb.json\", \"r\", encoding= \"utf-8\") as json_abbreviated:\n",
    "    abbreviated_full = json.load(json_abbreviated)"
   ]
  },
  {
   "cell_type": "code",
   "execution_count": 5,
   "metadata": {},
   "outputs": [
    {
     "data": {
      "text/plain": [
       "132"
      ]
     },
     "execution_count": 5,
     "metadata": {},
     "output_type": "execute_result"
    }
   ],
   "source": [
    "len(extended_full)"
   ]
  },
  {
   "cell_type": "code",
   "execution_count": 6,
   "metadata": {},
   "outputs": [
    {
     "data": {
      "text/plain": [
       "132"
      ]
     },
     "execution_count": 6,
     "metadata": {},
     "output_type": "execute_result"
    }
   ],
   "source": [
    "len(abbreviated_full)"
   ]
  },
  {
   "cell_type": "code",
   "execution_count": 8,
   "metadata": {},
   "outputs": [
    {
     "data": {
      "text/plain": [
       "[992271012,\n",
       " 47.64744,\n",
       " -3.509282,\n",
       " '2013-10-08T21:50:00',\n",
       " 'PENMEN',\n",
       " 'FR',\n",
       " '',\n",
       " '',\n",
       " '',\n",
       " '',\n",
       " '',\n",
       " 10,\n",
       " 10,\n",
       " 0,\n",
       " '',\n",
       " '',\n",
       " '']"
      ]
     },
     "execution_count": 8,
     "metadata": {},
     "output_type": "execute_result"
    }
   ],
   "source": [
    "extended_full[0]"
   ]
  },
  {
   "cell_type": "code",
   "execution_count": 50,
   "metadata": {},
   "outputs": [],
   "source": [
    "def merge(extended, abbreviated):\n",
    "    from collections import defaultdict\n",
    "\n",
    "    merged_boat = defaultdict(list)\n",
    "\n",
    "    # merged_boat\n",
    "\n",
    "    for boat in extended:\n",
    "        if boat[0] not in merged_boat:\n",
    "            merged_boat[boat[0]].extend([boat[4], boat[5]])\n",
    "        merged_boat[boat[0]].append(tuple(boat[1:4]))\n",
    "\n",
    "    for boat in abbreviated:\n",
    "        merged_boat[boat[0]].append(tuple(boat[1:4]))\n",
    "        \n",
    "    return merged_boat"
   ]
  },
  {
   "cell_type": "code",
   "execution_count": 11,
   "metadata": {},
   "outputs": [
    {
     "data": {
      "text/plain": [
       "6"
      ]
     },
     "execution_count": 11,
     "metadata": {},
     "output_type": "execute_result"
    }
   ],
   "source": [
    "len(extended + abbreviated)"
   ]
  },
  {
   "cell_type": "code",
   "execution_count": 18,
   "metadata": {},
   "outputs": [
    {
     "data": {
      "text/plain": [
       "{255801560: 255801560,\n",
       " 227844000: 227844000,\n",
       " 227254910: 227254910,\n",
       " 992271012: 992271012}"
      ]
     },
     "execution_count": 18,
     "metadata": {},
     "output_type": "execute_result"
    }
   ],
   "source": [
    "{boat[0]: boat[0] for boat in extended + abbreviated}"
   ]
  },
  {
   "cell_type": "code",
   "execution_count": 20,
   "metadata": {},
   "outputs": [
    {
     "data": {
      "text/plain": [
       "[255801560, 227844000, 227254910, 227844000, 992271012, 255801560]"
      ]
     },
     "execution_count": 20,
     "metadata": {},
     "output_type": "execute_result"
    }
   ],
   "source": [
    "[boat[0] for boat in extended + abbreviated]"
   ]
  },
  {
   "cell_type": "markdown",
   "metadata": {},
   "source": [
    "### Convert a list to a tuple"
   ]
  },
  {
   "cell_type": "code",
   "execution_count": 28,
   "metadata": {},
   "outputs": [
    {
     "data": {
      "text/plain": [
       "(47.23206, -2.913887, '2013-10-08T21:51:00')"
      ]
     },
     "execution_count": 28,
     "metadata": {},
     "output_type": "execute_result"
    }
   ],
   "source": [
    "tuple(extended[1][1:4])"
   ]
  },
  {
   "cell_type": "markdown",
   "metadata": {},
   "source": [
    "### index list"
   ]
  },
  {
   "cell_type": "code",
   "execution_count": 49,
   "metadata": {},
   "outputs": [],
   "source": [
    "def index(extended):\n",
    "    return { entry[0]: entry for entry in extended}"
   ]
  },
  {
   "cell_type": "markdown",
   "metadata": {},
   "source": [
    "### Use defaultdict from collections to initialize a list value dict"
   ]
  },
  {
   "cell_type": "code",
   "execution_count": null,
   "metadata": {},
   "outputs": [],
   "source": [
    "from collections import defaultdict\n",
    "\n",
    "merged_boat = defaultdict(list)\n",
    "\n",
    "merged_boat\n",
    "\n",
    "for boat in extended + abbreviated:\n",
    "    merged_boat[boat[0]].append(tuple(boat[1:4]))"
   ]
  },
  {
   "cell_type": "code",
   "execution_count": 33,
   "metadata": {},
   "outputs": [
    {
     "data": {
      "text/plain": [
       "defaultdict(list,\n",
       "            {255801560: [(49.3815, -4.412167, '2013-10-08T21:51:00'),\n",
       "              (49.25383, -4.784833, '2013-10-08T22:59:00')],\n",
       "             227844000: [(47.23206, -2.913887, '2013-10-08T21:51:00'),\n",
       "              (47.13057, -3.126982, '2013-10-08T22:58:00')],\n",
       "             227254910: [(49.94479, -5.137455, '2013-10-08T21:51:00')],\n",
       "             992271012: [(47.64748, -3.509307, '2013-10-08T22:56:00')]})"
      ]
     },
     "execution_count": 33,
     "metadata": {},
     "output_type": "execute_result"
    }
   ],
   "source": [
    "merged_boat"
   ]
  },
  {
   "cell_type": "code",
   "execution_count": 27,
   "metadata": {},
   "outputs": [
    {
     "data": {
      "text/plain": [
       "(47.23206, -2.913887, '2013-10-08T21:51:00')"
      ]
     },
     "execution_count": 27,
     "metadata": {},
     "output_type": "execute_result"
    }
   ],
   "source": [
    "tuple(extended[1][1:4])"
   ]
  },
  {
   "cell_type": "markdown",
   "metadata": {},
   "source": [
    "Check if a boat is already in the merged dictionary"
   ]
  },
  {
   "cell_type": "code",
   "execution_count": 43,
   "metadata": {},
   "outputs": [
    {
     "data": {
      "text/plain": [
       "True"
      ]
     },
     "execution_count": 43,
     "metadata": {},
     "output_type": "execute_result"
    }
   ],
   "source": [
    "255801560 in merged_boat"
   ]
  },
  {
   "cell_type": "code",
   "execution_count": 47,
   "metadata": {},
   "outputs": [],
   "source": [
    "from collections import defaultdict\n",
    "\n",
    "merged_boat = defaultdict(list)\n",
    "\n",
    "# merged_boat\n",
    "\n",
    "for boat in extended:\n",
    "    if boat[0] not in merged_boat:\n",
    "        merged_boat[boat[0]].extend([boat[4], boat[5]])\n",
    "    merged_boat[boat[0]].append(tuple(boat[1:4]))\n",
    "\n",
    "for boat in abbreviated:\n",
    "    merged_boat[boat[0]].append(tuple(boat[1:4]))\n"
   ]
  },
  {
   "cell_type": "code",
   "execution_count": 48,
   "metadata": {},
   "outputs": [
    {
     "data": {
      "text/plain": [
       "defaultdict(list,\n",
       "            {255801560: ['AUTOPRIDE',\n",
       "              'PT',\n",
       "              (49.3815, -4.412167, '2013-10-08T21:51:00'),\n",
       "              (49.25383, -4.784833, '2013-10-08T22:59:00')],\n",
       "             227844000: ['NEPTUNE III',\n",
       "              'FR',\n",
       "              (47.23206, -2.913887, '2013-10-08T21:51:00'),\n",
       "              (47.13057, -3.126982, '2013-10-08T22:58:00')],\n",
       "             227254910: ['LAURELINE',\n",
       "              'FR',\n",
       "              (49.94479, -5.137455, '2013-10-08T21:51:00')],\n",
       "             992271012: [(47.64748, -3.509307, '2013-10-08T22:56:00')]})"
      ]
     },
     "execution_count": 48,
     "metadata": {},
     "output_type": "execute_result"
    }
   ],
   "source": [
    "merged_boat"
   ]
  },
  {
   "cell_type": "code",
   "execution_count": 43,
   "metadata": {},
   "outputs": [
    {
     "data": {
      "text/plain": [
       "True"
      ]
     },
     "execution_count": 43,
     "metadata": {},
     "output_type": "execute_result"
    }
   ],
   "source": [
    "255801560 in merged_boat"
   ]
  },
  {
   "cell_type": "code",
   "execution_count": 51,
   "metadata": {},
   "outputs": [],
   "source": [
    "merged_full = merge(extended_full, abbreviated_full)"
   ]
  },
  {
   "cell_type": "code",
   "execution_count": 52,
   "metadata": {},
   "outputs": [
    {
     "data": {
      "text/plain": [
       "132"
      ]
     },
     "execution_count": 52,
     "metadata": {},
     "output_type": "execute_result"
    }
   ],
   "source": [
    "len(merged_full)"
   ]
  },
  {
   "cell_type": "code",
   "execution_count": 53,
   "metadata": {},
   "outputs": [
    {
     "data": {
      "text/plain": [
       "defaultdict(list,\n",
       "            {992271012: ['PENMEN',\n",
       "              'FR',\n",
       "              (47.64744, -3.509282, '2013-10-08T21:50:00'),\n",
       "              (47.64748, -3.509307, '2013-10-08T22:56:00')],\n",
       "             227254910: ['LAURELINE',\n",
       "              'FR',\n",
       "              (49.94479, -5.137455, '2013-10-08T21:51:00'),\n",
       "              (49.91799, -5.315172, '2013-10-08T22:59:00')],\n",
       "             227844000: ['NEPTUNE III',\n",
       "              'FR',\n",
       "              (47.23206, -2.913887, '2013-10-08T21:51:00'),\n",
       "              (47.13057, -3.126982, '2013-10-08T22:58:00')],\n",
       "             255801560: ['AUTOPRIDE',\n",
       "              'PT',\n",
       "              (49.3815, -4.412167, '2013-10-08T21:51:00'),\n",
       "              (49.25383, -4.784833, '2013-10-08T22:59:00')],\n",
       "             220002000: ['ELSE MARIE THERESA',\n",
       "              'DK',\n",
       "              (48.34313, -5.952897, '2013-10-08T21:51:00'),\n",
       "              (48.53522, -5.795955, '2013-10-08T22:59:00')],\n",
       "             636011006: ['MOSCOW KREMLIN',\n",
       "              'LR',\n",
       "              (49.78063, -3.478962, '2013-10-08T21:51:00'),\n",
       "              (49.67325, -3.762168, '2013-10-08T22:56:00')],\n",
       "             227468000: ['NOMINOE',\n",
       "              'FR',\n",
       "              (49.98365, -4.161598, '2013-10-08T21:51:00'),\n",
       "              (49.99281, -4.087612, '2013-10-08T22:59:00')],\n",
       "             355426000: ['AYLIN',\n",
       "              'PA',\n",
       "              (48.69255, -5.660868, '2013-10-08T21:51:00'),\n",
       "              (48.81775, -5.463417, '2013-10-08T22:59:00')],\n",
       "             228965000: ['DACANI',\n",
       "              'FR',\n",
       "              (49.78485, -4.971265, '2013-10-08T21:51:00'),\n",
       "              (49.78937, -4.996112, '2013-10-08T22:59:00')],\n",
       "             305643000: ['MEERA',\n",
       "              'AG',\n",
       "              (49.20683, -4.39299, '2013-10-08T21:51:00'),\n",
       "              (49.32893, -4.080227, '2013-10-08T22:59:00')],\n",
       "             228017700: ['FROMVEUR II',\n",
       "              'FR',\n",
       "              (47.87564, -3.907262, '2013-10-08T21:50:00'),\n",
       "              (47.87563, -3.907227, '2013-10-08T22:56:00')],\n",
       "             538004150: ['EMERALD EXPRESS',\n",
       "              'MH',\n",
       "              (49.96456, -3.806348, '2013-10-08T21:51:00'),\n",
       "              (49.96489, -4.18421, '2013-10-08T22:58:00')],\n",
       "             228037700: ['SPERED BREIZH',\n",
       "              'FR',\n",
       "              (48.21629, -4.744727, '2013-10-08T21:51:00'),\n",
       "              (48.28083, -4.75007, '2013-10-08T22:58:00')],\n",
       "             236111974: ['ATLANTIC WIND',\n",
       "              'GI',\n",
       "              (48.78286, -5.59124, '2013-10-08T21:51:00'),\n",
       "              (48.89256, -5.30519, '2013-10-08T22:59:00')],\n",
       "             228020600: ['BESAME',\n",
       "              'FR',\n",
       "              (47.27835, -4.861617, '2013-10-08T21:50:00'),\n",
       "              (47.32058, -4.90895, '2013-10-08T22:58:00')],\n",
       "             228874000: ['TOUR DAUVERGNE',\n",
       "              'FR',\n",
       "              (47.86892, -5.030262, '2013-10-08T21:51:00'),\n",
       "              (47.90205, -5.008613, '2013-10-08T22:59:00')],\n",
       "             354512000: ['RED IRIS',\n",
       "              'PA',\n",
       "              (49.64845, -3.332217, '2013-10-08T21:51:00'),\n",
       "              (49.79435, -2.971, '2013-10-08T22:59:00')],\n",
       "             248013000: ['CMA CGM PEGASUS',\n",
       "              'MT',\n",
       "              (49.52892, -4.089995, '2013-10-08T21:51:00'),\n",
       "              (49.34335, -4.583175, '2013-10-08T22:59:00')],\n",
       "             228213700: ['KAN AR MOOR',\n",
       "              'FR',\n",
       "              (47.79212, -4.48831, '2013-10-08T21:51:00'),\n",
       "              (47.80736, -4.505932, '2013-10-08T22:59:00')],\n",
       "             227811000: ['KELOU MAD',\n",
       "              'FR',\n",
       "              (49.61172, -4.970078, '2013-10-08T21:51:00'),\n",
       "              (49.59966, -5.032943, '2013-10-08T22:59:00')],\n",
       "             636014285: ['HORIZON THEANO',\n",
       "              'LR',\n",
       "              (49.49093, -4.791483, '2013-10-08T21:51:00'),\n",
       "              (49.3684, -5.097167, '2013-10-08T22:58:00')],\n",
       "             538090289: ['VEGA',\n",
       "              'MH',\n",
       "              (49.24173, -5.561636, '2013-10-08T21:51:00'),\n",
       "              (49.33307, -5.139573, '2013-10-08T22:59:00')],\n",
       "             228236000: ['COPPELIA',\n",
       "              'FR',\n",
       "              (47.82536, -5.332005, '2013-10-08T21:51:00'),\n",
       "              (47.81358, -5.060462, '2013-10-08T22:59:00')],\n",
       "             992271008: ['SEMREV METEO',\n",
       "              'FR',\n",
       "              (47.24397, -2.776385, '2013-10-08T21:51:00'),\n",
       "              (47.244, -2.77646, '2013-10-08T22:57:00')],\n",
       "             566827000: ['HUA AN CHENG',\n",
       "              'SG',\n",
       "              (48.71872, -5.662608, '2013-10-08T21:51:00'),\n",
       "              (48.88132, -5.426553, '2013-10-08T22:58:00')],\n",
       "             248835000: ['WILSON ALICANTE',\n",
       "              'MT',\n",
       "              (48.94755, -5.114336, '2013-10-08T21:50:00'),\n",
       "              (49.03098, -4.902318, '2013-10-08T22:58:00')],\n",
       "             373207000: ['SILVER SUN',\n",
       "              'PA',\n",
       "              (49.13324, -5.226802, '2013-10-08T21:51:00'),\n",
       "              (48.99255, -5.579033, '2013-10-08T22:59:00')],\n",
       "             226318000: ['CAP FINISTERE',\n",
       "              'FR',\n",
       "              (48.34783, -4.813, '2013-10-08T21:51:00'),\n",
       "              (48.6585, -4.755667, '2013-10-08T22:59:00')],\n",
       "             227558000: ['BOREE AL',\n",
       "              'FR',\n",
       "              (49.93307, -5.868155, '2013-10-08T21:51:00'),\n",
       "              (49.85877, -5.623247, '2013-10-08T22:59:00')],\n",
       "             565327000: ['SICHEM CHALLENGE',\n",
       "              'SG',\n",
       "              (47.6284, -4.956212, '2013-10-08T21:51:00'),\n",
       "              (47.72535, -5.223247, '2013-10-08T22:59:00')],\n",
       "             226216000: ['DAMIEN FLORENT',\n",
       "              'FR',\n",
       "              (47.83561, -4.17512, '2013-10-08T21:51:00'),\n",
       "              (47.83561, -4.175097, '2013-10-08T22:59:00')],\n",
       "             227753180: ['SENOR BLUE SOLO SAIL',\n",
       "              'FR',\n",
       "              (48.09193, -4.33383, '2013-10-08T21:51:00'),\n",
       "              (48.09195, -4.333802, '2013-10-08T22:57:00')],\n",
       "             226179000: ['HORIZON',\n",
       "              'FR',\n",
       "              (48.43703, -5.041708, '2013-10-08T21:51:00'),\n",
       "              (48.52082, -4.92759, '2013-10-08T22:59:00')],\n",
       "             220564000: ['TORM MADISON',\n",
       "              'DK',\n",
       "              (49.78787, -5.228542, '2013-10-08T21:51:00'),\n",
       "              (49.75946, -5.627913, '2013-10-08T22:59:00')],\n",
       "             228109000: ['KAN AN AEL',\n",
       "              'FR',\n",
       "              (48.21843, -4.996732, '2013-10-08T21:51:00'),\n",
       "              (48.18373, -5.049758, '2013-10-08T22:58:00')],\n",
       "             305318000: ['NORWIND',\n",
       "              'AG',\n",
       "              (47.58, -5.4975, '2013-10-08T21:51:00'),\n",
       "              (47.65783, -5.491167, '2013-10-08T22:59:00')],\n",
       "             227300000: ['MIREN',\n",
       "              'FR',\n",
       "              (48.17495, -4.8143, '2013-10-08T21:51:00'),\n",
       "              (48.16333, -4.836515, '2013-10-08T22:59:00')],\n",
       "             228258000: ['MANATHIA',\n",
       "              'FR',\n",
       "              (47.74918, -5.158198, '2013-10-08T21:51:00'),\n",
       "              (47.75048, -5.121545, '2013-10-08T22:59:00')],\n",
       "             245718000: ['AMAZONE',\n",
       "              'NL',\n",
       "              (49.8989, -5.240509, '2013-10-08T21:51:00'),\n",
       "              (49.92569, -5.524793, '2013-10-08T22:59:00')],\n",
       "             235011020: ['PETER SCHULTE',\n",
       "              'UK',\n",
       "              (48.5075, -5.789583, '2013-10-08T21:51:00'),\n",
       "              (48.66142, -5.677567, '2013-10-08T22:59:00')],\n",
       "             227590980: ['EN AVANT',\n",
       "              'FR',\n",
       "              (48.11766, -4.497102, '2013-10-08T21:51:00'),\n",
       "              (48.09805, -4.324113, '2013-10-08T22:58:00')],\n",
       "             227056460: ['EMPEDOCLE',\n",
       "              'FR',\n",
       "              (47.73867, -4.155402, '2013-10-08T21:51:00'),\n",
       "              (47.68462, -4.24101, '2013-10-08T22:59:00')],\n",
       "             228281000: ['LIOU AN AMZER',\n",
       "              'FR',\n",
       "              (47.35388, -5.627703, '2013-10-08T21:51:00'),\n",
       "              (47.29441, -5.63287, '2013-10-08T22:59:00')],\n",
       "             219084000: ['TERNLAND',\n",
       "              'DK',\n",
       "              (49.79456, -5.339149, '2013-10-08T21:51:00'),\n",
       "              (49.79928, -5.031792, '2013-10-08T22:59:00')],\n",
       "             370096000: ['LOWLANDS SERENITY',\n",
       "              'PA',\n",
       "              (48.74815, -5.652073, '2013-10-08T21:51:00'),\n",
       "              (48.87693, -5.395278, '2013-10-08T22:59:00')],\n",
       "             227346000: ['ILE DE SIECK',\n",
       "              'FR',\n",
       "              (49.74681, -5.108253, '2013-10-08T21:51:00'),\n",
       "              (49.75789, -5.151495, '2013-10-08T22:58:00')],\n",
       "             355031000: ['ANTARCTICGAS',\n",
       "              'PA',\n",
       "              (48.38582, -4.4592, '2013-10-08T21:50:00'),\n",
       "              (48.3858, -4.459133, '2013-10-08T22:56:00')],\n",
       "             228240600: ['QUENTIN GREGOIRE',\n",
       "              'FR',\n",
       "              (47.22783, -2.850353, '2013-10-08T21:51:00'),\n",
       "              (47.22262, -2.786693, '2013-10-08T22:58:00')],\n",
       "             566914000: ['MTM YANGON',\n",
       "              'SG',\n",
       "              (49.64962, -3.379822, '2013-10-08T21:51:00'),\n",
       "              (49.78939, -3.029018, '2013-10-08T22:59:00')],\n",
       "             228282000: ['CHALLENGER',\n",
       "              'FR',\n",
       "              (47.61247, -5.248965, '2013-10-08T21:51:00'),\n",
       "              (47.56697, -5.282368, '2013-10-08T22:59:00')],\n",
       "             228880000: ['IN TROUN VARIA',\n",
       "              'FR',\n",
       "              (48.69999, -4.508823, '2013-10-08T21:51:00'),\n",
       "              (48.6127, -4.791225, '2013-10-08T22:59:00')],\n",
       "             228051000: ['SAINT DENIS',\n",
       "              'FR',\n",
       "              (48.38112, -4.484543, '2013-10-08T21:50:00'),\n",
       "              (48.38113, -4.48455, '2013-10-08T22:58:00')],\n",
       "             228194000: ['MATMACO',\n",
       "              'FR',\n",
       "              (47.29823, -2.51334, '2013-10-08T21:51:00'),\n",
       "              (47.21244, -2.608755, '2013-10-08T22:59:00')],\n",
       "             477346300: ['CMB KRISTINE',\n",
       "              'HK',\n",
       "              (49.11599, -5.211428, '2013-10-08T21:51:00'),\n",
       "              (49.00058, -5.503775, '2013-10-08T22:56:00')],\n",
       "             538090174: ['CAPE BARI',\n",
       "              'MH',\n",
       "              (49.08267, -4.836733, '2013-10-08T21:51:00'),\n",
       "              (49.2071, -4.519067, '2013-10-08T22:59:00')],\n",
       "             228026000: ['ALCYON',\n",
       "              'FR',\n",
       "              (48.37122, -4.512417, '2013-10-08T21:50:00'),\n",
       "              (48.37132, -4.5124, '2013-10-08T22:59:00')],\n",
       "             228893000: ['LE COMMODORE',\n",
       "              'FR',\n",
       "              (47.79529, -4.278713, '2013-10-08T21:50:00'),\n",
       "              (47.79529, -4.278713, '2013-10-08T22:51:00')],\n",
       "             235068406: ['MFV LADY T EMIEL',\n",
       "              'UK',\n",
       "              (49.96379, -3.033133, '2013-10-08T21:51:00'),\n",
       "              (49.96071, -2.989258, '2013-10-08T22:59:00')],\n",
       "             227317000: ['SAMANA',\n",
       "              'FR',\n",
       "              (47.21692, -2.9033, '2013-10-08T21:51:00'),\n",
       "              (47.12436, -3.118577, '2013-10-08T22:55:00')],\n",
       "             227319570: ['LISANAIS',\n",
       "              'FR',\n",
       "              (47.80793, -4.478915, '2013-10-08T21:51:00'),\n",
       "              (47.81561, -4.38136, '2013-10-08T22:59:00')],\n",
       "             228302900: ['MIRENTXU 1',\n",
       "              'FR',\n",
       "              (47.80059, -4.439734, '2013-10-08T21:51:00'),\n",
       "              (47.75018, -4.238642, '2013-10-08T22:57:00')],\n",
       "             256832000: ['PORTOROZ',\n",
       "              'MT',\n",
       "              (49.72318, -5.032735, '2013-10-08T21:51:00'),\n",
       "              (49.71953, -5.406785, '2013-10-08T22:59:00')],\n",
       "             227525000: ['ETOILE POLAIRE 3',\n",
       "              'FR',\n",
       "              (47.79168, -4.487017, '2013-10-08T21:51:00'),\n",
       "              (47.75272, -4.245247, '2013-10-08T22:59:00')],\n",
       "             228332000: ['MANGA-REVA',\n",
       "              'FR',\n",
       "              (47.66879, -4.978617, '2013-10-08T21:51:00'),\n",
       "              (47.60832, -4.960333, '2013-10-08T22:58:00')],\n",
       "             235095972: ['STOLT SANDERLING',\n",
       "              'UK',\n",
       "              (49.82031, -5.692443, '2013-10-08T21:51:00'),\n",
       "              (49.80688, -5.364368, '2013-10-08T22:59:00')],\n",
       "             227474000: ['KERFLOUS',\n",
       "              'FR',\n",
       "              (48.42305, -5.595002, '2013-10-08T21:51:00'),\n",
       "              (48.37235, -5.67112, '2013-10-08T22:53:00')],\n",
       "             305709000: ['LISA',\n",
       "              'AG',\n",
       "              (47.08392, -2.904308, '2013-10-08T21:51:00'),\n",
       "              (47.17256, -3.246557, '2013-10-08T22:59:00')],\n",
       "             249546000: ['CLIPPER BURGUNDY',\n",
       "              'MT',\n",
       "              (47.11167, -2.920667, '2013-10-08T21:51:00'),\n",
       "              (47.20917, -3.136833, '2013-10-08T22:59:00')],\n",
       "             245088000: ['ENERGIZER',\n",
       "              'NL',\n",
       "              (49.73051, -5.937058, '2013-10-08T21:51:00'),\n",
       "              (49.95044, -5.90276, '2013-10-08T22:59:00')],\n",
       "             352171000: ['TRANS TRADER',\n",
       "              'PA',\n",
       "              (49.81775, -5.387267, '2013-10-08T21:51:00'),\n",
       "              (49.81816, -4.97235, '2013-10-08T22:59:00')],\n",
       "             227323100: ['TOP 50',\n",
       "              'FR',\n",
       "              (47.96912, -4.616795, '2013-10-08T21:51:00'),\n",
       "              (47.98185, -4.668835, '2013-10-08T22:58:00')],\n",
       "             227128800: ['COTE DAMBRE',\n",
       "              'FR',\n",
       "              (47.27041, -3.412178, '2013-10-08T21:51:00'),\n",
       "              (47.42093, -3.393342, '2013-10-08T22:58:00')],\n",
       "             228131600: ['LE NATIF 2',\n",
       "              'FR',\n",
       "              (47.17159, -2.944658, '2013-10-08T21:51:00'),\n",
       "              (47.2552, -2.79065, '2013-10-08T22:59:00')],\n",
       "             227905000: ['SERGAGIL',\n",
       "              'FR',\n",
       "              (47.54958, -5.174688, '2013-10-08T21:51:00'),\n",
       "              (47.48582, -5.396065, '2013-10-08T22:58:00')],\n",
       "             304655000: ['ELBETOR',\n",
       "              'AG',\n",
       "              (48.77102, -2.701543, '2013-10-08T21:51:00'),\n",
       "              (48.94182, -2.835105, '2013-10-08T22:59:00')],\n",
       "             228920000: ['VILLE CROISIC 5',\n",
       "              'FR',\n",
       "              (47.22122, -2.805295, '2013-10-08T21:51:00'),\n",
       "              (47.18962, -2.788198, '2013-10-08T22:59:00')],\n",
       "             265000000: ['RESCUE 8-32',\n",
       "              'SE',\n",
       "              (48.39282, -4.467778, '2013-10-08T21:51:00'),\n",
       "              (48.39282, -4.467778, '2013-10-08T22:59:00')],\n",
       "             245180000: ['OSTGARD',\n",
       "              'NL',\n",
       "              (47.03267, -2.681333, '2013-10-08T21:51:00'),\n",
       "              (47.04617, -2.975, '2013-10-08T22:51:00')],\n",
       "             210688000: ['AMAZONITH',\n",
       "              'CY',\n",
       "              (49.8458, -5.1113, '2013-10-08T21:51:00'),\n",
       "              (49.84245, -4.804717, '2013-10-08T22:58:00')],\n",
       "             477158700: ['XIN LOS ANGELES',\n",
       "              'HK',\n",
       "              (49.16, -4.6235, '2013-10-08T21:51:00'),\n",
       "              (49.3158, -4.223267, '2013-10-08T22:56:00')],\n",
       "             211135000: ['SEASHARK',\n",
       "              'DE',\n",
       "              (49.6378, -3.84907, '2013-10-08T21:51:00'),\n",
       "              (49.52694, -4.131502, '2013-10-08T22:56:00')],\n",
       "             227867000: ['KREIZ AR MOR',\n",
       "              'FR',\n",
       "              (48.09903, -4.88166, '2013-10-08T21:51:00'),\n",
       "              (48.07771, -5.153285, '2013-10-08T22:59:00')],\n",
       "             255805450: ['LA SURPRISE',\n",
       "              'PT',\n",
       "              (49.03718, -5.392867, '2013-10-08T21:51:00'),\n",
       "              (48.85957, -5.795033, '2013-10-08T22:58:00')],\n",
       "             304633000: ['BF CONFIANZA',\n",
       "              'AG',\n",
       "              (48.57483, -5.864, '2013-10-08T21:51:00'),\n",
       "              (48.28983, -5.607167, '2013-10-08T22:57:00')],\n",
       "             246301000: ['NOVA K',\n",
       "              'NL',\n",
       "              (49.90608, -5.030113, '2013-10-08T21:51:00'),\n",
       "              (49.93127, -4.817883, '2013-10-08T22:58:00')],\n",
       "             212109000: ['CEMVALE',\n",
       "              'CY',\n",
       "              (48.30966, -4.654525, '2013-10-08T21:51:00'),\n",
       "              (48.38053, -4.472152, '2013-10-08T22:59:00')],\n",
       "             228160000: ['LESK NE DA LAR',\n",
       "              'FR',\n",
       "              (47.81335, -4.45175, '2013-10-08T21:50:00'),\n",
       "              (47.77127, -4.470817, '2013-10-08T22:59:00')],\n",
       "             228156900: ['BERCEAU DE LOCE',\n",
       "              'FR',\n",
       "              (47.83241, -4.56242, '2013-10-08T21:50:00'),\n",
       "              (47.80069, -4.484127, '2013-10-08T22:59:00')],\n",
       "             228827000: ['OCEANE',\n",
       "              'FR',\n",
       "              (48.71959, -4.455845, '2013-10-08T21:51:00'),\n",
       "              (48.70275, -4.726368, '2013-10-08T22:59:00')],\n",
       "             538004839: ['ICE GLACIER',\n",
       "              'MH',\n",
       "              (48.93857, -5.189929, '2013-10-08T21:51:00'),\n",
       "              (49.07841, -4.83678, '2013-10-08T22:58:00')],\n",
       "             232005840: ['JAMES R H PZ78',\n",
       "              'UK',\n",
       "              (49.39684, -5.059037, '2013-10-08T21:51:00'),\n",
       "              (49.36931, -5.120763, '2013-10-08T22:52:00')],\n",
       "             538090194: ['JOHN RICKMERS',\n",
       "              'MH',\n",
       "              (49.89233, -4.554, '2013-10-08T21:51:00'),\n",
       "              (49.8695, -5.0705, '2013-10-08T22:59:00')],\n",
       "             224175430: ['ADVIENTO UNO',\n",
       "              'ES',\n",
       "              (47.20671, -5.877663, '2013-10-08T21:50:00'),\n",
       "              (47.21678, -5.869355, '2013-10-08T22:59:00')],\n",
       "             227019760: ['ADELAIDE 2 SOLO SAIL',\n",
       "              'FR',\n",
       "              (48.09201, -4.333462, '2013-10-08T21:51:00'),\n",
       "              (48.09192, -4.333432, '2013-10-08T22:57:00')],\n",
       "             304352000: ['HEINRICH G.',\n",
       "              'AG',\n",
       "              (49.91166, -5.35286, '2013-10-08T21:51:00'),\n",
       "              (49.929, -5.061833, '2013-10-08T22:59:00')],\n",
       "             304754000: ['CANOPUS J',\n",
       "              'AG',\n",
       "              (47.86425, -5.3503, '2013-10-08T21:51:00'),\n",
       "              (48.1233, -5.473017, '2013-10-08T22:59:00')],\n",
       "             248993000: ['RENE A',\n",
       "              'MT',\n",
       "              (48.38073, -4.482847, '2013-10-08T21:51:00'),\n",
       "              (48.38071, -4.482843, '2013-10-08T22:57:00')],\n",
       "             232003971: ['PHOENIX',\n",
       "              'UK',\n",
       "              (49.5011, -5.162578, '2013-10-08T21:51:00'),\n",
       "              (49.41885, -5.222767, '2013-10-08T22:59:00')],\n",
       "             228144000: ['ESPERANZA 2',\n",
       "              'FR',\n",
       "              (47.77596, -4.382727, '2013-10-08T21:51:00'),\n",
       "              (47.75683, -4.191057, '2013-10-08T22:59:00')],\n",
       "             227635680: ['BASSE GOUACH',\n",
       "              'FR',\n",
       "              (48.1294, -4.642078, '2013-10-08T21:50:00'),\n",
       "              (48.09083, -4.618001, '2013-10-08T22:58:00')],\n",
       "             228208700: ['VAG A LAMM',\n",
       "              'FR',\n",
       "              (48.29198, -4.73096, '2013-10-08T21:51:00'),\n",
       "              (48.26585, -4.720644, '2013-10-08T22:59:00')],\n",
       "             477188500: ['ANSAC PRIDE',\n",
       "              'HK',\n",
       "              (49.07116, -4.831073, '2013-10-08T21:51:00'),\n",
       "              (49.19563, -4.531655, '2013-10-08T22:58:00')],\n",
       "             305364000: ['TIWALA',\n",
       "              'AG',\n",
       "              (49.29212, -4.766792, '2013-10-08T21:51:00'),\n",
       "              (49.18884, -5.035705, '2013-10-08T22:59:00')],\n",
       "             304407000: ['ULRIKE G.',\n",
       "              'AG',\n",
       "              (48.74092, -2.71685, '2013-10-08T21:51:00'),\n",
       "              (48.9349, -2.626583, '2013-10-08T22:59:00')],\n",
       "             227318020: ['NOTREDAMEDELAJOIE',\n",
       "              'FR',\n",
       "              (47.82995, -4.57133, '2013-10-08T21:51:00'),\n",
       "              (47.80202, -4.506523, '2013-10-08T22:59:00')],\n",
       "             309481000: ['ARCTIC DISCOVERER',\n",
       "              'BS',\n",
       "              (49.53614, -4.516, '2013-10-08T21:51:00'),\n",
       "              (49.62059, -4.073437, '2013-10-08T22:59:00')],\n",
       "             228167900: ['STEREDEN AR MOOR',\n",
       "              'FR',\n",
       "              (48.29191, -4.728633, '2013-10-08T21:51:00'),\n",
       "              (48.25955, -4.70674, '2013-10-08T22:59:00')],\n",
       "             538090377: ['FREDERIKE SELMER',\n",
       "              'MH',\n",
       "              (49.20726, -4.445098, '2013-10-08T21:51:00'),\n",
       "              (49.29314, -4.212956, '2013-10-08T22:55:00')],\n",
       "             227430000: ['ARVORIG',\n",
       "              'FR',\n",
       "              (47.65347, -5.390562, '2013-10-08T21:51:00'),\n",
       "              (47.59057, -5.42489, '2013-10-08T22:58:00')],\n",
       "             992351028: ['CHANNEL LIGHTVESSEL',\n",
       "              'UK',\n",
       "              (49.90877, -2.892853, '2013-10-08T21:50:00'),\n",
       "              (49.90871, -2.892892, '2013-10-08T22:57:00')],\n",
       "             273111100: ['FEDOR VARAKSIN',\n",
       "              'RU',\n",
       "              (49.60538, -3.891883, '2013-10-08T21:51:00'),\n",
       "              (49.49653, -4.166817, '2013-10-08T22:55:00')],\n",
       "             227320000: ['LOCLEADE',\n",
       "              'FR',\n",
       "              (47.38764, -5.764328, '2013-10-08T21:50:00'),\n",
       "              (47.3664, -5.839575, '2013-10-08T22:59:00')],\n",
       "             228341000: ['GE MI MA',\n",
       "              'FR',\n",
       "              (47.05371, -4.634747, '2013-10-08T21:51:00'),\n",
       "              (47.0176, -4.441844, '2013-10-08T22:59:00')],\n",
       "             227922000: ['LA ROUMASSE',\n",
       "              'FR',\n",
       "              (47.16961, -2.947878, '2013-10-08T21:51:00'),\n",
       "              (47.25271, -2.794653, '2013-10-08T22:59:00')],\n",
       "             227392000: ['ALYA',\n",
       "              'FR',\n",
       "              (48.40687, -4.823822, '2013-10-08T21:51:00'),\n",
       "              (48.21969, -4.701048, '2013-10-08T22:59:00')],\n",
       "             992271011: ['FEU STOLE',\n",
       "              'FR',\n",
       "              (47.70504, -3.425738, '2013-10-08T21:50:00'),\n",
       "              (47.70505, -3.425758, '2013-10-08T22:58:00')],\n",
       "             227843000: ['DAMOCLES',\n",
       "              'FR',\n",
       "              (47.40505, -5.837422, '2013-10-08T21:51:00'),\n",
       "              (47.34981, -5.879823, '2013-10-08T22:58:00')],\n",
       "             228218700: ['ETENDARD',\n",
       "              'FR',\n",
       "              (47.78806, -4.541968, '2013-10-08T21:51:00'),\n",
       "              (47.80265, -4.480807, '2013-10-08T22:58:00')],\n",
       "             308765000: ['TAMA HOPE',\n",
       "              'BS',\n",
       "              (49.10153, -4.817417, '2013-10-08T21:51:00'),\n",
       "              (49.24564, -4.401387, '2013-10-08T22:59:00')],\n",
       "             271042556: ['SERRA ATASOY',\n",
       "              'TR',\n",
       "              (48.51719, -5.831053, '2013-10-08T21:51:00'),\n",
       "              (48.6514, -5.701386, '2013-10-08T22:59:00')],\n",
       "             228219600: ['ANDRE L',\n",
       "              'FR',\n",
       "              (47.07186, -2.808102, '2013-10-08T21:51:00'),\n",
       "              (47.20869, -2.936868, '2013-10-08T22:59:00')],\n",
       "             228293000: ['BARR AVEL',\n",
       "              'FR',\n",
       "              (47.80714, -4.498055, '2013-10-08T21:51:00'),\n",
       "              (47.80361, -4.492852, '2013-10-08T22:58:00')],\n",
       "             227472000: ['L ARGONAUTE',\n",
       "              'FR',\n",
       "              (48.16943, -5.039612, '2013-10-08T21:51:00'),\n",
       "              (48.18232, -5.061467, '2013-10-08T22:59:00')],\n",
       "             304738000: ['ALLER',\n",
       "              'AG',\n",
       "              (49.83855, -4.254539, '2013-10-08T21:51:00'),\n",
       "              (49.82997, -4.032048, '2013-10-08T22:59:00')],\n",
       "             227104210: ['BLEI MOR',\n",
       "              'FR',\n",
       "              (48.34329, -4.448926, '2013-10-08T21:51:00'),\n",
       "              (48.34329, -4.448942, '2013-10-08T22:57:00')],\n",
       "             477196900: ['SAFMARINE SAHEL',\n",
       "              'HK',\n",
       "              (49.04847, -4.865551, '2013-10-08T21:51:00'),\n",
       "              (49.19044, -4.489242, '2013-10-08T22:59:00')],\n",
       "             258576910: ['KARAYATO',\n",
       "              'NO',\n",
       "              (47.39257, -5.36497, '2013-10-08T21:51:00'),\n",
       "              (47.30251, -5.443083, '2013-10-08T22:56:00')],\n",
       "             258932000: ['FRAM',\n",
       "              'NO',\n",
       "              (47.29723, -3.366127, '2013-10-08T21:51:00'),\n",
       "              (47.22044, -3.083417, '2013-10-08T22:59:00')],\n",
       "             228925000: ['AVEL AN HEOL',\n",
       "              'FR',\n",
       "              (47.73328, -5.095667, '2013-10-08T21:51:00'),\n",
       "              (47.69508, -5.166315, '2013-10-08T22:59:00')],\n",
       "             228834000: ['MALIWAN',\n",
       "              'FR',\n",
       "              (47.5471, -3.331028, '2013-10-08T21:51:00'),\n",
       "              (47.70256, -3.36986, '2013-10-08T22:58:00')],\n",
       "             227003050: ['ENEZ EUSSA 3',\n",
       "              'FR',\n",
       "              (48.38112, -4.485752, '2013-10-08T21:50:00'),\n",
       "              (48.38114, -4.48575, '2013-10-08T22:59:00')],\n",
       "             227142200: ['TXIMISTARRI 2',\n",
       "              'FR',\n",
       "              (47.79161, -4.412015, '2013-10-08T21:51:00'),\n",
       "              (47.74483, -4.208648, '2013-10-08T22:59:00')]})"
      ]
     },
     "execution_count": 53,
     "metadata": {},
     "output_type": "execute_result"
    }
   ],
   "source": [
    "merged_full"
   ]
  },
  {
   "cell_type": "code",
   "execution_count": null,
   "metadata": {},
   "outputs": [],
   "source": []
  }
 ],
 "metadata": {
  "kernelspec": {
   "display_name": "Python 3",
   "language": "python",
   "name": "python3"
  },
  "language_info": {
   "codemirror_mode": {
    "name": "ipython",
    "version": 3
   },
   "file_extension": ".py",
   "mimetype": "text/x-python",
   "name": "python",
   "nbconvert_exporter": "python",
   "pygments_lexer": "ipython3",
   "version": "3.7.3"
  }
 },
 "nbformat": 4,
 "nbformat_minor": 2
}
