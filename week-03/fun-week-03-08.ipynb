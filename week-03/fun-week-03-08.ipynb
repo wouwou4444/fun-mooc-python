{
 "cells": [
  {
   "cell_type": "markdown",
   "metadata": {},
   "source": [
    "# Class : introduction"
   ]
  },
  {
   "cell_type": "markdown",
   "metadata": {},
   "source": [
    "## Definition : __init__ constructor"
   ]
  },
  {
   "cell_type": "markdown",
   "metadata": {},
   "source": [
    "To define a class, we need to use the class keyword\n",
    "\n",
    "The initialization of an instance (object) of the class requires the **\\_\\_init\\_\\_** method inside the class\n",
    "\n",
    "Each method function requires the first parameter (can be called **self**) which references the object itself\n",
    "\n"
   ]
  },
  {
   "cell_type": "code",
   "execution_count": 2,
   "metadata": {},
   "outputs": [],
   "source": [
    "class MyTextClass:\n",
    "    def __init__(self, text):\n",
    "        self.words = text.split()\n",
    "        self.text = text\n",
    "        "
   ]
  },
  {
   "cell_type": "code",
   "execution_count": 3,
   "metadata": {},
   "outputs": [],
   "source": [
    "t1 = MyTextClass(\"bonjour, hello, salut, how are you ?\")"
   ]
  },
  {
   "cell_type": "code",
   "execution_count": 4,
   "metadata": {},
   "outputs": [
    {
     "data": {
      "text/plain": [
       "<__main__.MyTextClass at 0x1ef2b6003c8>"
      ]
     },
     "execution_count": 4,
     "metadata": {},
     "output_type": "execute_result"
    }
   ],
   "source": [
    "t1"
   ]
  },
  {
   "cell_type": "code",
   "execution_count": 5,
   "metadata": {},
   "outputs": [
    {
     "name": "stdout",
     "output_type": "stream",
     "text": [
      "<__main__.MyTextClass object at 0x000001EF2B6003C8>\n"
     ]
    }
   ],
   "source": [
    "print(t1)"
   ]
  },
  {
   "cell_type": "code",
   "execution_count": 7,
   "metadata": {},
   "outputs": [
    {
     "data": {
      "text/plain": [
       "(['bonjour,', 'hello,', 'salut,', 'how', 'are', 'you', '?'],\n",
       " 'bonjour, hello, salut, how are you ?')"
      ]
     },
     "execution_count": 7,
     "metadata": {},
     "output_type": "execute_result"
    }
   ],
   "source": [
    "t1.words, t1.text"
   ]
  },
  {
   "cell_type": "markdown",
   "metadata": {},
   "source": [
    "## Define methods for printing and when using variable name in interpreter"
   ]
  },
  {
   "cell_type": "code",
   "execution_count": 15,
   "metadata": {},
   "outputs": [],
   "source": [
    "class MyTextClass2:\n",
    "    def __init__(self, text):\n",
    "        self.words = text.split()\n",
    "        self.text = text\n",
    "        \n",
    "    def __str__(self):\n",
    "        return f\"{self.words}\"\n",
    "        \n",
    "    def __repr__(self):\n",
    "        return f\"{self.text}:{self.words}\""
   ]
  },
  {
   "cell_type": "code",
   "execution_count": 16,
   "metadata": {},
   "outputs": [],
   "source": [
    "m2 = MyTextClass2(\"This is a second example with the print function upgraded\")"
   ]
  },
  {
   "cell_type": "code",
   "execution_count": 17,
   "metadata": {},
   "outputs": [
    {
     "data": {
      "text/plain": [
       "This is a second example with the print function upgraded:['This', 'is', 'a', 'second', 'example', 'with', 'the', 'print', 'function', 'upgraded']"
      ]
     },
     "execution_count": 17,
     "metadata": {},
     "output_type": "execute_result"
    }
   ],
   "source": [
    "m2"
   ]
  },
  {
   "cell_type": "code",
   "execution_count": 18,
   "metadata": {},
   "outputs": [
    {
     "name": "stdout",
     "output_type": "stream",
     "text": [
      "['This', 'is', 'a', 'second', 'example', 'with', 'the', 'print', 'function', 'upgraded']\n"
     ]
    }
   ],
   "source": [
    "print(m2)"
   ]
  },
  {
   "cell_type": "markdown",
   "metadata": {},
   "source": [
    "## Quizzzz"
   ]
  },
  {
   "cell_type": "code",
   "execution_count": 19,
   "metadata": {},
   "outputs": [
    {
     "name": "stdout",
     "output_type": "stream",
     "text": [
      "123 34 707\n"
     ]
    }
   ],
   "source": [
    "class Parser:\n",
    "    def __init__(self, sep):\n",
    "        self.sep = sep\n",
    "        self.parsed_line = []\n",
    "\n",
    "    def parse(self, line):\n",
    "        self.parsed_line = [i.strip() for i in line.split(self.sep)\n",
    "                            if i.strip().isdigit()]\n",
    "\n",
    "    def __str__(self):\n",
    "        return ' '.join(self.parsed_line)\n",
    "\n",
    "test = '123  : fj356:34:fjjd:    707'\n",
    "\n",
    "p = Parser(':')\n",
    "p.parse(test)\n",
    "print(p)"
   ]
  },
  {
   "cell_type": "code",
   "execution_count": null,
   "metadata": {},
   "outputs": [],
   "source": []
  }
 ],
 "metadata": {
  "kernelspec": {
   "display_name": "Python 3",
   "language": "python",
   "name": "python3"
  },
  "language_info": {
   "codemirror_mode": {
    "name": "ipython",
    "version": 3
   },
   "file_extension": ".py",
   "mimetype": "text/x-python",
   "name": "python",
   "nbconvert_exporter": "python",
   "pygments_lexer": "ipython3",
   "version": "3.7.3"
  }
 },
 "nbformat": 4,
 "nbformat_minor": 2
}
