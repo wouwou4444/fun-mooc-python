{
 "cells": [
  {
   "cell_type": "markdown",
   "metadata": {},
   "source": [
    "# Sets and methods"
   ]
  },
  {
   "cell_type": "markdown",
   "metadata": {},
   "source": [
    "## creation"
   ]
  },
  {
   "cell_type": "code",
   "execution_count": 1,
   "metadata": {},
   "outputs": [],
   "source": [
    "s = {}"
   ]
  },
  {
   "cell_type": "code",
   "execution_count": 2,
   "metadata": {},
   "outputs": [
    {
     "data": {
      "text/plain": [
       "dict"
      ]
     },
     "execution_count": 2,
     "metadata": {},
     "output_type": "execute_result"
    }
   ],
   "source": [
    "type(s)"
   ]
  },
  {
   "cell_type": "code",
   "execution_count": 3,
   "metadata": {},
   "outputs": [],
   "source": [
    "s1 = set()"
   ]
  },
  {
   "cell_type": "code",
   "execution_count": 4,
   "metadata": {},
   "outputs": [
    {
     "data": {
      "text/plain": [
       "set"
      ]
     },
     "execution_count": 4,
     "metadata": {},
     "output_type": "execute_result"
    }
   ],
   "source": [
    "type(s1)"
   ]
  },
  {
   "cell_type": "code",
   "execution_count": 5,
   "metadata": {},
   "outputs": [],
   "source": [
    "s = {1}"
   ]
  },
  {
   "cell_type": "code",
   "execution_count": 6,
   "metadata": {},
   "outputs": [],
   "source": [
    "s1 = { 2, 3}"
   ]
  },
  {
   "cell_type": "code",
   "execution_count": 7,
   "metadata": {},
   "outputs": [
    {
     "data": {
      "text/plain": [
       "set"
      ]
     },
     "execution_count": 7,
     "metadata": {},
     "output_type": "execute_result"
    }
   ],
   "source": [
    "type(s)"
   ]
  },
  {
   "cell_type": "code",
   "execution_count": 8,
   "metadata": {},
   "outputs": [
    {
     "data": {
      "text/plain": [
       "set"
      ]
     },
     "execution_count": 8,
     "metadata": {},
     "output_type": "execute_result"
    }
   ],
   "source": [
    "type(s1)"
   ]
  },
  {
   "cell_type": "code",
   "execution_count": 10,
   "metadata": {},
   "outputs": [],
   "source": [
    "s.update(list(range(8)))"
   ]
  },
  {
   "cell_type": "code",
   "execution_count": 11,
   "metadata": {},
   "outputs": [
    {
     "data": {
      "text/plain": [
       "{0, 1, 2, 3, 4, 5, 6, 7}"
      ]
     },
     "execution_count": 11,
     "metadata": {},
     "output_type": "execute_result"
    }
   ],
   "source": [
    "s"
   ]
  },
  {
   "cell_type": "code",
   "execution_count": 12,
   "metadata": {},
   "outputs": [
    {
     "ename": "TypeError",
     "evalue": "unhashable type: 'list'",
     "output_type": "error",
     "traceback": [
      "\u001b[1;31m---------------------------------------------------------------------------\u001b[0m",
      "\u001b[1;31mTypeError\u001b[0m                                 Traceback (most recent call last)",
      "\u001b[1;32m<ipython-input-12-1ce1a649a000>\u001b[0m in \u001b[0;36m<module>\u001b[1;34m\u001b[0m\n\u001b[1;32m----> 1\u001b[1;33m \u001b[0ms\u001b[0m\u001b[1;33m.\u001b[0m\u001b[0madd\u001b[0m\u001b[1;33m(\u001b[0m\u001b[0mlist\u001b[0m\u001b[1;33m(\u001b[0m\u001b[0mrange\u001b[0m\u001b[1;33m(\u001b[0m\u001b[1;36m5\u001b[0m\u001b[1;33m,\u001b[0m\u001b[1;36m8\u001b[0m\u001b[1;33m)\u001b[0m\u001b[1;33m)\u001b[0m\u001b[1;33m)\u001b[0m\u001b[1;33m\u001b[0m\u001b[1;33m\u001b[0m\u001b[0m\n\u001b[0m",
      "\u001b[1;31mTypeError\u001b[0m: unhashable type: 'list'"
     ]
    }
   ],
   "source": [
    "s.add(list(range(5,8)))"
   ]
  },
  {
   "cell_type": "code",
   "execution_count": 13,
   "metadata": {},
   "outputs": [],
   "source": [
    "s.add(8)"
   ]
  },
  {
   "cell_type": "code",
   "execution_count": 14,
   "metadata": {},
   "outputs": [
    {
     "data": {
      "text/plain": [
       "{0, 1, 2, 3, 4, 5, 6, 7, 8}"
      ]
     },
     "execution_count": 14,
     "metadata": {},
     "output_type": "execute_result"
    }
   ],
   "source": [
    "s"
   ]
  },
  {
   "cell_type": "code",
   "execution_count": 15,
   "metadata": {},
   "outputs": [
    {
     "data": {
      "text/plain": [
       "True"
      ]
     },
     "execution_count": 15,
     "metadata": {},
     "output_type": "execute_result"
    }
   ],
   "source": [
    "4 in s"
   ]
  },
  {
   "cell_type": "code",
   "execution_count": 16,
   "metadata": {},
   "outputs": [
    {
     "data": {
      "text/plain": [
       "False"
      ]
     },
     "execution_count": 16,
     "metadata": {},
     "output_type": "execute_result"
    }
   ],
   "source": [
    "10 in s"
   ]
  },
  {
   "cell_type": "code",
   "execution_count": 19,
   "metadata": {},
   "outputs": [
    {
     "data": {
      "text/plain": [
       "{1}"
      ]
     },
     "execution_count": 19,
     "metadata": {},
     "output_type": "execute_result"
    }
   ],
   "source": [
    "set([1, True])"
   ]
  },
  {
   "cell_type": "markdown",
   "metadata": {},
   "source": [
    "## Documentation on frozenset "
   ]
  },
  {
   "cell_type": "markdown",
   "metadata": {},
   "source": [
    "Documentation : https://docs.python.org/3/library/stdtypes.html#set-types-set-frozenset"
   ]
  },
  {
   "cell_type": "code",
   "execution_count": 20,
   "metadata": {},
   "outputs": [
    {
     "name": "stdout",
     "output_type": "stream",
     "text": [
      "<class 'frozenset'>\n",
      "frozenset({0, 1, 2, 3, 4, 5, 6, 7, 8})\n"
     ]
    }
   ],
   "source": [
    "s2 = frozenset(s)\n",
    "print(type(s2))\n",
    "print(s2)\n"
   ]
  },
  {
   "cell_type": "code",
   "execution_count": 21,
   "metadata": {},
   "outputs": [
    {
     "ename": "AttributeError",
     "evalue": "'frozenset' object has no attribute 'add'",
     "output_type": "error",
     "traceback": [
      "\u001b[1;31m---------------------------------------------------------------------------\u001b[0m",
      "\u001b[1;31mAttributeError\u001b[0m                            Traceback (most recent call last)",
      "\u001b[1;32m<ipython-input-21-66905fcea100>\u001b[0m in \u001b[0;36m<module>\u001b[1;34m\u001b[0m\n\u001b[1;32m----> 1\u001b[1;33m \u001b[0ms2\u001b[0m\u001b[1;33m.\u001b[0m\u001b[0madd\u001b[0m\u001b[1;33m(\u001b[0m\u001b[1;36m4\u001b[0m\u001b[1;33m)\u001b[0m\u001b[1;33m\u001b[0m\u001b[1;33m\u001b[0m\u001b[0m\n\u001b[0m",
      "\u001b[1;31mAttributeError\u001b[0m: 'frozenset' object has no attribute 'add'"
     ]
    }
   ],
   "source": [
    "s2.add(4)"
   ]
  },
  {
   "cell_type": "code",
   "execution_count": 27,
   "metadata": {},
   "outputs": [],
   "source": [
    "s.add(40)"
   ]
  },
  {
   "cell_type": "code",
   "execution_count": 28,
   "metadata": {},
   "outputs": [
    {
     "name": "stdout",
     "output_type": "stream",
     "text": [
      "{0, 1, 2, 3, 4, 5, 6, 7, 8, 40}\n"
     ]
    }
   ],
   "source": [
    "print(s)"
   ]
  },
  {
   "cell_type": "markdown",
   "metadata": {},
   "source": [
    "## Exo "
   ]
  },
  {
   "cell_type": "code",
   "execution_count": 30,
   "metadata": {},
   "outputs": [],
   "source": [
    "def read_set(filename):\n",
    "    with open(filename, \"r\", encoding=\"utf-8\") as file:\n",
    "        s1 = set()\n",
    "        for line in file:\n",
    "            number = line.strip()\n",
    "            s1.add(number)\n",
    "        return(s1)"
   ]
  },
  {
   "cell_type": "markdown",
   "metadata": {},
   "source": [
    "#### Search for a given list of words in filename if they are present in another given list of words in filename_set"
   ]
  },
  {
   "cell_type": "code",
   "execution_count": null,
   "metadata": {},
   "outputs": [],
   "source": [
    "def search_in_set(filename_reference, filename):\n",
    "    with open(filename_reference,encoding=\"utf-8\") as fileref:\n",
    "        # build reference set\n",
    "        s = set()\n",
    "        for line in fileref:\n",
    "            s.add(line.strip())\n",
    "            \n",
    "        # search for word in set\n",
    "        with open(filename, encoding=\"utf-8\") as file:\n",
    "            l1 = []\n",
    "            for sline in file:\n",
    "                search = sline.strip()\n",
    "                output = search in s\n",
    "                l1.append((search, output))\n",
    "            return l1\n",
    "            "
   ]
  },
  {
   "cell_type": "markdown",
   "metadata": {},
   "source": [
    "####  Exo intermediate"
   ]
  },
  {
   "cell_type": "code",
   "execution_count": 32,
   "metadata": {},
   "outputs": [
    {
     "name": "stdout",
     "output_type": "stream",
     "text": [
      " Volume in drive D has no label.\n",
      " Volume Serial Number is 14E7-15CD\n",
      "\n",
      " Directory of d:\\valbuz\\fun-mooc-python\\week-03\n",
      "\n",
      "02/06/2019  11:36             7ÿ478 marine-e1-abb.json\n",
      "02/06/2019  11:35            21ÿ378 marine-e1-ext.json\n",
      "               2 File(s)         28ÿ856 bytes\n",
      "               0 Dir(s)  17ÿ722ÿ626ÿ048 bytes free\n"
     ]
    }
   ],
   "source": [
    "!dir marin*"
   ]
  },
  {
   "cell_type": "code",
   "execution_count": 36,
   "metadata": {},
   "outputs": [
    {
     "name": "stdout",
     "output_type": "stream",
     "text": [
      "<class 'list'> 132\n",
      "<class 'list'> 132\n"
     ]
    }
   ],
   "source": [
    "import json\n",
    "\n",
    "with open(\"marine-e1-ext.json\") as exFile:\n",
    "    l1 = json.load(exFile)\n",
    "    print(type(l1), len(l1))\n",
    "    \n",
    "\n",
    "with open(\"marine-e1-abb.json\") as abFile:\n",
    "    l2 = json.load(abFile)\n",
    "    print(type(l2), len(l2))"
   ]
  },
  {
   "cell_type": "code",
   "execution_count": 38,
   "metadata": {},
   "outputs": [
    {
     "data": {
      "text/plain": [
       "[992271012,\n",
       " 47.64744,\n",
       " -3.509282,\n",
       " '2013-10-08T21:50:00',\n",
       " 'PENMEN',\n",
       " 'FR',\n",
       " '',\n",
       " '',\n",
       " '',\n",
       " '',\n",
       " '',\n",
       " 10,\n",
       " 10,\n",
       " 0,\n",
       " '',\n",
       " '',\n",
       " '']"
      ]
     },
     "execution_count": 38,
     "metadata": {},
     "output_type": "execute_result"
    }
   ],
   "source": [
    "l1[0]"
   ]
  },
  {
   "cell_type": "code",
   "execution_count": 50,
   "metadata": {},
   "outputs": [],
   "source": [
    "l1 = l1[0:32]\n",
    "l2 = l2[16:48]"
   ]
  },
  {
   "cell_type": "code",
   "execution_count": 51,
   "metadata": {},
   "outputs": [],
   "source": [
    "def build_hash_boats(boats):\n",
    "    sExt = set()\n",
    "    hExt = {}\n",
    "    for boat in boats:\n",
    "        sExt.add(boat[0])\n",
    "        hExt[boat[0]] = boat[4]\n",
    "    return sExt, hExt\n",
    "\n",
    "sBoatExt, hBoatExt = build_hash_boats(l1)"
   ]
  },
  {
   "cell_type": "code",
   "execution_count": 52,
   "metadata": {},
   "outputs": [],
   "source": [
    "def build_set_boats(boats):\n",
    "    sAbb = set()\n",
    "    for boat in boats:\n",
    "        sAbb.add(boat[0])\n",
    "    return sAbb\n",
    "\n",
    "sBoatAbb = build_set_boats(l2)"
   ]
  },
  {
   "cell_type": "code",
   "execution_count": 53,
   "metadata": {},
   "outputs": [
    {
     "name": "stdout",
     "output_type": "stream",
     "text": [
      "32 {354512000, 228965000, 227254910, 228874000, 566827000, 565327000, 227844000, 992271008, 992271012, 228017700, 226318000, 538090289, 538004150, 227811000, 248835000, 226216000, 228037700, 228213700, 248013000, 636014285, 220002000, 355426000, 255801560, 373207000, 227753180, 227468000, 228236000, 228020600, 236111974, 227558000, 305643000, 636011006}\n"
     ]
    }
   ],
   "source": [
    "print(len(sBoatExt), sBoatExt)"
   ]
  },
  {
   "cell_type": "code",
   "execution_count": 55,
   "metadata": {},
   "outputs": [
    {
     "name": "stdout",
     "output_type": "stream",
     "text": [
      "32 {256832000, 370096000, 304352000, 232003971, 227472000, 228965000, 258576910, 228282000, 228874000, 566827000, 565327000, 305364000, 235095972, 538090289, 227811000, 228925000, 228109000, 636014285, 304754000, 355426000, 227346000, 228258000, 232005840, 538090194, 228236000, 219084000, 236111974, 227905000, 305318000, 227430000, 227867000, 227254910}\n"
     ]
    }
   ],
   "source": [
    "print(len(sBoatAbb), sBoatAbb)"
   ]
  },
  {
   "cell_type": "code",
   "execution_count": 54,
   "metadata": {},
   "outputs": [
    {
     "name": "stdout",
     "output_type": "stream",
     "text": [
      "32 {992271012: 'PENMEN', 227254910: 'LAURELINE', 227844000: 'NEPTUNE III', 255801560: 'AUTOPRIDE', 220002000: 'ELSE MARIE THERESA', 636011006: 'MOSCOW KREMLIN', 227468000: 'NOMINOE', 355426000: 'AYLIN', 228965000: 'DACANI', 305643000: 'MEERA', 228017700: 'FROMVEUR II', 538004150: 'EMERALD EXPRESS', 228037700: 'SPERED BREIZH', 236111974: 'ATLANTIC WIND', 228020600: 'BESAME', 228874000: 'TOUR DAUVERGNE', 354512000: 'RED IRIS', 248013000: 'CMA CGM PEGASUS', 228213700: 'KAN AR MOOR', 227811000: 'KELOU MAD', 636014285: 'HORIZON THEANO', 538090289: 'VEGA', 228236000: 'COPPELIA', 992271008: 'SEMREV METEO', 566827000: 'HUA AN CHENG', 248835000: 'WILSON ALICANTE', 373207000: 'SILVER SUN', 226318000: 'CAP FINISTERE', 227558000: 'BOREE AL', 565327000: 'SICHEM CHALLENGE', 226216000: 'DAMIEN FLORENT', 227753180: 'SENOR BLUE SOLO SAIL'}\n"
     ]
    }
   ],
   "source": [
    "print(len(hBoatExt), hBoatExt)"
   ]
  },
  {
   "cell_type": "code",
   "execution_count": 69,
   "metadata": {},
   "outputs": [
    {
     "name": "stdout",
     "output_type": "stream",
     "text": [
      "21 {354512000, 992271008, 227844000, 992271012, 228017700, 226318000, 538004150, 248835000, 226216000, 228037700, 228213700, 248013000, 305643000, 220002000, 373207000, 255801560, 227753180, 227468000, 227558000, 228020600, 636011006}\n",
      "RED IRIS;SEMREV METEO;NEPTUNE III;PENMEN;FROMVEUR II;CAP FINISTERE;EMERALD EXPRESS;WILSON ALICANTE;DAMIEN FLORENT;SPERED BREIZH;KAN AR MOOR;CMA CGM PEGASUS;MEERA;ELSE MARIE THERESA;SILVER SUN;AUTOPRIDE;SENOR BLUE SOLO SAIL;NOMINOE;BOREE AL;BESAME;MOSCOW KREMLIN;\n",
      "\n",
      "################################\n",
      "['RED IRIS', 'SEMREV METEO', 'NEPTUNE III', 'PENMEN', 'FROMVEUR II', 'CAP FINISTERE', 'EMERALD EXPRESS', 'WILSON ALICANTE', 'DAMIEN FLORENT', 'SPERED BREIZH', 'KAN AR MOOR', 'CMA CGM PEGASUS', 'MEERA', 'ELSE MARIE THERESA', 'SILVER SUN', 'AUTOPRIDE', 'SENOR BLUE SOLO SAIL', 'NOMINOE', 'BOREE AL', 'BESAME', 'MOSCOW KREMLIN']\n",
      "['RED IRIS', 'SEMREV METEO', 'NEPTUNE III', 'PENMEN', 'FROMVEUR II', 'CAP FINISTERE', 'EMERALD EXPRESS', 'WILSON ALICANTE', 'DAMIEN FLORENT', 'SPERED BREIZH', 'KAN AR MOOR', 'CMA CGM PEGASUS', 'MEERA', 'ELSE MARIE THERESA', 'SILVER SUN', 'AUTOPRIDE', 'SENOR BLUE SOLO SAIL', 'NOMINOE', 'BOREE AL', 'BESAME', 'MOSCOW KREMLIN']\n",
      "21 {256832000, 304352000, 370096000, 232003971, 227472000, 258576910, 228282000, 305364000, 235095972, 228925000, 228109000, 304754000, 227346000, 228258000, 232005840, 538090194, 219084000, 227905000, 305318000, 227430000, 227867000}\n"
     ]
    }
   ],
   "source": [
    "sDiffExt = sBoatExt - sBoatAbb\n",
    "print(len(sDiffExt), sDiffExt)\n",
    "for id_boat in sDiffExt:\n",
    "    print(hBoatExt[id_boat], end=\";\")\n",
    "\n",
    "print(\"\\n\")    \n",
    "print(\"#\"*32)\n",
    "print([ hBoatExt[id_boat] for  id_boat in sDiffExt ])\n",
    "print([ hBoatExt[id_boat] for  id_boat in sDiffExt ])\n",
    "sDiffAbb = sBoatAbb - sBoatExt\n",
    "print(len(sDiffAbb), sDiffAbb)\n"
   ]
  },
  {
   "cell_type": "code",
   "execution_count": 76,
   "metadata": {},
   "outputs": [
    {
     "name": "stdout",
     "output_type": "stream",
     "text": [
      "11 {228236000, 236111974, 228965000, 636014285, 227811000, 228874000, 538090289, 355426000, 566827000, 565327000, 227254910}\n",
      "11 ['LAURELINE', 'AYLIN', 'DACANI', 'ATLANTIC WIND', 'TOUR DAUVERGNE', 'KELOU MAD', 'HORIZON THEANO', 'VEGA', 'COPPELIA', 'HUA AN CHENG', 'SICHEM CHALLENGE']\n"
     ]
    }
   ],
   "source": [
    "sInter = sBoatAbb & sBoatExt\n",
    "print(len(sInter), sInter)\n",
    "lInter = [ hBoatExt[idBoat] for idBoat in hBoatExt if idBoat in sInter]\n",
    "print(len(lInter), lInter)"
   ]
  },
  {
   "cell_type": "markdown",
   "metadata": {},
   "source": [
    "##### Exo fun-mooc"
   ]
  },
  {
   "cell_type": "code",
   "execution_count": 79,
   "metadata": {},
   "outputs": [],
   "source": [
    "def diff_file(extended, abbreviated):\n",
    "    sExt = set()\n",
    "    hExt = {}\n",
    "    with open(extended,encoding=\"utf-8\") as exFile:\n",
    "        for boat in exFile:\n",
    "            sExt.add(boat[0])\n",
    "            hExt[boat[0]] = boat[4]\n",
    "    \n",
    "    sAbb = set()\n",
    "    with open(abbreviated, encoding=\"utf-8\") as abFile:\n",
    "        for boat in abFile:\n",
    "            sAbb.add(boat[0])\n",
    "    \n",
    "    sDiffExt = sExt - sAbb\n",
    "    sDiffAbb = sAbb - sExt\n",
    "    sInter = sExt & sAbb\n",
    "    \n",
    "    sDiffExtName = set([ hExt[idBoat] for idBoat in hExt if idBoat in sDiffExt])\n",
    "    sInterName = set([ hExt[idBoat] for idBoat in hExt if idBoat in sInter])\n",
    "    \n",
    "    return [sDiffExtName, sInterName, sDiffAbb]\n",
    "    \n",
    "    \n",
    "def diff(extended, abbreviated):\n",
    "    sExt = set()\n",
    "    hExt = {}\n",
    "\n",
    "    for boat in extended:\n",
    "        sExt.add(boat[0])\n",
    "        hExt[boat[0]] = boat[4]\n",
    "    \n",
    "    sAbb = set()\n",
    "\n",
    "    for boat in abbreviated:\n",
    "        sAbb.add(boat[0])\n",
    "    \n",
    "    sDiffExt = sExt - sAbb\n",
    "    sDiffAbb = sAbb - sExt\n",
    "    sInter = sExt & sAbb\n",
    "    \n",
    "    sDiffExtName = set([ hExt[idBoat] for idBoat in hExt if idBoat in sDiffExt])\n",
    "    sInterName = set([ hExt[idBoat] for idBoat in hExt if idBoat in sInter])\n",
    "    \n",
    "    return (sDiffExtName, sInterName, sDiffAbb)\n",
    "            "
   ]
  },
  {
   "cell_type": "code",
   "execution_count": null,
   "metadata": {},
   "outputs": [],
   "source": []
  }
 ],
 "metadata": {
  "kernelspec": {
   "display_name": "Python 3",
   "language": "python",
   "name": "python3"
  },
  "language_info": {
   "codemirror_mode": {
    "name": "ipython",
    "version": 3
   },
   "file_extension": ".py",
   "mimetype": "text/x-python",
   "name": "python",
   "nbconvert_exporter": "python",
   "pygments_lexer": "ipython3",
   "version": "3.7.3"
  }
 },
 "nbformat": 4,
 "nbformat_minor": 2
}
