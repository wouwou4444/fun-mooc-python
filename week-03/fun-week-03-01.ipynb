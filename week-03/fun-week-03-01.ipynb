{
 "cells": [
  {
   "cell_type": "markdown",
   "metadata": {},
   "source": [
    "# Files"
   ]
  },
  {
   "cell_type": "code",
   "execution_count": 1,
   "metadata": {},
   "outputs": [
    {
     "data": {
      "text/plain": [
       "sys.version_info(major=3, minor=7, micro=3, releaselevel='final', serial=0)"
      ]
     },
     "execution_count": 1,
     "metadata": {},
     "output_type": "execute_result"
    }
   ],
   "source": [
    "import sys\n",
    "sys.version_info"
   ]
  },
  {
   "cell_type": "code",
   "execution_count": 3,
   "metadata": {},
   "outputs": [
    {
     "name": "stdout",
     "output_type": "stream",
     "text": [
      " Volume in drive D has no label.\n",
      " Volume Serial Number is 14E7-15CD\n",
      "\n",
      " Directory of d:\\valbuz\\fun-mooc-python\\week-03\n",
      "\n",
      "29/05/2019  21:51    <DIR>          .\n",
      "29/05/2019  21:51    <DIR>          ..\n",
      "29/05/2019  21:47    <DIR>          .ipynb_checkpoints\n",
      "29/05/2019  21:51             1,042 fun-week-03-01.ipynb\n",
      "29/05/2019  21:47                51 README.md\n",
      "               2 File(s)          1,093 bytes\n",
      "               3 Dir(s)  20,412,518,400 bytes free\n"
     ]
    }
   ],
   "source": [
    "!dir"
   ]
  },
  {
   "cell_type": "markdown",
   "metadata": {},
   "source": [
    "## open a file in a specific mode \n",
    "\n",
    "There are several modes\n",
    "\n",
    "    r, r+\n",
    "    w, w+\n",
    "    a, a+"
   ]
  },
  {
   "cell_type": "code",
   "execution_count": null,
   "metadata": {},
   "outputs": [],
   "source": [
    "file = open(\"README.md\", \"r\", encoding= \"utf-8\")"
   ]
  },
  {
   "cell_type": "markdown",
   "metadata": {},
   "source": [
    "## Read the file\n",
    "\n",
    "Several options :\n",
    "\n",
    "    read which reads the all file in one string\n",
    "    readlines which reads all file in a list object containing the different lines of the file\n",
    "    readline which reads the line on at a time"
   ]
  },
  {
   "cell_type": "code",
   "execution_count": 10,
   "metadata": {},
   "outputs": [],
   "source": [
    "file.seek(0)\n",
    "text_content = file.read()"
   ]
  },
  {
   "cell_type": "code",
   "execution_count": 11,
   "metadata": {},
   "outputs": [
    {
     "name": "stdout",
     "output_type": "stream",
     "text": [
      "# week 3 of Mooc Python 3\n",
      "\n",
      "* file 01\n",
      "    * files\n"
     ]
    }
   ],
   "source": [
    "print(text_content)"
   ]
  },
  {
   "cell_type": "code",
   "execution_count": 17,
   "metadata": {},
   "outputs": [
    {
     "data": {
      "text/plain": [
       "0"
      ]
     },
     "execution_count": 17,
     "metadata": {},
     "output_type": "execute_result"
    }
   ],
   "source": [
    "file.seek(0)"
   ]
  },
  {
   "cell_type": "code",
   "execution_count": null,
   "metadata": {},
   "outputs": [],
   "source": [
    "text_content_list = file.readlines()\n",
    "print(text_content_list)"
   ]
  },
  {
   "cell_type": "code",
   "execution_count": 20,
   "metadata": {},
   "outputs": [
    {
     "data": {
      "text/plain": [
       "['# week 3 of Mooc Python 3\\n', '\\n', '* file 01\\n', '    * files']"
      ]
     },
     "execution_count": 20,
     "metadata": {},
     "output_type": "execute_result"
    }
   ],
   "source": [
    "text_content_list"
   ]
  },
  {
   "cell_type": "code",
   "execution_count": 21,
   "metadata": {},
   "outputs": [
    {
     "data": {
      "text/plain": [
       "4"
      ]
     },
     "execution_count": 21,
     "metadata": {},
     "output_type": "execute_result"
    }
   ],
   "source": [
    "len(text_content_list)"
   ]
  },
  {
   "cell_type": "code",
   "execution_count": 23,
   "metadata": {},
   "outputs": [],
   "source": [
    "file.close()"
   ]
  },
  {
   "cell_type": "markdown",
   "metadata": {},
   "source": [
    "## print without the extra new line at the end print(end = \"\") "
   ]
  },
  {
   "cell_type": "code",
   "execution_count": 77,
   "metadata": {},
   "outputs": [
    {
     "name": "stdout",
     "output_type": "stream",
     "text": [
      "# Week 3 Of Mooc Python 3\n",
      "\n",
      "\n",
      "\n",
      "* File 01\n",
      "\n",
      "    * Files\n",
      "# Week 3 Of Mooc Python 3\n",
      "\n",
      "* File 01\n",
      "    * Files"
     ]
    }
   ],
   "source": [
    "with open(r'README.md', \"r\", encoding= \"utf-8\") as file1:\n",
    "    for line in file1:\n",
    "        print(line.title())\n",
    "\n",
    "## Second loop using end = \"\"\n",
    "with open(r'README.md', \"r\", encoding= \"utf-8\") as file1:\n",
    "    for line in file1:\n",
    "        print(line.title(), end = \"\")"
   ]
  },
  {
   "cell_type": "markdown",
   "metadata": {},
   "source": [
    "# Protocol : context manager "
   ]
  },
  {
   "cell_type": "code",
   "execution_count": 25,
   "metadata": {},
   "outputs": [
    {
     "name": "stdout",
     "output_type": "stream",
     "text": [
      "['#', 'week', '3', 'of', 'Mooc', 'Python', '3']\n",
      "[]\n",
      "['*', 'file', '01']\n",
      "['*', 'files']\n"
     ]
    }
   ],
   "source": [
    "with open(r'README.md', 'r', encoding=\"utf-8\") as file:\n",
    "    for line in file:\n",
    "        print(line.split())"
   ]
  },
  {
   "cell_type": "code",
   "execution_count": 58,
   "metadata": {},
   "outputs": [],
   "source": [
    "with open(r'c:\\tmp\\spam2.txt', 'bw') as file2:\n",
    "    for i in range(100):\n",
    "        file2.write(b'\\x3d')\n",
    "    for i in range(9):\n",
    "        file2.write(b'\\n\\60')"
   ]
  },
  {
   "cell_type": "code",
   "execution_count": 54,
   "metadata": {},
   "outputs": [
    {
     "name": "stdout",
     "output_type": "stream",
     "text": [
      "====================================================================================================\n"
     ]
    }
   ],
   "source": [
    "!type \"c:\\tmp\\spam.txt\""
   ]
  },
  {
   "cell_type": "code",
   "execution_count": 59,
   "metadata": {},
   "outputs": [
    {
     "name": "stdout",
     "output_type": "stream",
     "text": [
      "====================================================================================================\n",
      "0\n",
      "0\n",
      "0\n",
      "0\n",
      "0\n",
      "0\n",
      "0\n",
      "0\n",
      "0\n"
     ]
    }
   ],
   "source": [
    "!type \"c:\\tmp\\spam2.txt\""
   ]
  },
  {
   "cell_type": "code",
   "execution_count": 41,
   "metadata": {},
   "outputs": [],
   "source": [
    "s1 = b\"test\""
   ]
  },
  {
   "cell_type": "code",
   "execution_count": 42,
   "metadata": {},
   "outputs": [
    {
     "data": {
      "text/plain": [
       "b'test'"
      ]
     },
     "execution_count": 42,
     "metadata": {},
     "output_type": "execute_result"
    }
   ],
   "source": [
    "s1"
   ]
  },
  {
   "cell_type": "code",
   "execution_count": 43,
   "metadata": {},
   "outputs": [
    {
     "data": {
      "text/plain": [
       "bytes"
      ]
     },
     "execution_count": 43,
     "metadata": {},
     "output_type": "execute_result"
    }
   ],
   "source": [
    "type(s1)"
   ]
  },
  {
   "cell_type": "code",
   "execution_count": 51,
   "metadata": {},
   "outputs": [
    {
     "data": {
      "text/plain": [
       "\"b'test'\""
      ]
     },
     "execution_count": 51,
     "metadata": {},
     "output_type": "execute_result"
    }
   ],
   "source": [
    "(f\"{s1}\")"
   ]
  },
  {
   "cell_type": "markdown",
   "metadata": {},
   "source": [
    "##  Documentation\n",
    "\n",
    "for the different opening mode of a file : https://docs.python.org/3/library/functions.html#open\n",
    "\n",
    "on object files : https://docs.python.org/3/glossary.html#term-file-object\n",
    "\n",
    "on io module : https://docs.python.org/3/library/io.html#module-io\n"
   ]
  },
  {
   "cell_type": "code",
   "execution_count": 60,
   "metadata": {},
   "outputs": [
    {
     "data": {
      "text/plain": [
       "b'test'"
      ]
     },
     "execution_count": 60,
     "metadata": {},
     "output_type": "execute_result"
    }
   ],
   "source": [
    "s1"
   ]
  },
  {
   "cell_type": "code",
   "execution_count": 61,
   "metadata": {},
   "outputs": [
    {
     "data": {
      "text/plain": [
       "bytes"
      ]
     },
     "execution_count": 61,
     "metadata": {},
     "output_type": "execute_result"
    }
   ],
   "source": [
    "type(s1)"
   ]
  },
  {
   "cell_type": "code",
   "execution_count": 63,
   "metadata": {},
   "outputs": [
    {
     "data": {
      "text/plain": [
       "str"
      ]
     },
     "execution_count": 63,
     "metadata": {},
     "output_type": "execute_result"
    }
   ],
   "source": [
    "type(str(s1))"
   ]
  },
  {
   "cell_type": "code",
   "execution_count": 64,
   "metadata": {},
   "outputs": [
    {
     "data": {
      "text/plain": [
       "str"
      ]
     },
     "execution_count": 64,
     "metadata": {},
     "output_type": "execute_result"
    }
   ],
   "source": [
    "type(\"test\")"
   ]
  },
  {
   "cell_type": "code",
   "execution_count": 66,
   "metadata": {},
   "outputs": [
    {
     "data": {
      "text/plain": [
       "bytes"
      ]
     },
     "execution_count": 66,
     "metadata": {},
     "output_type": "execute_result"
    }
   ],
   "source": [
    "type(bytes(\"test\", \"utf-8\"))"
   ]
  },
  {
   "cell_type": "code",
   "execution_count": 68,
   "metadata": {},
   "outputs": [
    {
     "data": {
      "text/plain": [
       "b'\\xff\\xfet\\x00e\\x00s\\x00t\\x00'"
      ]
     },
     "execution_count": 68,
     "metadata": {},
     "output_type": "execute_result"
    }
   ],
   "source": [
    "bytes(\"test\", \"utf-16\")"
   ]
  },
  {
   "cell_type": "markdown",
   "metadata": {},
   "source": [
    "## Iterator\n"
   ]
  },
  {
   "cell_type": "code",
   "execution_count": 70,
   "metadata": {},
   "outputs": [
    {
     "name": "stdout",
     "output_type": "stream",
     "text": [
      "True\n"
     ]
    }
   ],
   "source": [
    "with open(\"README.md\", encoding='utf-8') as entree:\n",
    "    print(entree.__iter__() is entree)"
   ]
  },
  {
   "cell_type": "markdown",
   "metadata": {},
   "source": [
    "## low level functions\n",
    "\n",
    "repr\n",
    "\n"
   ]
  },
  {
   "cell_type": "code",
   "execution_count": 71,
   "metadata": {},
   "outputs": [],
   "source": [
    "lines = \"abc\" + \"\\n\" + \"def\"  + \"\\n\""
   ]
  },
  {
   "cell_type": "code",
   "execution_count": 74,
   "metadata": {},
   "outputs": [
    {
     "name": "stdout",
     "output_type": "stream",
     "text": [
      "abc\n",
      "def\n"
     ]
    }
   ],
   "source": [
    "print(lines, end = \"\")"
   ]
  },
  {
   "cell_type": "code",
   "execution_count": 78,
   "metadata": {},
   "outputs": [
    {
     "name": "stdout",
     "output_type": "stream",
     "text": [
      "'abc\\ndef\\n'\n"
     ]
    }
   ],
   "source": [
    "print(repr(lines))"
   ]
  },
  {
   "cell_type": "code",
   "execution_count": 79,
   "metadata": {},
   "outputs": [
    {
     "data": {
      "text/plain": [
       "'abc\\ndef\\n'"
      ]
     },
     "execution_count": 79,
     "metadata": {},
     "output_type": "execute_result"
    }
   ],
   "source": [
    "lines"
   ]
  },
  {
   "cell_type": "code",
   "execution_count": 80,
   "metadata": {},
   "outputs": [
    {
     "data": {
      "text/plain": [
       "\"'abc\\\\ndef\\\\n'\""
      ]
     },
     "execution_count": 80,
     "metadata": {},
     "output_type": "execute_result"
    }
   ],
   "source": [
    "repr(lines)"
   ]
  },
  {
   "cell_type": "markdown",
   "metadata": {},
   "source": [
    "## Open file in binery mode "
   ]
  },
  {
   "cell_type": "code",
   "execution_count": 88,
   "metadata": {},
   "outputs": [
    {
     "name": "stdout",
     "output_type": "stream",
     "text": [
      "0 -> 35, 0x23, #,'#'\n",
      "1 -> 32, 0x20,  ,' '\n",
      "2 -> 119, 0x77, w,'w'\n",
      "3 -> 101, 0x65, e,'e'\n",
      "4 -> 101, 0x65, e,'e'\n",
      "5 -> 107, 0x6b, k,'k'\n",
      "6 -> 32, 0x20,  ,' '\n",
      "7 -> 51, 0x33, 3,'3'\n",
      "8 -> 32, 0x20,  ,' '\n",
      "9 -> 111, 0x6f, o,'o'\n",
      "10 -> 102, 0x66, f,'f'\n",
      "11 -> 32, 0x20,  ,' '\n",
      "12 -> 77, 0x4d, M,'M'\n",
      "13 -> 111, 0x6f, o,'o'\n",
      "14 -> 111, 0x6f, o,'o'\n",
      "15 -> 99, 0x63, c,'c'\n",
      "16 -> 32, 0x20,  ,' '\n",
      "17 -> 80, 0x50, P,'P'\n",
      "18 -> 121, 0x79, y,'y'\n",
      "19 -> 116, 0x74, t,'t'\n",
      "20 -> 104, 0x68, h,'h'\n",
      "21 -> 111, 0x6f, o,'o'\n",
      "22 -> 110, 0x6e, n,'n'\n",
      "23 -> 32, 0x20,  ,' '\n",
      "24 -> 51, 0x33, 3,'3'\n",
      "25 -> 10, 0xa, \n",
      ",'\\n'\n",
      "26 -> 10, 0xa, \n",
      ",'\\n'\n",
      "27 -> 102, 0x66, f,'f'\n",
      "28 -> 117, 0x75, u,'u'\n",
      "29 -> 110, 0x6e, n,'n'\n",
      "30 -> 99, 0x63, c,'c'\n",
      "31 -> 116, 0x74, t,'t'\n",
      "32 -> 105, 0x69, i,'i'\n",
      "33 -> 111, 0x6f, o,'o'\n",
      "34 -> 110, 0x6e, n,'n'\n",
      "35 -> 32, 0x20,  ,' '\n",
      "36 -> 111, 0x6f, o,'o'\n",
      "37 -> 110, 0x6e, n,'n'\n",
      "38 -> 32, 0x20,  ,' '\n",
      "39 -> 102, 0x66, f,'f'\n",
      "40 -> 105, 0x69, i,'i'\n",
      "41 -> 108, 0x6c, l,'l'\n",
      "42 -> 101, 0x65, e,'e'\n",
      "43 -> 115, 0x73, s,'s'\n",
      "44 -> 44, 0x2c, ,,','\n",
      "45 -> 32, 0x20,  ,' '\n",
      "46 -> 111, 0x6f, o,'o'\n",
      "47 -> 112, 0x70, p,'p'\n",
      "48 -> 101, 0x65, e,'e'\n",
      "49 -> 110, 0x6e, n,'n'\n",
      "50 -> 44, 0x2c, ,,','\n",
      "51 -> 32, 0x20,  ,' '\n",
      "52 -> 114, 0x72, r,'r'\n",
      "53 -> 101, 0x65, e,'e'\n",
      "54 -> 97, 0x61, a,'a'\n",
      "55 -> 100, 0x64, d,'d'\n",
      "56 -> 44, 0x2c, ,,','\n",
      "57 -> 32, 0x20,  ,' '\n",
      "58 -> 99, 0x63, c,'c'\n",
      "59 -> 108, 0x6c, l,'l'\n",
      "60 -> 111, 0x6f, o,'o'\n",
      "61 -> 115, 0x73, s,'s'\n",
      "62 -> 101, 0x65, e,'e'\n",
      "63 -> 44, 0x2c, ,,','\n",
      "64 -> 32, 0x20,  ,' '\n",
      "65 -> 114, 0x72, r,'r'\n",
      "66 -> 101, 0x65, e,'e'\n",
      "67 -> 97, 0x61, a,'a'\n",
      "68 -> 108, 0x6c, l,'l'\n",
      "69 -> 105, 0x69, i,'i'\n",
      "70 -> 110, 0x6e, n,'n'\n",
      "71 -> 101, 0x65, e,'e'\n",
      "72 -> 115, 0x73, s,'s'\n",
      "73 -> 44, 0x2c, ,,','\n",
      "74 -> 32, 0x20,  ,' '\n",
      "75 -> 114, 0x72, r,'r'\n",
      "76 -> 101, 0x65, e,'e'\n",
      "77 -> 97, 0x61, a,'a'\n",
      "78 -> 100, 0x64, d,'d'\n",
      "79 -> 108, 0x6c, l,'l'\n",
      "80 -> 105, 0x69, i,'i'\n",
      "81 -> 110, 0x6e, n,'n'\n",
      "82 -> 101, 0x65, e,'e'\n",
      "83 -> 44, 0x2c, ,,','\n",
      "84 -> 10, 0xa, \n",
      ",'\\n'\n",
      "85 -> 32, 0x20,  ,' '\n",
      "86 -> 10, 0xa, \n",
      ",'\\n'\n",
      "87 -> 32, 0x20,  ,' '\n",
      "88 -> 32, 0x20,  ,' '\n",
      "89 -> 32, 0x20,  ,' '\n",
      "90 -> 32, 0x20,  ,' '\n",
      "91 -> 32, 0x20,  ,' '\n",
      "92 -> 34, 0x22, \",'\"'\n",
      "93 -> 101, 0x65, e,'e'\n",
      "94 -> 110, 0x6e, n,'n'\n",
      "95 -> 32, 0x20,  ,' '\n",
      "96 -> 102, 0x66, f,'f'\n",
      "97 -> 114, 0x72, r,'r'\n",
      "98 -> 97, 0x61, a,'a'\n",
      "99 -> 110, 0x6e, n,'n'\n",
      "100 -> 195, 0xc3, Ã,'Ã'\n",
      "101 -> 167, 0xa7, §,'§'\n",
      "102 -> 97, 0x61, a,'a'\n",
      "103 -> 105, 0x69, i,'i'\n",
      "104 -> 115, 0x73, s,'s'\n",
      "105 -> 32, 0x20,  ,' '\n",
      "106 -> 100, 0x64, d,'d'\n",
      "107 -> 97, 0x61, a,'a'\n",
      "108 -> 110, 0x6e, n,'n'\n",
      "109 -> 115, 0x73, s,'s'\n",
      "110 -> 32, 0x20,  ,' '\n",
      "111 -> 108, 0x6c, l,'l'\n",
      "112 -> 101, 0x65, e,'e'\n",
      "113 -> 32, 0x20,  ,' '\n",
      "114 -> 102, 0x66, f,'f'\n",
      "115 -> 105, 0x69, i,'i'\n",
      "116 -> 99, 0x63, c,'c'\n",
      "117 -> 104, 0x68, h,'h'\n",
      "118 -> 105, 0x69, i,'i'\n",
      "119 -> 101, 0x65, e,'e'\n",
      "120 -> 114, 0x72, r,'r'\n",
      "121 -> 44, 0x2c, ,,','\n",
      "122 -> 32, 0x20,  ,' '\n",
      "123 -> 195, 0xc3, Ã,'Ã'\n",
      "124 -> 160, 0xa0,  ,'\\xa0'\n",
      "125 -> 32, 0x20,  ,' '\n",
      "126 -> 118, 0x76, v,'v'\n",
      "127 -> 195, 0xc3, Ã,'Ã'\n",
      "128 -> 169, 0xa9, ©,'©'\n",
      "129 -> 114, 0x72, r,'r'\n",
      "130 -> 105, 0x69, i,'i'\n",
      "131 -> 102, 0x66, f,'f'\n",
      "132 -> 105, 0x69, i,'i'\n",
      "133 -> 101, 0x65, e,'e'\n",
      "134 -> 114, 0x72, r,'r'\n",
      "135 -> 32, 0x20,  ,' '\n",
      "136 -> 101, 0x65, e,'e'\n",
      "137 -> 110, 0x6e, n,'n'\n",
      "138 -> 32, 0x20,  ,' '\n",
      "139 -> 109, 0x6d, m,'m'\n",
      "140 -> 111, 0x6f, o,'o'\n",
      "141 -> 100, 0x64, d,'d'\n",
      "142 -> 101, 0x65, e,'e'\n",
      "143 -> 32, 0x20,  ,' '\n",
      "144 -> 98, 0x62, b,'b'\n",
      "145 -> 105, 0x69, i,'i'\n",
      "146 -> 110, 0x6e, n,'n'\n",
      "147 -> 97, 0x61, a,'a'\n",
      "148 -> 105, 0x69, i,'i'\n",
      "149 -> 114, 0x72, r,'r'\n",
      "150 -> 101, 0x65, e,'e'\n",
      "151 -> 34, 0x22, \",'\"'\n",
      "152 -> 10, 0xa, \n",
      ",'\\n'\n",
      "153 -> 10, 0xa, \n",
      ",'\\n'\n",
      "154 -> 42, 0x2a, *,'*'\n",
      "155 -> 32, 0x20,  ,' '\n",
      "156 -> 102, 0x66, f,'f'\n",
      "157 -> 105, 0x69, i,'i'\n",
      "158 -> 108, 0x6c, l,'l'\n",
      "159 -> 101, 0x65, e,'e'\n",
      "160 -> 32, 0x20,  ,' '\n",
      "161 -> 48, 0x30, 0,'0'\n",
      "162 -> 49, 0x31, 1,'1'\n",
      "163 -> 10, 0xa, \n",
      ",'\\n'\n",
      "164 -> 32, 0x20,  ,' '\n",
      "165 -> 32, 0x20,  ,' '\n",
      "166 -> 32, 0x20,  ,' '\n",
      "167 -> 32, 0x20,  ,' '\n",
      "168 -> 42, 0x2a, *,'*'\n",
      "169 -> 32, 0x20,  ,' '\n",
      "170 -> 102, 0x66, f,'f'\n",
      "171 -> 105, 0x69, i,'i'\n",
      "172 -> 108, 0x6c, l,'l'\n",
      "173 -> 101, 0x65, e,'e'\n",
      "174 -> 115, 0x73, s,'s'\n",
      "175 -> 10, 0xa, \n",
      ",'\\n'\n",
      "176 -> 32, 0x20,  ,' '\n",
      "177 -> 32, 0x20,  ,' '\n",
      "178 -> 32, 0x20,  ,' '\n",
      "179 -> 32, 0x20,  ,' '\n"
     ]
    }
   ],
   "source": [
    "with open(\"README.md\", 'rb') as entreeb:\n",
    "    octects = entreeb.read()\n",
    "    for i, octect in enumerate(octects):\n",
    "        print(f\"{i} -> {octect}, {hex(octect)}, {chr(octect)},{repr(chr(octect))}\")"
   ]
  },
  {
   "cell_type": "markdown",
   "metadata": {},
   "source": [
    "## pathlib library \n",
    "\n",
    "documentation ; https://docs.python.org/3/library/pathlib.html"
   ]
  },
  {
   "cell_type": "code",
   "execution_count": 89,
   "metadata": {},
   "outputs": [],
   "source": [
    "from pathlib import Path"
   ]
  },
  {
   "cell_type": "code",
   "execution_count": 105,
   "metadata": {},
   "outputs": [],
   "source": [
    "file3_path = Path(\"README.md\")"
   ]
  },
  {
   "cell_type": "code",
   "execution_count": 106,
   "metadata": {},
   "outputs": [],
   "source": [
    "file4_path = Path(\"Tete\")"
   ]
  },
  {
   "cell_type": "code",
   "execution_count": 107,
   "metadata": {},
   "outputs": [
    {
     "data": {
      "text/plain": [
       "True"
      ]
     },
     "execution_count": 107,
     "metadata": {},
     "output_type": "execute_result"
    }
   ],
   "source": [
    "file3_path.exists()"
   ]
  },
  {
   "cell_type": "code",
   "execution_count": 108,
   "metadata": {},
   "outputs": [
    {
     "data": {
      "text/plain": [
       "False"
      ]
     },
     "execution_count": 108,
     "metadata": {},
     "output_type": "execute_result"
    }
   ],
   "source": [
    "file4_path.exists()"
   ]
  },
  {
   "cell_type": "code",
   "execution_count": 109,
   "metadata": {},
   "outputs": [
    {
     "data": {
      "text/plain": [
       "WindowsPath('README.md')"
      ]
     },
     "execution_count": 109,
     "metadata": {},
     "output_type": "execute_result"
    }
   ],
   "source": [
    "file3_path"
   ]
  },
  {
   "cell_type": "code",
   "execution_count": 110,
   "metadata": {},
   "outputs": [
    {
     "data": {
      "text/plain": [
       "WindowsPath('Tete')"
      ]
     },
     "execution_count": 110,
     "metadata": {},
     "output_type": "execute_result"
    }
   ],
   "source": [
    "file4_path"
   ]
  },
  {
   "cell_type": "code",
   "execution_count": 111,
   "metadata": {},
   "outputs": [
    {
     "name": "stdout",
     "output_type": "stream",
     "text": [
      "os.stat_result(st_mode=33206, st_ino=281474977064963, st_dev=350688717, st_nlink=1, st_uid=0, st_gid=0, st_size=281, st_atime=1559173828, st_mtime=1559173828, st_ctime=1559159231)\n"
     ]
    }
   ],
   "source": [
    "print(file3_path.stat())\n",
    "if file4.exists():\n",
    "    print(file4_path.stat())"
   ]
  },
  {
   "cell_type": "code",
   "execution_count": 112,
   "metadata": {},
   "outputs": [],
   "source": [
    "dir_path = Path(\"./\")\n"
   ]
  },
  {
   "cell_type": "code",
   "execution_count": 113,
   "metadata": {},
   "outputs": [
    {
     "data": {
      "text/plain": [
       "WindowsPath('.')"
      ]
     },
     "execution_count": 113,
     "metadata": {},
     "output_type": "execute_result"
    }
   ],
   "source": [
    "dir_path"
   ]
  },
  {
   "cell_type": "code",
   "execution_count": 117,
   "metadata": {},
   "outputs": [
    {
     "name": "stdout",
     "output_type": "stream",
     "text": [
      ".ipynb_checkpoints\n",
      "fun-week-03-01.ipynb\n",
      "README.md\n"
     ]
    }
   ],
   "source": [
    "for match in dir_path.glob(\"*\"):\n",
    "    print(match)"
   ]
  },
  {
   "cell_type": "code",
   "execution_count": 118,
   "metadata": {},
   "outputs": [
    {
     "name": "stdout",
     "output_type": "stream",
     "text": [
      "README.md\n"
     ]
    }
   ],
   "source": [
    "for match in dir_path.glob(\"*.md\"):\n",
    "    print(match)"
   ]
  },
  {
   "cell_type": "code",
   "execution_count": 119,
   "metadata": {},
   "outputs": [
    {
     "data": {
      "text/plain": [
       "pathlib.WindowsPath"
      ]
     },
     "execution_count": 119,
     "metadata": {},
     "output_type": "execute_result"
    }
   ],
   "source": [
    "type(file3_path)"
   ]
  },
  {
   "cell_type": "markdown",
   "metadata": {},
   "source": [
    "# Data serialization, save data in file "
   ]
  },
  {
   "cell_type": "markdown",
   "metadata": {},
   "source": [
    "## Json file & format\n",
    "\n",
    "http://fr.wikipedia.org/wiki/JavaScript_Object_Notation\n",
    "\n",
    "with the library **json**\n"
   ]
  },
  {
   "cell_type": "code",
   "execution_count": 139,
   "metadata": {},
   "outputs": [],
   "source": [
    "import json\n",
    "\n",
    "data = [\n",
    "    \"string 1\",\n",
    "    [1, 2, 'a', [3.23, 4.32], {'sam': 32, 'scooby': 43}],\n",
    "    \"tuple\",\n",
    "    (1, 2, 3),\n",
    "]\n",
    "\n",
    "\n"
   ]
  },
  {
   "cell_type": "code",
   "execution_count": 140,
   "metadata": {},
   "outputs": [
    {
     "data": {
      "text/plain": [
       "['string 1',\n",
       " [1, 2, 'a', [3.23, 4.32], {'sam': 32, 'scooby': 43}],\n",
       " 'tuple',\n",
       " (1, 2, 3)]"
      ]
     },
     "execution_count": 140,
     "metadata": {},
     "output_type": "execute_result"
    }
   ],
   "source": [
    "data"
   ]
  },
  {
   "cell_type": "code",
   "execution_count": 141,
   "metadata": {},
   "outputs": [],
   "source": [
    "## Save to disk in json format\n",
    "with open(\"data.json\", \"w\", encoding =\"utf-8\") as json_file:\n",
    "    json.dump(data, json_file)"
   ]
  },
  {
   "cell_type": "code",
   "execution_count": 142,
   "metadata": {},
   "outputs": [
    {
     "name": "stdout",
     "output_type": "stream",
     "text": [
      "[\"string 1\", [1, 2, \"a\", [3.23, 4.32], {\"sam\": 32, \"scooby\": 43}], \"tuple\", [1, 2, 3]]\n"
     ]
    }
   ],
   "source": [
    "!type \"data.json\""
   ]
  },
  {
   "cell_type": "code",
   "execution_count": 143,
   "metadata": {},
   "outputs": [],
   "source": [
    "with open(\"data.json\", \"r\", encoding= \"utf-8\") as json_file:\n",
    "    data2 = json.load(json_file)\n",
    "\n"
   ]
  },
  {
   "cell_type": "markdown",
   "metadata": {},
   "source": [
    "### Tuple is changed in list !!!!!! "
   ]
  },
  {
   "cell_type": "code",
   "execution_count": 144,
   "metadata": {},
   "outputs": [
    {
     "data": {
      "text/plain": [
       "['string 1',\n",
       " [1, 2, 'a', [3.23, 4.32], {'sam': 32, 'scooby': 43}],\n",
       " 'tuple',\n",
       " [1, 2, 3]]"
      ]
     },
     "execution_count": 144,
     "metadata": {},
     "output_type": "execute_result"
    }
   ],
   "source": [
    "data2\n"
   ]
  },
  {
   "cell_type": "markdown",
   "metadata": {},
   "source": [
    "## Other formats : csv, pickle and XML\n",
    "\n",
    "csv can be used for that importing csv library\n",
    "\n",
    "pickle is specific to python and can be used for restarting a program in case of failure : https://docs.python.org/3/library/pickle.html"
   ]
  },
  {
   "cell_type": "code",
   "execution_count": 148,
   "metadata": {},
   "outputs": [],
   "source": [
    "import pickle\n",
    "\n",
    "with open(\"data.pickle\", \"wb\") as pickle_output:\n",
    "    pickle.dump(data, pickle_output)\n",
    "    pickle.dump(data2, pickle_output)"
   ]
  },
  {
   "cell_type": "code",
   "execution_count": 149,
   "metadata": {},
   "outputs": [
    {
     "data": {
      "text/plain": [
       "b'\\x80\\x03]q\\x00(X\\x08\\x00\\x00\\x00string 1q\\x01]q\\x02(K\\x01K\\x02X\\x01\\x00\\x00\\x00aq\\x03]q\\x04(G@\\t\\xd7\\n=p\\xa3\\xd7G@\\x11G\\xae\\x14z\\xe1He}q\\x05(X\\x03\\x00\\x00\\x00samq\\x06K X\\x06\\x00\\x00\\x00scoobyq\\x07K+ueX\\x05\\x00\\x00\\x00tupleq\\x08K\\x01K\\x02K\\x03\\x87q\\te.'"
      ]
     },
     "execution_count": 149,
     "metadata": {},
     "output_type": "execute_result"
    }
   ],
   "source": [
    "pickle.dumps(data)"
   ]
  },
  {
   "cell_type": "code",
   "execution_count": 150,
   "metadata": {},
   "outputs": [
    {
     "data": {
      "text/plain": [
       "['string 1',\n",
       " [1, 2, 'a', [3.23, 4.32], {'sam': 32, 'scooby': 43}],\n",
       " 'tuple',\n",
       " (1, 2, 3)]"
      ]
     },
     "execution_count": 150,
     "metadata": {},
     "output_type": "execute_result"
    }
   ],
   "source": [
    "data"
   ]
  },
  {
   "cell_type": "code",
   "execution_count": 153,
   "metadata": {},
   "outputs": [],
   "source": [
    "with open(\"data.pickle\", \"rb\") as pickle_file:\n",
    "    d1 = pickle.load(pickle_file)\n",
    "    d2 = pickle.load(pickle_file)\n",
    "    "
   ]
  },
  {
   "cell_type": "code",
   "execution_count": 154,
   "metadata": {},
   "outputs": [
    {
     "data": {
      "text/plain": [
       "(['string 1',\n",
       "  [1, 2, 'a', [3.23, 4.32], {'sam': 32, 'scooby': 43}],\n",
       "  'tuple',\n",
       "  (1, 2, 3)],\n",
       " ['string 1',\n",
       "  [1, 2, 'a', [3.23, 4.32], {'sam': 32, 'scooby': 43}],\n",
       "  'tuple',\n",
       "  [1, 2, 3]])"
      ]
     },
     "execution_count": 154,
     "metadata": {},
     "output_type": "execute_result"
    }
   ],
   "source": [
    "d1, d2"
   ]
  },
  {
   "cell_type": "markdown",
   "metadata": {},
   "source": [
    "## File format general information\n",
    "\n",
    "documentation here : https://docs.python.org/3/library/fileformats.html"
   ]
  },
  {
   "cell_type": "markdown",
   "metadata": {},
   "source": [
    "## XML files\n",
    "\n",
    "documentation : https://docs.python.org/3/library/xml.html\n",
    "\n",
    "one XML parser **etree**: https://docs.python.org/3/library/xml.etree.elementtree.html#module-xml.etree.ElementTree"
   ]
  },
  {
   "cell_type": "markdown",
   "metadata": {},
   "source": [
    "# ConfigParser class for configuration file (*ini)\n",
    "\n",
    "file is organized in sections containing key, value pairs\n",
    "\n",
    "documentation : https://docs.python.org/3/library/configparser.html\n",
    "\n",
    "JSON files vs ConfigParser : how to choose : https://stackoverflow.com/questions/36255067/python-using-configparser-vs-json-file"
   ]
  },
  {
   "cell_type": "code",
   "execution_count": 155,
   "metadata": {},
   "outputs": [],
   "source": [
    "import configparser\n",
    "config = configparser.ConfigParser()\n",
    "config['DEFAULT'] = {'ServerAliveInterval': '45',\n",
    "                     'Compression': 'yes', \n",
    "                     'CompressionLevel': '9'}\n",
    "config['bitbucket.org'] = {}\n",
    "config['bitbucket.org']['User'] = 'hg'\n",
    "config['topsecret.server.com'] = {}\n",
    "topsecret = config['topsecret.server.com']\n",
    "topsecret['Port'] = '50022'     # mutates the parser\n",
    "topsecret['ForwardX11'] = 'no'  # same here\n",
    "config['DEFAULT']['ForwardX11'] = 'yes'\n",
    "with open('exampleConfigParser.ini', 'w') as configfile:\n",
    "    config.write(configfile)"
   ]
  },
  {
   "cell_type": "code",
   "execution_count": 156,
   "metadata": {},
   "outputs": [
    {
     "name": "stdout",
     "output_type": "stream",
     "text": [
      "[DEFAULT]\n",
      "serveraliveinterval = 45\n",
      "compression = yes\n",
      "compressionlevel = 9\n",
      "forwardx11 = yes\n",
      "\n",
      "[bitbucket.org]\n",
      "user = hg\n",
      "\n",
      "[topsecret.server.com]\n",
      "port = 50022\n",
      "forwardx11 = no\n",
      "\n"
     ]
    }
   ],
   "source": [
    "!type \"exampleConfigParser.ini\""
   ]
  },
  {
   "cell_type": "markdown",
   "metadata": {},
   "source": [
    "# Module sys and standard input, output, error redirection\n",
    "\n",
    "redirection and pipe documentation : "
   ]
  },
  {
   "cell_type": "code",
   "execution_count": 158,
   "metadata": {},
   "outputs": [
    {
     "name": "stdout",
     "output_type": "stream",
     "text": [
      "<_io.TextIOWrapper name='<stdin>' mode='r' encoding='cp1252'>\n",
      "<ipykernel.iostream.OutStream object at 0x0000021AD7892240>\n",
      "<ipykernel.iostream.OutStream object at 0x0000021AD7892208>\n"
     ]
    }
   ],
   "source": [
    "import sys\n",
    "for channel in (sys.stdin, sys.stdout, sys.stderr):\n",
    "    print(channel)"
   ]
  },
  {
   "cell_type": "code",
   "execution_count": null,
   "metadata": {},
   "outputs": [],
   "source": [
    "## Redirect to another file the stout then set it back to the terminal\n",
    "\n",
    "import sys\n",
    "# open destination file\n",
    "other_stdout = open('my_output.txt', 'w', encoding='utf-8')\n",
    "\n",
    "# keep the reference on the old terminal\n",
    "tmp = sys.stdout\n",
    "print('tmp prints to the terminal')\n",
    "\n",
    "# redirection\n",
    "sys.stdout = other_stdout\n",
    "print(f'now we are printing in the file {other_stdout}')\n",
    "print(\"second line to the new o\")\n",
    "\n",
    "# change back sys.stdout to the terminal\n",
    "sys.stdout = tmp\n",
    "\n",
    "# close file descriptor\n",
    "other_stdout.close()\n",
    "print('printing back to the terminal')"
   ]
  }
 ],
 "metadata": {
  "kernelspec": {
   "display_name": "Python 3",
   "language": "python",
   "name": "python3"
  },
  "language_info": {
   "codemirror_mode": {
    "name": "ipython",
    "version": 3
   },
   "file_extension": ".py",
   "mimetype": "text/x-python",
   "name": "python",
   "nbconvert_exporter": "python",
   "pygments_lexer": "ipython3",
   "version": "3.7.3"
  }
 },
 "nbformat": 4,
 "nbformat_minor": 2
}
