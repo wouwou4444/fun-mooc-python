{
 "cells": [
  {
   "cell_type": "markdown",
   "metadata": {},
   "source": [
    "# Shared references : shallow copy and deepcopy"
   ]
  },
  {
   "cell_type": "code",
   "execution_count": 2,
   "metadata": {},
   "outputs": [
    {
     "name": "stdout",
     "output_type": "stream",
     "text": [
      "[0, 1, 2, 3, 4, 5, 6, 7, 8, 9, [10, 11, 12]]\n"
     ]
    }
   ],
   "source": [
    "a = list(range(10))\n",
    "\n",
    "a.append([10, 11, 12])\n",
    "\n",
    "print(a)\n",
    "\n",
    "b = a\n",
    "\n",
    "c = a[:]\n",
    "\n",
    "import copy\n",
    "\n",
    "d = copy.deepcopy(a)"
   ]
  },
  {
   "cell_type": "code",
   "execution_count": 3,
   "metadata": {},
   "outputs": [
    {
     "name": "stdout",
     "output_type": "stream",
     "text": [
      "[0, 'un', 2, 3, 4, 5, 6, 7, 8, 9, [10, 11, 12]]\n",
      "[0, 'un', 2, 3, 4, 5, 6, 7, 8, 9, [10, 11, 12]]\n",
      "[0, 1, 2, 3, 4, 5, 6, 7, 8, 9, [10, 11, 12]]\n",
      "[0, 1, 2, 3, 4, 5, 6, 7, 8, 9, [10, 11, 12]]\n"
     ]
    }
   ],
   "source": [
    "a[1] = \"un\"\n",
    "print(a)\n",
    "print(b)\n",
    "print(c)\n",
    "print(d)"
   ]
  },
  {
   "cell_type": "markdown",
   "metadata": {},
   "source": [
    "## Deep copy"
   ]
  },
  {
   "cell_type": "code",
   "execution_count": 4,
   "metadata": {},
   "outputs": [
    {
     "name": "stdout",
     "output_type": "stream",
     "text": [
      "[0, 'un', 2, 3, 4, 5, 6, 7, 8, 9, [10, 'onze', 12]]\n",
      "[0, 'un', 2, 3, 4, 5, 6, 7, 8, 9, [10, 'onze', 12]]\n",
      "[0, 1, 2, 3, 4, 5, 6, 7, 8, 9, [10, 'onze', 12]]\n",
      "[0, 1, 2, 3, 4, 5, 6, 7, 8, 9, [10, 11, 12]]\n"
     ]
    }
   ],
   "source": [
    "a[10][1] = \"onze\"\n",
    "print(a)\n",
    "print(b)\n",
    "print(c)\n",
    "print(d)"
   ]
  },
  {
   "cell_type": "markdown",
   "metadata": {},
   "source": [
    "# Operator is"
   ]
  },
  {
   "cell_type": "code",
   "execution_count": 5,
   "metadata": {},
   "outputs": [
    {
     "name": "stdout",
     "output_type": "stream",
     "text": [
      "True\n",
      "True\n"
     ]
    }
   ],
   "source": [
    "print(a == b)\n",
    "print(a is b)\n"
   ]
  },
  {
   "cell_type": "code",
   "execution_count": 9,
   "metadata": {
    "scrolled": true
   },
   "outputs": [
    {
     "name": "stdout",
     "output_type": "stream",
     "text": [
      "False\n",
      "False\n",
      "True\n",
      "True\n"
     ]
    }
   ],
   "source": [
    "print(a == c)\n",
    "print(a is c)\n",
    "print(a[10] is c[10])\n",
    "print(a[10][1] is c[10][1])"
   ]
  },
  {
   "cell_type": "code",
   "execution_count": 16,
   "metadata": {
    "scrolled": true
   },
   "outputs": [
    {
     "name": "stdout",
     "output_type": "stream",
     "text": [
      "False\n",
      "False\n",
      "False\n",
      "False\n"
     ]
    }
   ],
   "source": [
    "print(a == d)\n",
    "print(a is d)\n",
    "print(a[10] is d[10])\n",
    "print(a[10][1] is d[10][1])"
   ]
  },
  {
   "cell_type": "code",
   "execution_count": 11,
   "metadata": {},
   "outputs": [],
   "source": [
    "a[10] = [14, 15]"
   ]
  },
  {
   "cell_type": "code",
   "execution_count": 12,
   "metadata": {},
   "outputs": [
    {
     "name": "stdout",
     "output_type": "stream",
     "text": [
      "[0, 'un', 2, 3, 4, 5, 6, 7, 8, 9, [14, 15]]\n",
      "[0, 'un', 2, 3, 4, 5, 6, 7, 8, 9, [14, 15]]\n",
      "[0, 1, 2, 3, 4, 5, 6, 7, 8, 9, [10, 'onze', 12]]\n",
      "[0, 1, 2, 3, 4, 5, 6, 7, 8, 9, [10, 11, 12]]\n"
     ]
    }
   ],
   "source": [
    "print(a)\n",
    "print(b)\n",
    "print(c)\n",
    "print(d)"
   ]
  },
  {
   "cell_type": "code",
   "execution_count": 13,
   "metadata": {
    "scrolled": true
   },
   "outputs": [
    {
     "name": "stdout",
     "output_type": "stream",
     "text": [
      "False\n",
      "False\n",
      "False\n",
      "False\n"
     ]
    }
   ],
   "source": [
    "print(a == c)\n",
    "print(a is c)\n",
    "print(a[10] is c[10])\n",
    "print(a[10][1] is c[10][1])"
   ]
  },
  {
   "cell_type": "code",
   "execution_count": 15,
   "metadata": {
    "scrolled": true
   },
   "outputs": [
    {
     "name": "stdout",
     "output_type": "stream",
     "text": [
      "False\n",
      "False\n",
      "False\n",
      "False\n"
     ]
    }
   ],
   "source": [
    "print(a == d)\n",
    "print(a is d)\n",
    "print(a[10] is d[10])\n",
    "print(a[10][1] is d[10][1])"
   ]
  },
  {
   "cell_type": "markdown",
   "metadata": {},
   "source": [
    "## id function"
   ]
  },
  {
   "cell_type": "code",
   "execution_count": 18,
   "metadata": {},
   "outputs": [
    {
     "name": "stdout",
     "output_type": "stream",
     "text": [
      "2792750361928\n",
      "2792750361928\n",
      "2792749577736\n",
      "id(a[10]): 2792749653128\n",
      "id(c[10]): 2792749580104\n",
      "2792749578504\n",
      "id(a[10]): 2792749653128\n",
      "id(d[10]): 2792749578120\n"
     ]
    }
   ],
   "source": [
    "print(id(a))\n",
    "print(id(b))\n",
    "\n",
    "print(id(c))\n",
    "\n",
    "print(f\"id(a[10]): {id(a[10])}\")\n",
    "print(f\"id(c[10]): {id(c[10])}\")\n",
    "\n",
    "print(id(d))\n",
    "print(f\"id(a[10]): {id(a[10])}\")\n",
    "print(f\"id(d[10]): {id(d[10])}\")\n"
   ]
  },
  {
   "cell_type": "code",
   "execution_count": 19,
   "metadata": {},
   "outputs": [
    {
     "name": "stdout",
     "output_type": "stream",
     "text": [
      "a 140727970009984 b 140727970009984\n"
     ]
    }
   ],
   "source": [
    "a = 3\n",
    "b = 3\n",
    "print('a', id(a), 'b', id(b))"
   ]
  },
  {
   "cell_type": "code",
   "execution_count": 20,
   "metadata": {},
   "outputs": [
    {
     "data": {
      "text/plain": [
       "True"
      ]
     },
     "execution_count": 20,
     "metadata": {},
     "output_type": "execute_result"
    }
   ],
   "source": [
    "a is b"
   ]
  },
  {
   "cell_type": "code",
   "execution_count": 21,
   "metadata": {},
   "outputs": [
    {
     "data": {
      "text/plain": [
       "True"
      ]
     },
     "execution_count": 21,
     "metadata": {},
     "output_type": "execute_result"
    }
   ],
   "source": [
    "a = \"foo\"\n",
    "b = \"foo\"\n",
    "a is b"
   ]
  },
  {
   "cell_type": "markdown",
   "metadata": {},
   "source": [
    "# Objects, values and types: documentation"
   ]
  },
  {
   "cell_type": "markdown",
   "metadata": {},
   "source": [
    "https://docs.python.org/3/reference/datamodel.html#objects-values-and-types"
   ]
  },
  {
   "cell_type": "markdown",
   "metadata": {},
   "source": [
    "# Circular objects"
   ]
  },
  {
   "cell_type": "code",
   "execution_count": 24,
   "metadata": {},
   "outputs": [],
   "source": [
    "%load_ext ipythontutor"
   ]
  },
  {
   "cell_type": "code",
   "execution_count": 25,
   "metadata": {},
   "outputs": [
    {
     "name": "stdout",
     "output_type": "stream",
     "text": [
      "[{'x': 10, 'y': 20, 'z': 30, 'vectors': [...]}, {'x': 400, 'y': 500, 't': 1000, 'vectors': [...]}]\n"
     ]
    }
   ],
   "source": [
    "vector_set = [\n",
    "    {'x': 10,'y': 20, 'z': 30},\n",
    "    {'x': 400,'y': 500, 't': 1000},\n",
    "    \n",
    "]\n",
    "\n",
    "for vect in vector_set:\n",
    "    vect['vectors'] = vector_set\n",
    "\n",
    "\n",
    "print(vector_set)"
   ]
  },
  {
   "cell_type": "code",
   "execution_count": 27,
   "metadata": {},
   "outputs": [
    {
     "name": "stdout",
     "output_type": "stream",
     "text": [
      "ipythontutor - cannot understand curInstr - ignored\n",
      "ipythontutor unknown parameter >< - ignored\n",
      "ipythontutor - cannot understand 0 - ignored\n"
     ]
    },
    {
     "data": {
      "application/vnd.jupyter.widget-view+json": {
       "model_id": "d07d8abb87294342ad0f949a039b1b7b",
       "version_major": 2,
       "version_minor": 0
      },
      "text/plain": [
       "HTML(value='<style>#ipythontutor3 </style><style>#ipythontutor4 { max-width:750px; max-height:300px; box-sizin…"
      ]
     },
     "metadata": {},
     "output_type": "display_data"
    }
   ],
   "source": [
    "%%ipythontutor curInstr = 0\n",
    "vector_set = [\n",
    "    {'x': 10,'y': 20, 'z': 30},\n",
    "    {'x': 400,'y': 500, 't': 1000},\n",
    "    \n",
    "]\n",
    "\n",
    "for vect in vector_set:\n",
    "    vect['vectors'] = vector_set\n",
    "\n",
    "\n",
    "print(vector_set)"
   ]
  },
  {
   "cell_type": "code",
   "execution_count": 31,
   "metadata": {},
   "outputs": [
    {
     "data": {
      "text/plain": [
       "True"
      ]
     },
     "execution_count": 31,
     "metadata": {},
     "output_type": "execute_result"
    }
   ],
   "source": [
    "infini_1 = [None]\n",
    "infini_1[0] = infini_1\n",
    "infini_1 == infini_1"
   ]
  },
  {
   "cell_type": "code",
   "execution_count": 28,
   "metadata": {},
   "outputs": [
    {
     "data": {
      "application/vnd.jupyter.widget-view+json": {
       "model_id": "bc85d3737bb7469b86c8f25a82d5fb98",
       "version_major": 2,
       "version_minor": 0
      },
      "text/plain": [
       "HTML(value='<style>#ipythontutor5 </style><style>#ipythontutor6 { max-width:750px; max-height:230px; box-sizin…"
      ]
     },
     "metadata": {},
     "output_type": "display_data"
    }
   ],
   "source": [
    "%%ipythontutor height=230\n",
    "infini_1 = [None]\n",
    "infini_1[0] = infini_1"
   ]
  },
  {
   "cell_type": "markdown",
   "metadata": {},
   "source": [
    "### Copy module documentation\n",
    "\n",
    "https://docs.python.org/3/library/copy.html"
   ]
  },
  {
   "cell_type": "markdown",
   "metadata": {},
   "source": [
    "###  instruction del\n",
    "\n",
    "in order to delete a defined variable : del\n",
    "\n",
    "documentation : https://docs.python.org/3/reference/simple_stmts.html#the-del-statement"
   ]
  },
  {
   "cell_type": "code",
   "execution_count": 32,
   "metadata": {},
   "outputs": [
    {
     "data": {
      "text/plain": [
       "{'un': 1, 'deux': 2, 'trois': 3}"
      ]
     },
     "execution_count": 32,
     "metadata": {},
     "output_type": "execute_result"
    }
   ],
   "source": [
    "d1 = { \"un\":1, \"deux\": 2, \"trois\":3}\n",
    "d1"
   ]
  },
  {
   "cell_type": "code",
   "execution_count": 33,
   "metadata": {},
   "outputs": [
    {
     "data": {
      "text/plain": [
       "{'un': 1, 'trois': 3}"
      ]
     },
     "execution_count": 33,
     "metadata": {},
     "output_type": "execute_result"
    }
   ],
   "source": [
    "del d1[\"deux\"]\n",
    "d1"
   ]
  },
  {
   "cell_type": "code",
   "execution_count": 34,
   "metadata": {},
   "outputs": [
    {
     "ename": "NameError",
     "evalue": "name 'd1' is not defined",
     "output_type": "error",
     "traceback": [
      "\u001b[1;31m---------------------------------------------------------------------------\u001b[0m",
      "\u001b[1;31mNameError\u001b[0m                                 Traceback (most recent call last)",
      "\u001b[1;32m<ipython-input-34-cf16fb8c3a36>\u001b[0m in \u001b[0;36m<module>\u001b[1;34m\u001b[0m\n\u001b[0;32m      1\u001b[0m \u001b[1;32mdel\u001b[0m \u001b[0md1\u001b[0m\u001b[1;33m\u001b[0m\u001b[1;33m\u001b[0m\u001b[0m\n\u001b[1;32m----> 2\u001b[1;33m \u001b[0md1\u001b[0m \u001b[1;32mis\u001b[0m \u001b[1;32mNone\u001b[0m\u001b[1;33m\u001b[0m\u001b[1;33m\u001b[0m\u001b[0m\n\u001b[0m",
      "\u001b[1;31mNameError\u001b[0m: name 'd1' is not defined"
     ]
    }
   ],
   "source": [
    "del d1\n",
    "d1 is None"
   ]
  },
  {
   "cell_type": "code",
   "execution_count": null,
   "metadata": {},
   "outputs": [],
   "source": []
  }
 ],
 "metadata": {
  "kernelspec": {
   "display_name": "Python 3",
   "language": "python",
   "name": "python3"
  },
  "language_info": {
   "codemirror_mode": {
    "name": "ipython",
    "version": 3
   },
   "file_extension": ".py",
   "mimetype": "text/x-python",
   "name": "python",
   "nbconvert_exporter": "python",
   "pygments_lexer": "ipython3",
   "version": "3.7.3"
  }
 },
 "nbformat": 4,
 "nbformat_minor": 2
}
